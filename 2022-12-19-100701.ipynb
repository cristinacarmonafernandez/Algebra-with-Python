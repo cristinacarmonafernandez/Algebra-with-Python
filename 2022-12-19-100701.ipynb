{
 "cells": [
  {
   "cell_type": "code",
   "execution_count": 1,
   "metadata": {
    "collapsed": false
   },
   "outputs": [
   ],
   "source": [
    "#EJERCICIO 3"
   ]
  },
  {
   "cell_type": "code",
   "execution_count": 14,
   "metadata": {
    "collapsed": false
   },
   "outputs": [
   ],
   "source": [
    "R.<t,x,y,z>=PolynomialRing(GF(5), order='deglex')"
   ]
  },
  {
   "cell_type": "code",
   "execution_count": 15,
   "metadata": {
    "collapsed": false
   },
   "outputs": [
   ],
   "source": [
    "f1=R((x^2*y*z^2-2*x*z^3))\n",
    "f2=R((2*x*y^2*z-x*y*z^2))\n",
    "f3=R((x^2*z+4*y^2*z))\n",
    "f4=R(x^2+x*y+x*z+y*z)"
   ]
  },
  {
   "cell_type": "code",
   "execution_count": 16,
   "metadata": {
    "collapsed": false
   },
   "outputs": [
   ],
   "source": [
    "I=R.ideal([t*f1,t*f2,(1-t)*f3])"
   ]
  },
  {
   "cell_type": "code",
   "execution_count": 17,
   "metadata": {
    "collapsed": false
   },
   "outputs": [
    {
     "data": {
      "text/plain": [
       "[x^4*z^4 - x^2*y^2*z^4 + x^3*z^4 - x*y^2*z^4, t*x*z^5 - t*y^2*z^3 - 2*x^3*y*z^2 + 2*x*y^3*z^2 - x^2*z^3 + y^2*z^3, t*y^2*z^4 + t*x*z^4 + x^2*z^4 - y^2*z^4, x^4*y*z^2 - x^2*y^3*z^2 - 2*x^3*z^3 + 2*x*y^2*z^3, x^3*y*z^3 + 2*x^3*z^4 - x*y^3*z^3 - 2*x*y^2*z^4, t*x*y*z^3 + 2*t*x*z^4, t*y^4*z - t*x*z^3 + x^2*y^2*z - y^4*z, t*y^3*z^2 - 2*t*x*z^3 + x^2*y*z^2 - y^3*z^2, x^3*y^2*z + 2*x^3*y*z^2 - x*y^4*z - 2*x*y^3*z^2, t*x*y^2*z + 2*t*x*y*z^2, t*x^2*z - t*y^2*z - x^2*z + y^2*z]"
      ]
     },
     "execution_count": 17,
     "metadata": {
     },
     "output_type": "execute_result"
    }
   ],
   "source": [
    "G=I.groebner_basis()\n",
    "G"
   ]
  },
  {
   "cell_type": "code",
   "execution_count": 18,
   "metadata": {
    "collapsed": false
   },
   "outputs": [
    {
     "name": "stdout",
     "output_type": "stream",
     "text": [
      "x^4*z^4 - x^2*y^2*z^4 + x^3*z^4 - x*y^2*z^4\n",
      "t*x*z^5 - t*y^2*z^3 - 2*x^3*y*z^2 + 2*x*y^3*z^2 - x^2*z^3 + y^2*z^3\n",
      "t*y^2*z^4 + t*x*z^4 + x^2*z^4 - y^2*z^4\n",
      "x^4*y*z^2 - x^2*y^3*z^2 - 2*x^3*z^3 + 2*x*y^2*z^3\n",
      "x^3*y*z^3 + 2*x^3*z^4 - x*y^3*z^3 - 2*x*y^2*z^4\n",
      "t*x*y*z^3 + 2*t*x*z^4\n",
      "t*y^4*z - t*x*z^3 + x^2*y^2*z - y^4*z\n",
      "t*y^3*z^2 - 2*t*x*z^3 + x^2*y*z^2 - y^3*z^2\n",
      "x^3*y^2*z + 2*x^3*y*z^2 - x*y^4*z - 2*x*y^3*z^2\n",
      "t*x*y^2*z + 2*t*x*y*z^2\n",
      "t*x^2*z - t*y^2*z - x^2*z + y^2*z\n"
     ]
    }
   ],
   "source": [
    "i=0\n",
    "for ele in G:\n",
    "    print(G[i])\n",
    "    i +=1"
   ]
  },
  {
   "cell_type": "code",
   "execution_count": 0,
   "metadata": {
    "collapsed": false
   },
   "outputs": [
   ],
   "source": [
   ]
  },
  {
   "cell_type": "code",
   "execution_count": 19,
   "metadata": {
    "collapsed": false
   },
   "outputs": [
    {
     "name": "stdout",
     "output_type": "stream",
     "text": [
      "x^2*z^3 + x*z^3\n",
      "(t*x*z^4 - t*y^2*z^2 - 2*x^3*y*z + 2*x*y^3*z - x^2*z^2 + y^2*z^2)/(x^2 - y^2)\n",
      "(t*y^2*z^3 + t*x*z^3 + x^2*z^3 - y^2*z^3)/(x^2 - y^2)\n",
      "x^2*y*z - 2*x*z^2\n",
      "x*y*z^2 + 2*x*z^3\n",
      "(t*x*y*z^2 + 2*t*x*z^3)/(x^2 - y^2)\n",
      "(t*y^4 - t*x*z^2 + x^2*y^2 - y^4)/(x^2 - y^2)\n",
      "(t*y^3*z - 2*t*x*z^2 + x^2*y*z - y^3*z)/(x^2 - y^2)\n",
      "x*y^2 + 2*x*y*z\n",
      "(t*x*y^2 + 2*t*x*y*z)/(x^2 - y^2)\n",
      "t - 1\n"
     ]
    }
   ],
   "source": [
    "i=0\n",
    "for ele in G:\n",
    "    print(G[i]/f3)\n",
    "    i +=1"
   ]
  },
  {
   "cell_type": "code",
   "execution_count": 20,
   "metadata": {
    "collapsed": false
   },
   "outputs": [
   ],
   "source": [
    "J=R.ideal([t*f1,t*f2,(1-t)*f4])"
   ]
  },
  {
   "cell_type": "code",
   "execution_count": 24,
   "metadata": {
    "collapsed": false
   },
   "outputs": [
    {
     "data": {
      "text/plain": [
       "[x^4*z^4 - x^3*z^5 - x^2*y^2*z^4 - 2*x^2*y*z^5 - 2*x^2*z^6 - x*y^2*z^5 - 2*x*y*z^6 + x^3*z^4 + x^2*y*z^4 + x^2*z^5 + x*y*z^5, t*y^2*z^4 - t*y^2*z^3 + t*y*z^4 - 2*x^3*y*z^2 - 2*x^2*y^2*z^2 + 2*x^2*y*z^3 + 2*x*y^2*z^3 - x*y*z^4 - y^2*z^4 - 2*t*x*z^3 + x^2*y*z^2 - x^2*z^3 + x*y^2*z^2 - x*z^4 + y^2*z^3 - y*z^4, t*y*z^5 - 2*t*y^2*z^3 + 2*t*y*z^4 + x^3*y*z^2 + x^2*y^2*z^2 + x^2*y*z^3 - x^2*z^4 + x*y^2*z^3 - x*y*z^4 - x*z^5 - y*z^5 + t*x*z^3 + 2*x^2*y*z^2 - 2*x^2*z^3 + 2*x*y^2*z^2 - 2*x*z^4 + 2*y^2*z^3 - 2*y*z^4, x^4*y*z^2 + 2*x^3*z^4 - x^2*y^3*z^2 - x^2*y^2*z^3 + x^2*y*z^4 + 2*x^2*z^5 - x*y^3*z^3 - x*y^2*z^4 + 2*x*y*z^5 - 2*x^3*z^3 - 2*x^2*y*z^3 - 2*x^2*z^4 - 2*x*y*z^4, x^3*y*z^3 + 2*x^3*z^4 + x^2*y^2*z^3 - 2*x^2*y*z^4 + 2*x^2*z^5 + x*y^2*z^4 + 2*x*y*z^5, t*x*y*z^3 - t*y^2*z^3 - 2*t*x*z^3 + x^2*y*z^2 + x*y^2*z^2 + x*y*z^3 + y^2*z^3, t*x*z^4 - 2*t*y^2*z^3 + t*x*z^3 + 2*x^2*y*z^2 + 2*x*y^2*z^2 + 2*x*y*z^3 + 2*y^2*z^3, t*y^3*z^2 + 2*t*y^2*z^3 - x^2*y^2*z - 2*x^2*y*z^2 - x*y^3*z + 2*x*y^2*z^2 - 2*x*y*z^3 - y^3*z^2 - 2*y^2*z^3, x^3*y^2*z + 2*x^3*y*z^2 + x^2*y^3*z - 2*x^2*y^2*z^2 + 2*x^2*y*z^3 + x*y^3*z^2 + 2*x*y^2*z^3, t*x*y^2*z + 2*t*x*y*z^2, t*x^2 + t*x*y + t*x*z + t*y*z - x^2 - x*y - x*z - y*z]"
      ]
     },
     "execution_count": 24,
     "metadata": {
     },
     "output_type": "execute_result"
    }
   ],
   "source": [
    "H=J.groebner_basis()\n",
    "H"
   ]
  },
  {
   "cell_type": "code",
   "execution_count": 25,
   "metadata": {
    "collapsed": false
   },
   "outputs": [
    {
     "name": "stdout",
     "output_type": "stream",
     "text": [
      "x^4*z^4 - x^3*z^5 - x^2*y^2*z^4 - 2*x^2*y*z^5 - 2*x^2*z^6 - x*y^2*z^5 - 2*x*y*z^6 + x^3*z^4 + x^2*y*z^4 + x^2*z^5 + x*y*z^5\n",
      "t*y^2*z^4 - t*y^2*z^3 + t*y*z^4 - 2*x^3*y*z^2 - 2*x^2*y^2*z^2 + 2*x^2*y*z^3 + 2*x*y^2*z^3 - x*y*z^4 - y^2*z^4 - 2*t*x*z^3 + x^2*y*z^2 - x^2*z^3 + x*y^2*z^2 - x*z^4 + y^2*z^3 - y*z^4\n",
      "t*y*z^5 - 2*t*y^2*z^3 + 2*t*y*z^4 + x^3*y*z^2 + x^2*y^2*z^2 + x^2*y*z^3 - x^2*z^4 + x*y^2*z^3 - x*y*z^4 - x*z^5 - y*z^5 + t*x*z^3 + 2*x^2*y*z^2 - 2*x^2*z^3 + 2*x*y^2*z^2 - 2*x*z^4 + 2*y^2*z^3 - 2*y*z^4\n",
      "x^4*y*z^2 + 2*x^3*z^4 - x^2*y^3*z^2 - x^2*y^2*z^3 + x^2*y*z^4 + 2*x^2*z^5 - x*y^3*z^3 - x*y^2*z^4 + 2*x*y*z^5 - 2*x^3*z^3 - 2*x^2*y*z^3 - 2*x^2*z^4 - 2*x*y*z^4\n",
      "x^3*y*z^3 + 2*x^3*z^4 + x^2*y^2*z^3 - 2*x^2*y*z^4 + 2*x^2*z^5 + x*y^2*z^4 + 2*x*y*z^5\n",
      "t*x*y*z^3 - t*y^2*z^3 - 2*t*x*z^3 + x^2*y*z^2 + x*y^2*z^2 + x*y*z^3 + y^2*z^3\n",
      "t*x*z^4 - 2*t*y^2*z^3 + t*x*z^3 + 2*x^2*y*z^2 + 2*x*y^2*z^2 + 2*x*y*z^3 + 2*y^2*z^3\n",
      "t*y^3*z^2 + 2*t*y^2*z^3 - x^2*y^2*z - 2*x^2*y*z^2 - x*y^3*z + 2*x*y^2*z^2 - 2*x*y*z^3 - y^3*z^2 - 2*y^2*z^3\n",
      "x^3*y^2*z + 2*x^3*y*z^2 + x^2*y^3*z - 2*x^2*y^2*z^2 + 2*x^2*y*z^3 + x*y^3*z^2 + 2*x*y^2*z^3\n",
      "t*x*y^2*z + 2*t*x*y*z^2\n",
      "t*x^2 + t*x*y + t*x*z + t*y*z - x^2 - x*y - x*z - y*z\n"
     ]
    }
   ],
   "source": [
    "i=0\n",
    "for ele in H:\n",
    "    print(H[i])\n",
    "    i +=1"
   ]
  },
  {
   "cell_type": "code",
   "execution_count": 26,
   "metadata": {
    "collapsed": false
   },
   "outputs": [
    {
     "name": "stdout",
     "output_type": "stream",
     "text": [
      "x^2*z^4 - x*y*z^4 - 2*x*z^5 + x*z^4\n",
      "(t*y^2*z^4 - t*y^2*z^3 + t*y*z^4 - 2*x^3*y*z^2 - 2*x^2*y^2*z^2 + 2*x^2*y*z^3 + 2*x*y^2*z^3 - x*y*z^4 - y^2*z^4 - 2*t*x*z^3 + x^2*y*z^2 - x^2*z^3 + x*y^2*z^2 - x*z^4 + y^2*z^3 - y*z^4)/(x^2 + x*y + x*z + y*z)\n",
      "(t*y*z^5 - 2*t*y^2*z^3 + 2*t*y*z^4 + x^3*y*z^2 + x^2*y^2*z^2 + x^2*y*z^3 - x^2*z^4 + x*y^2*z^3 - x*y*z^4 - x*z^5 - y*z^5 + t*x*z^3 + 2*x^2*y*z^2 - 2*x^2*z^3 + 2*x*y^2*z^2 - 2*x*z^4 + 2*y^2*z^3 - 2*y*z^4)/(x^2 + x*y + x*z + y*z)\n",
      "x^2*y*z^2 - x*y^2*z^2 - x*y*z^3 + 2*x*z^4 - 2*x*z^3\n",
      "x*y*z^3 + 2*x*z^4\n",
      "(t*x*y*z^3 - t*y^2*z^3 - 2*t*x*z^3 + x^2*y*z^2 + x*y^2*z^2 + x*y*z^3 + y^2*z^3)/(x^2 + x*y + x*z + y*z)\n",
      "(t*x*z^4 - 2*t*y^2*z^3 + t*x*z^3 + 2*x^2*y*z^2 + 2*x*y^2*z^2 + 2*x*y*z^3 + 2*y^2*z^3)/(x^2 + x*y + x*z + y*z)\n",
      "(t*y^3*z^2 + 2*t*y^2*z^3 - x^2*y^2*z - 2*x^2*y*z^2 - x*y^3*z + 2*x*y^2*z^2 - 2*x*y*z^3 - y^3*z^2 - 2*y^2*z^3)/(x^2 + x*y + x*z + y*z)\n",
      "x*y^2*z + 2*x*y*z^2\n",
      "(t*x*y^2*z + 2*t*x*y*z^2)/(x^2 + x*y + x*z + y*z)\n",
      "t - 1\n"
     ]
    }
   ],
   "source": [
    "i=0\n",
    "for ele in H:\n",
    "    print(H[i]/f4)\n",
    "    i +=1"
   ]
  },
  {
   "cell_type": "code",
   "execution_count": 27,
   "metadata": {
    "collapsed": false
   },
   "outputs": [
   ],
   "source": [
    "g1=R(x^2*z^3 + x*z^3)\n",
    "g2=R(x^2*y*z - 2*x*z^2)\n",
    "g3=R(x*y*z^2 + 2*x*z^3)\n",
    "g4=R(x*y^2 + 2*x*y*z)\n",
    "h1=R(x^2*z^4 - x*y*z^4 - 2*x*z^5 + x*z^4)\n",
    "h2=R(x^2*y*z^2 - x*y^2*z^2 - x*y*z^3 + 2*x*z^4 - 2*x*z^3)\n",
    "h3=R(x*y*z^3 + 2*x*z^4)\n",
    "h4=R(x*y^2*z + 2*x*y*z^2)"
   ]
  },
  {
   "cell_type": "code",
   "execution_count": 28,
   "metadata": {
    "collapsed": false
   },
   "outputs": [
   ],
   "source": [
    "J=R.ideal([t*g1,t*g2,t*g3,t*g4,(1-t)*h1,(1-t)*h2,(1-t)*h3,(1-t)*h4])"
   ]
  },
  {
   "cell_type": "code",
   "execution_count": 29,
   "metadata": {
    "collapsed": false
   },
   "outputs": [
    {
     "data": {
      "text/plain": [
       "[t*x^2*z^3 + t*x*z^3, x^2*z^4 + x*z^4, t*x^2*y*z - 2*t*x*z^2, t*x*y*z^2 + 2*t*x*z^3, x^2*y*z^2 - 2*x*z^3, x*y*z^3 + 2*x*z^4, t*x*y^2 + 2*t*x*y*z, x*y^2*z + 2*x*y*z^2]"
      ]
     },
     "execution_count": 29,
     "metadata": {
     },
     "output_type": "execute_result"
    }
   ],
   "source": [
    "K=J.groebner_basis()\n",
    "K"
   ]
  },
  {
   "cell_type": "code",
   "execution_count": 0,
   "metadata": {
    "collapsed": false
   },
   "outputs": [
   ],
   "source": [
   ]
  }
 ],
 "metadata": {
  "kernelspec": {
   "display_name": "SageMath 9.7",
   "language": "sagemath",
   "metadata": {
    "cocalc": {
     "description": "Open-source mathematical software system",
     "priority": 10,
     "url": "https://www.sagemath.org/"
    }
   },
   "name": "sage-9.7",
   "resource_dir": "/ext/jupyter/kernels/sage-9.7"
  },
  "language_info": {
   "codemirror_mode": {
    "name": "ipython",
    "version": 2
   },
   "file_extension": ".py",
   "mimetype": "text/x-python",
   "name": "python",
   "nbconvert_exporter": "python",
   "pygments_lexer": "ipython2",
   "version": "2.7.12+"
  }
 },
 "nbformat": 4,
 "nbformat_minor": 4
}