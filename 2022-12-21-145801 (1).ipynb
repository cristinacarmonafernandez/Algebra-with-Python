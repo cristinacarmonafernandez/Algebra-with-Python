{
 "cells": [
  {
   "cell_type": "code",
   "execution_count": 12,
   "metadata": {
    "collapsed": false
   },
   "outputs": [
   ],
   "source": [
    "R.<t,u,v,w>=PolynomialRing(GF(3), order='lex')"
   ]
  },
  {
   "cell_type": "code",
   "execution_count": 13,
   "metadata": {
    "collapsed": false
   },
   "outputs": [
   ],
   "source": [
    "f1=R(u*w^2-v*w^2-u*v+v^2+w^2-v)\n",
    "f2=R(-u^2*v+u*v^2-v^2+v)\n",
    "f3=R(-u^2-u*v-v^2+u*w-v*w+u-v+w+2)\n",
    "f4=R(-u^2-u*v-v^2+1)"
   ]
  },
  {
   "cell_type": "code",
   "execution_count": 14,
   "metadata": {
    "collapsed": false
   },
   "outputs": [
   ],
   "source": [
    "I=R.ideal([t*f1,t*f2,(1-t)*f3])"
   ]
  },
  {
   "cell_type": "code",
   "execution_count": 15,
   "metadata": {
    "collapsed": false
   },
   "outputs": [
    {
     "data": {
      "text/plain": [
       "[t*u^2 + t*u*w^2 - t*u*w - t*u - t*v^2 - t*v*w^2 + t*v*w + t*w^2 - t*w + t - u^2 - u*v + u*w + u - v^2 - v*w - v + w - 1, t*u*v - t*u*w^2 - t*v^2 + t*v*w^2 + t*v - t*w^2, t*u*w^4 + t*u*w^3 + t*u*w^2 - t*v*w^4 - t*v*w^3 - t*v*w^2 + t*w^4 + t*w^3 + t*w^2 + u^2*w^2 + u*v*w^2 - u*w^3 - u*w^2 + v^2*w^2 + v*w^3 + v*w^2 - w^3 + w^2, u^3*w^2 + u^2*w^4 - u^2*w^3 + u^2*w^2 + u*v*w^4 - u*v*w^3 + u*v*w^2 - u*w^5 - u*w^4 - u*w^2 - v^3*w^2 + v^2*w^4 - v^2*w^3 + v^2*w^2 + v*w^5 + v*w^4 + v*w^2 - w^5 + w^4 + w^3 - w^2, u^2*v - u^2*w^2 + u*v^2 - u*v*w^2 - u*v*w - u*v + u*w^3 + u*w^2 + v^3 - v^2*w^2 + v^2*w + v^2 - v*w^3 - v*w^2 - v*w + v + w^3 - w^2]"
      ]
     },
     "execution_count": 15,
     "metadata": {
     },
     "output_type": "execute_result"
    }
   ],
   "source": [
    "G=I.groebner_basis()\n",
    "G"
   ]
  },
  {
   "cell_type": "code",
   "execution_count": 16,
   "metadata": {
    "collapsed": false
   },
   "outputs": [
    {
     "name": "stdout",
     "output_type": "stream",
     "text": [
      "t*u^2 + t*u*w^2 - t*u*w - t*u - t*v^2 - t*v*w^2 + t*v*w + t*w^2 - t*w + t - u^2 - u*v + u*w + u - v^2 - v*w - v + w - 1\n",
      "t*u*v - t*u*w^2 - t*v^2 + t*v*w^2 + t*v - t*w^2\n",
      "t*u*w^4 + t*u*w^3 + t*u*w^2 - t*v*w^4 - t*v*w^3 - t*v*w^2 + t*w^4 + t*w^3 + t*w^2 + u^2*w^2 + u*v*w^2 - u*w^3 - u*w^2 + v^2*w^2 + v*w^3 + v*w^2 - w^3 + w^2\n",
      "u^3*w^2 + u^2*w^4 - u^2*w^3 + u^2*w^2 + u*v*w^4 - u*v*w^3 + u*v*w^2 - u*w^5 - u*w^4 - u*w^2 - v^3*w^2 + v^2*w^4 - v^2*w^3 + v^2*w^2 + v*w^5 + v*w^4 + v*w^2 - w^5 + w^4 + w^3 - w^2\n",
      "u^2*v - u^2*w^2 + u*v^2 - u*v*w^2 - u*v*w - u*v + u*w^3 + u*w^2 + v^3 - v^2*w^2 + v^2*w + v^2 - v*w^3 - v*w^2 - v*w + v + w^3 - w^2\n"
     ]
    }
   ],
   "source": [
    "i=0\n",
    "for ele in G:\n",
    "    print(G[i])\n",
    "    i+=1"
   ]
  },
  {
   "cell_type": "code",
   "execution_count": 17,
   "metadata": {
    "collapsed": false
   },
   "outputs": [
    {
     "name": "stdout",
     "output_type": "stream",
     "text": [
      "(t*u + t*v + t*w^2 - t*w + t - u + v + w - 1)/(-u + v + w - 1)\n",
      "(t*v - t*w^2)/(-u + v + w - 1)\n",
      "(t*w^4 + t*w^3 + t*w^2 + u*w^2 - v*w^2 - w^3 + w^2)/(-u + v + w - 1)\n",
      "-u*w^2 + v*w^2 - w^4 + w^2\n",
      "-v + w^2\n"
     ]
    }
   ],
   "source": [
    "i=0\n",
    "for ele in G:\n",
    "    print(G[i]/f3)\n",
    "    i+=1"
   ]
  },
  {
   "cell_type": "code",
   "execution_count": 18,
   "metadata": {
    "collapsed": false
   },
   "outputs": [
   ],
   "source": [
    "K=R.ideal([t*f1,t*f2,(1-t)*f4])"
   ]
  },
  {
   "cell_type": "code",
   "execution_count": 19,
   "metadata": {
    "collapsed": false
   },
   "outputs": [
    {
     "data": {
      "text/plain": [
       "[t*u^2 + t*u*w^2 - t*v^2 - t*v*w^2 - t*v + t*w^2 - t - u^2 - u*v - v^2 + 1, t*u*v - t*u*w^2 - t*v^2 + t*v*w^2 + t*v - t*w^2, t*u*w^4 - t*v*w^4 + t*w^4 + u^2*w^2 + u*v*w^2 + v^2*w^2 - w^2, u^3*w^2 + u^2*w^4 - u^2*w^2 + u*v*w^4 - u*v*w^2 - u*w^2 - v^3*w^2 + v^2*w^4 - v^2*w^2 + v*w^2 - w^4 + w^2, u^2*v - u^2*w^2 + u*v^2 - u*v*w^2 + v^3 - v^2*w^2 - v + w^2]"
      ]
     },
     "execution_count": 19,
     "metadata": {
     },
     "output_type": "execute_result"
    }
   ],
   "source": [
    "H=K.groebner_basis()\n",
    "H"
   ]
  },
  {
   "cell_type": "code",
   "execution_count": 20,
   "metadata": {
    "collapsed": false
   },
   "outputs": [
    {
     "name": "stdout",
     "output_type": "stream",
     "text": [
      "t*u^2 + t*u*w^2 - t*v^2 - t*v*w^2 - t*v + t*w^2 - t - u^2 - u*v - v^2 + 1\n",
      "t*u*v - t*u*w^2 - t*v^2 + t*v*w^2 + t*v - t*w^2\n",
      "t*u*w^4 - t*v*w^4 + t*w^4 + u^2*w^2 + u*v*w^2 + v^2*w^2 - w^2\n",
      "u^3*w^2 + u^2*w^4 - u^2*w^2 + u*v*w^4 - u*v*w^2 - u*w^2 - v^3*w^2 + v^2*w^4 - v^2*w^2 + v*w^2 - w^4 + w^2\n",
      "u^2*v - u^2*w^2 + u*v^2 - u*v*w^2 + v^3 - v^2*w^2 - v + w^2\n"
     ]
    }
   ],
   "source": [
    "i=0\n",
    "for ele in H:\n",
    "    print(H[i])\n",
    "    i+=1"
   ]
  },
  {
   "cell_type": "code",
   "execution_count": 21,
   "metadata": {
    "collapsed": false
   },
   "outputs": [
    {
     "name": "stdout",
     "output_type": "stream",
     "text": [
      "(t*u + t*v + t*w^2 - t - u + v + 1)/(-u + v + 1)\n",
      "(t*v - t*w^2)/(-u + v + 1)\n",
      "(t*w^4 + u*w^2 - v*w^2 - w^2)/(-u + v + 1)\n",
      "-u*w^2 + v*w^2 - w^4 + w^2\n",
      "-v + w^2\n"
     ]
    }
   ],
   "source": [
    "i=0\n",
    "for ele in H:\n",
    "    print(H[i]/f4)\n",
    "    i+=1"
   ]
  },
  {
   "cell_type": "code",
   "execution_count": 26,
   "metadata": {
    "collapsed": false
   },
   "outputs": [
   ],
   "source": [
    "P.<u,v,w>=PolynomialRing(GF(3), order='degrevlex')"
   ]
  },
  {
   "cell_type": "code",
   "execution_count": 27,
   "metadata": {
    "collapsed": false
   },
   "outputs": [
   ],
   "source": [
    "g1=P(-u*w^2 + v*w^2 - w^4 + w^2)\n",
    "g2=P(-v + w^2)"
   ]
  },
  {
   "cell_type": "code",
   "execution_count": 28,
   "metadata": {
    "collapsed": false
   },
   "outputs": [
   ],
   "source": [
    "I=P.ideal([g1,g2])"
   ]
  },
  {
   "cell_type": "code",
   "execution_count": 29,
   "metadata": {
    "collapsed": false
   },
   "outputs": [
    {
     "data": {
      "text/plain": [
       "[u*v - v, w^2 - v]"
      ]
     },
     "execution_count": 29,
     "metadata": {
     },
     "output_type": "execute_result"
    }
   ],
   "source": [
    "G=I.groebner_basis()\n",
    "G"
   ]
  },
  {
   "cell_type": "code",
   "execution_count": 30,
   "metadata": {
    "collapsed": false
   },
   "outputs": [
   ],
   "source": [
    "#EJERCICIO 2"
   ]
  },
  {
   "cell_type": "code",
   "execution_count": 31,
   "metadata": {
    "collapsed": false
   },
   "outputs": [
   ],
   "source": [
    "R.<x1,x2>=PolynomialRing(GF(5), order='lex')"
   ]
  },
  {
   "cell_type": "code",
   "execution_count": 50,
   "metadata": {
    "collapsed": false
   },
   "outputs": [
   ],
   "source": [
    "f1=R(x1^2*x2+x2^5)\n",
    "f2=R(x1^2+x2^2)"
   ]
  },
  {
   "cell_type": "code",
   "execution_count": 51,
   "metadata": {
    "collapsed": false
   },
   "outputs": [
   ],
   "source": [
    "I=R.ideal([f1,f2])"
   ]
  },
  {
   "cell_type": "code",
   "execution_count": 52,
   "metadata": {
    "collapsed": false
   },
   "outputs": [
    {
     "data": {
      "text/plain": [
       "[x1^2 + x2^2, x2^5 - x2^3]"
      ]
     },
     "execution_count": 52,
     "metadata": {
     },
     "output_type": "execute_result"
    }
   ],
   "source": [
    "G=I.groebner_basis()\n",
    "G"
   ]
  },
  {
   "cell_type": "code",
   "execution_count": 53,
   "metadata": {
    "collapsed": false
   },
   "outputs": [
   ],
   "source": [
    "P.<x2,x1>=PolynomialRing(GF(5), order='lex')"
   ]
  },
  {
   "cell_type": "code",
   "execution_count": 54,
   "metadata": {
    "collapsed": false
   },
   "outputs": [
   ],
   "source": [
    "f1=P(x1^2*x2+x2^5)\n",
    "f2=P(x1^2+x2^2)"
   ]
  },
  {
   "cell_type": "code",
   "execution_count": 55,
   "metadata": {
    "collapsed": false
   },
   "outputs": [
   ],
   "source": [
    "J=P.ideal([f1,f2])"
   ]
  },
  {
   "cell_type": "code",
   "execution_count": 56,
   "metadata": {
    "collapsed": false
   },
   "outputs": [
    {
     "data": {
      "text/plain": [
       "[x2^2 + x1^2, x2*x1^4 + x2*x1^2, x1^6 + x1^4]"
      ]
     },
     "execution_count": 56,
     "metadata": {
     },
     "output_type": "execute_result"
    }
   ],
   "source": [
    "H=J.groebner_basis()\n",
    "H"
   ]
  },
  {
   "cell_type": "code",
   "execution_count": 57,
   "metadata": {
    "collapsed": false
   },
   "outputs": [
   ],
   "source": [
    "S.<x1,x2>=PolynomialRing(GF(5), order='lex')"
   ]
  },
  {
   "cell_type": "code",
   "execution_count": 58,
   "metadata": {
    "collapsed": false
   },
   "outputs": [
   ],
   "source": [
    "h1=S(x1^2*x2+x2^5)\n",
    "h2=S(x1^2+x2^2)\n",
    "h3=S(x1)\n",
    "h4=S(x2)"
   ]
  },
  {
   "cell_type": "code",
   "execution_count": 59,
   "metadata": {
    "collapsed": false
   },
   "outputs": [
   ],
   "source": [
    "K=S.ideal([h1,h2,h3,h4])"
   ]
  },
  {
   "cell_type": "code",
   "execution_count": 60,
   "metadata": {
    "collapsed": false
   },
   "outputs": [
    {
     "data": {
      "text/plain": [
       "[x1, x2]"
      ]
     },
     "execution_count": 60,
     "metadata": {
     },
     "output_type": "execute_result"
    }
   ],
   "source": [
    "J=K.groebner_basis()\n",
    "J"
   ]
  },
  {
   "cell_type": "code",
   "execution_count": 0,
   "metadata": {
    "collapsed": false
   },
   "outputs": [
   ],
   "source": [
   ]
  }
 ],
 "metadata": {
  "kernelspec": {
   "display_name": "SageMath 9.7",
   "language": "sagemath",
   "metadata": {
    "cocalc": {
     "description": "Open-source mathematical software system",
     "priority": 10,
     "url": "https://www.sagemath.org/"
    }
   },
   "name": "sage-9.7",
   "resource_dir": "/ext/jupyter/kernels/sage-9.7"
  },
  "language_info": {
   "codemirror_mode": {
    "name": "ipython",
    "version": 3
   },
   "file_extension": ".py",
   "mimetype": "text/x-python",
   "name": "python",
   "nbconvert_exporter": "python",
   "pygments_lexer": "ipython3",
   "version": "3.10.5"
  }
 },
 "nbformat": 4,
 "nbformat_minor": 4
}