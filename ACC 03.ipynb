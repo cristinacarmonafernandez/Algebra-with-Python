{
 "cells": [
  {
   "cell_type": "code",
   "execution_count": 1,
   "metadata": {},
   "outputs": [],
   "source": [
    "from sage.rings.polynomial.toy_buchberger import *"
   ]
  },
  {
   "cell_type": "code",
   "execution_count": null,
   "metadata": {},
   "outputs": [],
   "source": [
    "var('x,y')\n",
    "#t = TermOrder('wdeglex',(1,2))\n",
    "#t = 'degrevlex'\n",
    "t = 'lex'\n",
    "R.<x,y> = PolynomialRing(QQ,2,order=t)\n",
    "R"
   ]
  },
  {
   "cell_type": "code",
   "execution_count": null,
   "metadata": {},
   "outputs": [],
   "source": [
    "f1 = R(x*y - 1)\n",
    "f2 = R(y^2 - 1)\n",
    "F = [f1,f2]"
   ]
  },
  {
   "cell_type": "code",
   "execution_count": null,
   "metadata": {},
   "outputs": [],
   "source": [
    "f = R(2*x^2*y + x*y^2 + y*2)\n",
    "#f = R.random_element()\n",
    "#f = R(x*y + y^2)"
   ]
  },
  {
   "cell_type": "code",
   "execution_count": null,
   "metadata": {},
   "outputs": [],
   "source": [
    "f.reduce(F)"
   ]
  },
  {
   "cell_type": "code",
   "execution_count": null,
   "metadata": {},
   "outputs": [],
   "source": [
    "f.reduce([f2,f1])"
   ]
  },
  {
   "cell_type": "code",
   "execution_count": null,
   "metadata": {},
   "outputs": [],
   "source": [
    "R.ideal(F).groebner_basis()"
   ]
  },
  {
   "cell_type": "code",
   "execution_count": null,
   "metadata": {},
   "outputs": [],
   "source": [
    "f.lc(), f.lm(), f.lt()"
   ]
  },
  {
   "cell_type": "code",
   "execution_count": null,
   "metadata": {},
   "outputs": [],
   "source": [
    "R.ideal(F).groebner_basis(algorithm='toy:buchberger')"
   ]
  },
  {
   "cell_type": "code",
   "execution_count": null,
   "metadata": {},
   "outputs": [],
   "source": [
    "f.reduce(R.ideal(F))"
   ]
  },
  {
   "cell_type": "code",
   "execution_count": null,
   "metadata": {},
   "outputs": [],
   "source": [
    "set_verbose(1)\n",
    "buchberger(R.ideal(F))"
   ]
  },
  {
   "cell_type": "code",
   "execution_count": null,
   "metadata": {},
   "outputs": [],
   "source": [
    "set_verbose(1)\n",
    "spol(f1,f2).reduce([f2,f1])"
   ]
  },
  {
   "cell_type": "code",
   "execution_count": null,
   "metadata": {},
   "outputs": [],
   "source": [
    "r = f.reduce(F)"
   ]
  },
  {
   "cell_type": "code",
   "execution_count": null,
   "metadata": {},
   "outputs": [],
   "source": [
    "r"
   ]
  },
  {
   "cell_type": "code",
   "execution_count": null,
   "metadata": {},
   "outputs": [],
   "source": [
    "g = (f-r)"
   ]
  },
  {
   "cell_type": "code",
   "execution_count": null,
   "metadata": {},
   "outputs": [],
   "source": [
    "g.lift(R.ideal(F))"
   ]
  },
  {
   "cell_type": "code",
   "execution_count": null,
   "metadata": {},
   "outputs": [],
   "source": [
    "R(x+y).reduce([R(x+y),R(x-y)])"
   ]
  },
  {
   "cell_type": "code",
   "execution_count": null,
   "metadata": {},
   "outputs": [],
   "source": [
    "R(x+y).reduce([R(x-y),R(x+y)])"
   ]
  },
  {
   "cell_type": "code",
   "execution_count": 2,
   "metadata": {},
   "outputs": [
    {
     "data": {
      "text/plain": [
       "Multivariate Polynomial Ring in x, y, z over Finite Field of size 5"
      ]
     },
     "execution_count": 2,
     "metadata": {},
     "output_type": "execute_result"
    }
   ],
   "source": [
    "R.<x,y,z> = PolynomialRing(GF(5),order='deglex')\n",
    "R"
   ]
  },
  {
   "cell_type": "code",
   "execution_count": 3,
   "metadata": {},
   "outputs": [],
   "source": [
    "f1 = R(x^4*y^2-z)\n",
    "f2 = R(x^3*y^3-1)\n",
    "f3 = R(x^2*y^4-2*z)"
   ]
  },
  {
   "cell_type": "code",
   "execution_count": 4,
   "metadata": {},
   "outputs": [],
   "source": [
    "set_verbose(1)"
   ]
  },
  {
   "cell_type": "code",
   "execution_count": 5,
   "metadata": {},
   "outputs": [
    {
     "name": "stdout",
     "output_type": "stream",
     "text": [
      "(x^3*y^3 - 1, x^4*y^2 - z) => y*z - x\n",
      "G: {x^2*y^4 - 2*z, x^3*y^3 - 1, x^4*y^2 - z, y*z - x}\n",
      "\n",
      "(x^2*y^4 - 2*z, y*z - x) => -2*z^2 + 1\n",
      "G: {x^2*y^4 - 2*z, x^4*y^2 - z, y*z - x, -2*z^2 + 1, x^3*y^3 - 1}\n",
      "\n",
      "(y*z - x, -2*z^2 + 1) => -x*z - 2*y\n",
      "G: {x^2*y^4 - 2*z, x^4*y^2 - z, y*z - x, -2*z^2 + 1, x^3*y^3 - 1, -x*z - 2*y}\n",
      "\n",
      "(-2*z^2 + 1, -x*z - 2*y) => 0\n",
      "G: {x^2*y^4 - 2*z, x^4*y^2 - z, y*z - x, -2*z^2 + 1, x^3*y^3 - 1, -x*z - 2*y}\n",
      "\n",
      "(y*z - x, -x*z - 2*y) => -x^2 - 2*y^2\n",
      "G: {x^2*y^4 - 2*z, x^4*y^2 - z, y*z - x, -x^2 - 2*y^2, -2*z^2 + 1, x^3*y^3 - 1, -x*z - 2*y}\n",
      "\n",
      "(-x*z - 2*y, -x^2 - 2*y^2) => 0\n",
      "G: {x^2*y^4 - 2*z, x^4*y^2 - z, y*z - x, -x^2 - 2*y^2, -2*z^2 + 1, x^3*y^3 - 1, -x*z - 2*y}\n",
      "\n",
      "(-2*z^2 + 1, -x^2 - 2*y^2) => 0\n",
      "G: {x^2*y^4 - 2*z, x^4*y^2 - z, y*z - x, -x^2 - 2*y^2, -2*z^2 + 1, x^3*y^3 - 1, -x*z - 2*y}\n",
      "\n",
      "(y*z - x, -x^2 - 2*y^2) => 0\n",
      "G: {x^2*y^4 - 2*z, x^4*y^2 - z, y*z - x, -x^2 - 2*y^2, -2*z^2 + 1, x^3*y^3 - 1, -x*z - 2*y}\n",
      "\n",
      "(x^2*y^4 - 2*z, -x^2 - 2*y^2) => -2*y^6 - 2*z\n",
      "G: {x^2*y^4 - 2*z, x^4*y^2 - z, y*z - x, -x^2 - 2*y^2, -2*z^2 + 1, x^3*y^3 - 1, -x*z - 2*y, -2*y^6 - 2*z}\n",
      "\n",
      "(x^4*y^2 - z, -x^2 - 2*y^2) => 0\n",
      "G: {x^2*y^4 - 2*z, x^4*y^2 - z, y*z - x, -x^2 - 2*y^2, -2*z^2 + 1, x^3*y^3 - 1, -x*z - 2*y, -2*y^6 - 2*z}\n",
      "\n",
      "(x^3*y^3 - 1, -x^2 - 2*y^2) => -2*x*y^5 - 1\n",
      "G: {x^2*y^4 - 2*z, x^4*y^2 - z, y*z - x, -x^2 - 2*y^2, -2*z^2 + 1, x^3*y^3 - 1, -x*z - 2*y, -2*x*y^5 - 1, -2*y^6 - 2*z}\n",
      "\n",
      "(y*z - x, -2*x*y^5 - 1) => 0\n",
      "G: {x^2*y^4 - 2*z, x^4*y^2 - z, y*z - x, -x^2 - 2*y^2, -2*z^2 + 1, x^3*y^3 - 1, -x*z - 2*y, -2*x*y^5 - 1, -2*y^6 - 2*z}\n",
      "\n",
      "(x^3*y^3 - 1, y*z - x) => 0\n",
      "G: {x^2*y^4 - 2*z, x^4*y^2 - z, y*z - x, -x^2 - 2*y^2, -2*z^2 + 1, x^3*y^3 - 1, -x*z - 2*y, -2*x*y^5 - 1, -2*y^6 - 2*z}\n",
      "\n",
      "(x^4*y^2 - z, y*z - x) => 0\n",
      "G: {x^2*y^4 - 2*z, x^4*y^2 - z, y*z - x, -x^2 - 2*y^2, -2*z^2 + 1, x^3*y^3 - 1, -x*z - 2*y, -2*x*y^5 - 1, -2*y^6 - 2*z}\n",
      "\n",
      "(x^2*y^4 - 2*z, -x*z - 2*y) => 0\n",
      "G: {x^2*y^4 - 2*z, x^4*y^2 - z, y*z - x, -x^2 - 2*y^2, -2*z^2 + 1, x^3*y^3 - 1, -x*z - 2*y, -2*x*y^5 - 1, -2*y^6 - 2*z}\n",
      "\n",
      "(-x^2 - 2*y^2, -2*x*y^5 - 1) => 0\n",
      "G: {x^2*y^4 - 2*z, x^4*y^2 - z, y*z - x, -x^2 - 2*y^2, -2*z^2 + 1, x^3*y^3 - 1, -x*z - 2*y, -2*x*y^5 - 1, -2*y^6 - 2*z}\n",
      "\n",
      "(x^2*y^4 - 2*z, x^3*y^3 - 1) => 0\n",
      "G: {x^2*y^4 - 2*z, x^4*y^2 - z, y*z - x, -x^2 - 2*y^2, -2*z^2 + 1, x^3*y^3 - 1, -x*z - 2*y, -2*x*y^5 - 1, -2*y^6 - 2*z}\n",
      "\n",
      "(x^3*y^3 - 1, x^2*y^4 - 2*z) => 0\n",
      "G: {x^2*y^4 - 2*z, x^4*y^2 - z, y*z - x, -x^2 - 2*y^2, -2*z^2 + 1, x^3*y^3 - 1, -x*z - 2*y, -2*x*y^5 - 1, -2*y^6 - 2*z}\n",
      "\n",
      "(x^2*y^4 - 2*z, -2*x*y^5 - 1) => 0\n",
      "G: {x^2*y^4 - 2*z, x^4*y^2 - z, y*z - x, -x^2 - 2*y^2, -2*z^2 + 1, x^3*y^3 - 1, -x*z - 2*y, -2*x*y^5 - 1, -2*y^6 - 2*z}\n",
      "\n",
      "(x^3*y^3 - 1, -x*z - 2*y) => 0\n",
      "G: {x^2*y^4 - 2*z, x^4*y^2 - z, y*z - x, -x^2 - 2*y^2, -2*z^2 + 1, x^3*y^3 - 1, -x*z - 2*y, -2*x*y^5 - 1, -2*y^6 - 2*z}\n",
      "\n",
      "(x^4*y^2 - z, -x*z - 2*y) => 0\n",
      "G: {x^2*y^4 - 2*z, x^4*y^2 - z, y*z - x, -x^2 - 2*y^2, -2*z^2 + 1, x^3*y^3 - 1, -x*z - 2*y, -2*x*y^5 - 1, -2*y^6 - 2*z}\n",
      "\n",
      "(y*z - x, -2*y^6 - 2*z) => 0\n",
      "G: {x^2*y^4 - 2*z, x^4*y^2 - z, y*z - x, -x^2 - 2*y^2, -2*z^2 + 1, x^3*y^3 - 1, -x*z - 2*y, -2*x*y^5 - 1, -2*y^6 - 2*z}\n",
      "\n",
      "(-2*y^6 - 2*z, -2*x*y^5 - 1) => 0\n",
      "G: {x^2*y^4 - 2*z, x^4*y^2 - z, y*z - x, -x^2 - 2*y^2, -2*z^2 + 1, x^3*y^3 - 1, -x*z - 2*y, -2*x*y^5 - 1, -2*y^6 - 2*z}\n",
      "\n",
      "(x^4*y^2 - z, x^3*y^3 - 1) => 0\n",
      "G: {x^2*y^4 - 2*z, x^4*y^2 - z, y*z - x, -x^2 - 2*y^2, -2*z^2 + 1, x^3*y^3 - 1, -x*z - 2*y, -2*x*y^5 - 1, -2*y^6 - 2*z}\n",
      "\n",
      "(-x*z - 2*y, -2*x*y^5 - 1) => 0\n",
      "G: {x^2*y^4 - 2*z, x^4*y^2 - z, y*z - x, -x^2 - 2*y^2, -2*z^2 + 1, x^3*y^3 - 1, -x*z - 2*y, -2*x*y^5 - 1, -2*y^6 - 2*z}\n",
      "\n",
      "(x^2*y^4 - 2*z, x^4*y^2 - z) => 0\n",
      "G: {x^2*y^4 - 2*z, x^4*y^2 - z, y*z - x, -x^2 - 2*y^2, -2*z^2 + 1, x^3*y^3 - 1, -x*z - 2*y, -2*x*y^5 - 1, -2*y^6 - 2*z}\n",
      "\n",
      "(x^2*y^4 - 2*z, -2*z^2 + 1) => 0\n",
      "G: {x^2*y^4 - 2*z, x^4*y^2 - z, y*z - x, -x^2 - 2*y^2, -2*z^2 + 1, x^3*y^3 - 1, -x*z - 2*y, -2*x*y^5 - 1, -2*y^6 - 2*z}\n",
      "\n",
      "(-x^2 - 2*y^2, -2*y^6 - 2*z) => 0\n",
      "G: {x^2*y^4 - 2*z, x^4*y^2 - z, y*z - x, -x^2 - 2*y^2, -2*z^2 + 1, x^3*y^3 - 1, -x*z - 2*y, -2*x*y^5 - 1, -2*y^6 - 2*z}\n",
      "\n",
      "(x^3*y^3 - 1, -2*x*y^5 - 1) => 0\n",
      "G: {x^2*y^4 - 2*z, x^4*y^2 - z, y*z - x, -x^2 - 2*y^2, -2*z^2 + 1, x^3*y^3 - 1, -x*z - 2*y, -2*x*y^5 - 1, -2*y^6 - 2*z}\n",
      "\n",
      "(x^2*y^4 - 2*z, -2*y^6 - 2*z) => 0\n",
      "G: {x^2*y^4 - 2*z, x^4*y^2 - z, y*z - x, -x^2 - 2*y^2, -2*z^2 + 1, x^3*y^3 - 1, -x*z - 2*y, -2*x*y^5 - 1, -2*y^6 - 2*z}\n",
      "\n",
      "(x^4*y^2 - z, -2*z^2 + 1) => 0\n",
      "G: {x^2*y^4 - 2*z, x^4*y^2 - z, y*z - x, -x^2 - 2*y^2, -2*z^2 + 1, x^3*y^3 - 1, -x*z - 2*y, -2*x*y^5 - 1, -2*y^6 - 2*z}\n",
      "\n",
      "(x^3*y^3 - 1, -2*z^2 + 1) => 0\n",
      "G: {x^2*y^4 - 2*z, x^4*y^2 - z, y*z - x, -x^2 - 2*y^2, -2*z^2 + 1, x^3*y^3 - 1, -x*z - 2*y, -2*x*y^5 - 1, -2*y^6 - 2*z}\n",
      "\n",
      "(x^4*y^2 - z, x^2*y^4 - 2*z) => 0\n",
      "G: {x^2*y^4 - 2*z, x^4*y^2 - z, y*z - x, -x^2 - 2*y^2, -2*z^2 + 1, x^3*y^3 - 1, -x*z - 2*y, -2*x*y^5 - 1, -2*y^6 - 2*z}\n",
      "\n",
      "(-x*z - 2*y, -2*y^6 - 2*z) => 0\n",
      "G: {x^2*y^4 - 2*z, x^4*y^2 - z, y*z - x, -x^2 - 2*y^2, -2*z^2 + 1, x^3*y^3 - 1, -x*z - 2*y, -2*x*y^5 - 1, -2*y^6 - 2*z}\n",
      "\n",
      "(-2*z^2 + 1, -2*y^6 - 2*z) => 0\n",
      "G: {x^2*y^4 - 2*z, x^4*y^2 - z, y*z - x, -x^2 - 2*y^2, -2*z^2 + 1, x^3*y^3 - 1, -x*z - 2*y, -2*x*y^5 - 1, -2*y^6 - 2*z}\n",
      "\n",
      "(-2*z^2 + 1, -2*x*y^5 - 1) => 0\n",
      "G: {x^2*y^4 - 2*z, x^4*y^2 - z, y*z - x, -x^2 - 2*y^2, -2*z^2 + 1, x^3*y^3 - 1, -x*z - 2*y, -2*x*y^5 - 1, -2*y^6 - 2*z}\n",
      "\n",
      "(x^4*y^2 - z, -2*x*y^5 - 1) => 0\n",
      "G: {x^2*y^4 - 2*z, x^4*y^2 - z, y*z - x, -x^2 - 2*y^2, -2*z^2 + 1, x^3*y^3 - 1, -x*z - 2*y, -2*x*y^5 - 1, -2*y^6 - 2*z}\n",
      "\n",
      "(x^3*y^3 - 1, -2*y^6 - 2*z) => 0\n",
      "G: {x^2*y^4 - 2*z, x^4*y^2 - z, y*z - x, -x^2 - 2*y^2, -2*z^2 + 1, x^3*y^3 - 1, -x*z - 2*y, -2*x*y^5 - 1, -2*y^6 - 2*z}\n",
      "\n",
      "(x^4*y^2 - z, -2*y^6 - 2*z) => 0\n",
      "G: {x^2*y^4 - 2*z, x^4*y^2 - z, y*z - x, -x^2 - 2*y^2, -2*z^2 + 1, x^3*y^3 - 1, -x*z - 2*y, -2*x*y^5 - 1, -2*y^6 - 2*z}\n",
      "\n",
      "33 reductions to zero.\n"
     ]
    },
    {
     "data": {
      "text/plain": [
       "[x^2*y^4 - 2*z, x^4*y^2 - z, y*z - x, -x^2 - 2*y^2, -2*z^2 + 1, x^3*y^3 - 1, -x*z - 2*y, -2*x*y^5 - 1, -2*y^6 - 2*z]"
      ]
     },
     "execution_count": 5,
     "metadata": {},
     "output_type": "execute_result"
    }
   ],
   "source": [
    "buchberger(R.ideal([f1,f2,f3]))"
   ]
  },
  {
   "cell_type": "code",
   "execution_count": null,
   "metadata": {},
   "outputs": [],
   "source": []
  }
 ],
 "metadata": {
  "kernelspec": {
   "display_name": "SageMath 9.7",
   "language": "sage",
   "name": "sagemath-9.7"
  },
  "language_info": {
   "codemirror_mode": {
    "name": "ipython",
    "version": 3
   },
   "file_extension": ".py",
   "mimetype": "text/x-python",
   "name": "python",
   "nbconvert_exporter": "python",
   "pygments_lexer": "ipython3",
   "version": "3.10.5"
  }
 },
 "nbformat": 4,
 "nbformat_minor": 2
}
