{
 "cells": [
  {
   "cell_type": "code",
   "execution_count": 1,
   "metadata": {},
   "outputs": [],
   "source": [
    "from sage.rings.polynomial.toy_buchberger import *"
   ]
  },
  {
   "cell_type": "code",
   "execution_count": 2,
   "metadata": {},
   "outputs": [
    {
     "data": {
      "text/plain": [
       "Multivariate Polynomial Ring in x, y over Finite Field of size 3"
      ]
     },
     "execution_count": 2,
     "metadata": {},
     "output_type": "execute_result"
    }
   ],
   "source": [
    "R.<x,y> = PolynomialRing(GF(3),order='lex')\n",
    "R"
   ]
  },
  {
   "cell_type": "code",
   "execution_count": 3,
   "metadata": {},
   "outputs": [],
   "source": [
    "F = [R.random_element(3), R.random_element(3)]\n",
    "F = [-x^2*y - y^3 - x^2 + x*y + y, x^2*y - y^3 - x*y - y^2 + y]\n",
    "G = [R.random_element(2), R.random_element(2), R.random_element(2)]\n",
    "G = [y^2 - x + y + 1, x^2 + x*y + y^2 + x, x*y - y^2 - y]"
   ]
  },
  {
   "cell_type": "code",
   "execution_count": 4,
   "metadata": {},
   "outputs": [
    {
     "data": {
      "text/plain": [
       "[-x^2*y - x^2 + x*y - y^3 + y, x^2*y - x*y - y^3 - y^2 + y]"
      ]
     },
     "execution_count": 4,
     "metadata": {},
     "output_type": "execute_result"
    }
   ],
   "source": [
    "F"
   ]
  },
  {
   "cell_type": "code",
   "execution_count": 5,
   "metadata": {},
   "outputs": [
    {
     "data": {
      "text/plain": [
       "[-x + y^2 + y + 1, x^2 + x*y + x + y^2, x*y - y^2 - y]"
      ]
     },
     "execution_count": 5,
     "metadata": {},
     "output_type": "execute_result"
    }
   ],
   "source": [
    "G"
   ]
  },
  {
   "cell_type": "code",
   "execution_count": 6,
   "metadata": {},
   "outputs": [
    {
     "data": {
      "text/plain": [
       "Multivariate Polynomial Ring in t, x, y over Finite Field of size 3"
      ]
     },
     "execution_count": 6,
     "metadata": {},
     "output_type": "execute_result"
    }
   ],
   "source": [
    "S.<t,x,y> = PolynomialRing(GF(3),order='lex')\n",
    "S"
   ]
  },
  {
   "cell_type": "code",
   "execution_count": 7,
   "metadata": {},
   "outputs": [
    {
     "data": {
      "text/plain": [
       "[-t*x^2*y - t*x^2 + t*x*y - t*y^3 + t*y,\n",
       " t*x^2*y - t*x*y - t*y^3 - t*y^2 + t*y,\n",
       " t*x - t*y^2 - t*y - t - x + y^2 + y + 1,\n",
       " -t*x^2 - t*x*y - t*x - t*y^2 + x^2 + x*y + x + y^2,\n",
       " -t*x*y + t*y^2 + t*y + x*y - y^2 - y]"
      ]
     },
     "execution_count": 7,
     "metadata": {},
     "output_type": "execute_result"
    }
   ],
   "source": [
    "H = [S(t)*S(f) for f in F] + [S(1-t)*S(g) for g in G]\n",
    "H"
   ]
  },
  {
   "cell_type": "code",
   "execution_count": 8,
   "metadata": {
    "scrolled": false
   },
   "outputs": [
    {
     "name": "stdout",
     "output_type": "stream",
     "text": [
      "(-t*x^2 - t*x*y - t*x - t*y^2 + x^2 + x*y + x + y^2, t*x - t*y^2 - t*y - t - x + y^2 + y + 1) => t*y^3 + t*y - t - y^3 - y + 1\n",
      "G: {t*x^2*y - t*x*y - t*y^3 - t*y^2 + t*y, t*y^3 + t*y - t - y^3 - y + 1, -t*x^2 - t*x*y - t*x - t*y^2 + x^2 + x*y + x + y^2, t*x - t*y^2 - t*y - t - x + y^2 + y + 1, -t*x^2*y - t*x^2 + t*x*y - t*y^3 + t*y, -t*x*y + t*y^2 + t*y + x*y - y^2 - y}\n",
      "\n",
      "(t*x - t*y^2 - t*y - t - x + y^2 + y + 1, -t*x^2 - t*x*y - t*x - t*y^2 + x^2 + x*y + x + y^2) => 0\n",
      "G: {t*x^2*y - t*x*y - t*y^3 - t*y^2 + t*y, t*y^3 + t*y - t - y^3 - y + 1, -t*x^2 - t*x*y - t*x - t*y^2 + x^2 + x*y + x + y^2, t*x - t*y^2 - t*y - t - x + y^2 + y + 1, -t*x^2*y - t*x^2 + t*x*y - t*y^3 + t*y, -t*x*y + t*y^2 + t*y + x*y - y^2 - y}\n",
      "\n",
      "(t*x - t*y^2 - t*y - t - x + y^2 + y + 1, -t*x*y + t*y^2 + t*y + x*y - y^2 - y) => t*y - t - y + 1\n",
      "G: {t*x^2*y - t*x*y - t*y^3 - t*y^2 + t*y, t*y^3 + t*y - t - y^3 - y + 1, -t*x^2 - t*x*y - t*x - t*y^2 + x^2 + x*y + x + y^2, t*x - t*y^2 - t*y - t - x + y^2 + y + 1, t*y - t - y + 1, -t*x^2*y - t*x^2 + t*x*y - t*y^3 + t*y, -t*x*y + t*y^2 + t*y + x*y - y^2 - y}\n",
      "\n",
      "(t*x - t*y^2 - t*y - t - x + y^2 + y + 1, t*y - t - y + 1) => 0\n",
      "G: {t*x^2*y - t*x*y - t*y^3 - t*y^2 + t*y, t*y^3 + t*y - t - y^3 - y + 1, -t*x^2 - t*x*y - t*x - t*y^2 + x^2 + x*y + x + y^2, t*x - t*y^2 - t*y - t - x + y^2 + y + 1, t*y - t - y + 1, -t*x^2*y - t*x^2 + t*x*y - t*y^3 + t*y, -t*x*y + t*y^2 + t*y + x*y - y^2 - y}\n",
      "\n",
      "(-t*x*y + t*y^2 + t*y + x*y - y^2 - y, t*y - t - y + 1) => t - 1\n",
      "G: {t*x^2*y - t*x*y - t*y^3 - t*y^2 + t*y, t*y^3 + t*y - t - y^3 - y + 1, -t*x^2 - t*x*y - t*x - t*y^2 + x^2 + x*y + x + y^2, t*x - t*y^2 - t*y - t - x + y^2 + y + 1, t*y - t - y + 1, -t*x^2*y - t*x^2 + t*x*y - t*y^3 + t*y, t - 1, -t*x*y + t*y^2 + t*y + x*y - y^2 - y}\n",
      "\n",
      "(t*y - t - y + 1, t - 1) => 0\n",
      "G: {t*x^2*y - t*x*y - t*y^3 - t*y^2 + t*y, t*y^3 + t*y - t - y^3 - y + 1, -t*x^2 - t*x*y - t*x - t*y^2 + x^2 + x*y + x + y^2, t*x - t*y^2 - t*y - t - x + y^2 + y + 1, t*y - t - y + 1, -t*x^2*y - t*x^2 + t*x*y - t*y^3 + t*y, t - 1, -t*x*y + t*y^2 + t*y + x*y - y^2 - y}\n",
      "\n",
      "(t*x - t*y^2 - t*y - t - x + y^2 + y + 1, t - 1) => 0\n",
      "G: {t*x^2*y - t*x*y - t*y^3 - t*y^2 + t*y, t*y^3 + t*y - t - y^3 - y + 1, -t*x^2 - t*x*y - t*x - t*y^2 + x^2 + x*y + x + y^2, t*x - t*y^2 - t*y - t - x + y^2 + y + 1, t*y - t - y + 1, -t*x^2*y - t*x^2 + t*x*y - t*y^3 + t*y, t - 1, -t*x*y + t*y^2 + t*y + x*y - y^2 - y}\n",
      "\n",
      "(-t*x^2 - t*x*y - t*x - t*y^2 + x^2 + x*y + x + y^2, t - 1) => 0\n",
      "G: {t*x^2*y - t*x*y - t*y^3 - t*y^2 + t*y, t*y^3 + t*y - t - y^3 - y + 1, -t*x^2 - t*x*y - t*x - t*y^2 + x^2 + x*y + x + y^2, t*x - t*y^2 - t*y - t - x + y^2 + y + 1, t*y - t - y + 1, -t*x^2*y - t*x^2 + t*x*y - t*y^3 + t*y, t - 1, -t*x*y + t*y^2 + t*y + x*y - y^2 - y}\n",
      "\n",
      "(-t*x*y + t*y^2 + t*y + x*y - y^2 - y, t - 1) => 0\n",
      "G: {t*x^2*y - t*x*y - t*y^3 - t*y^2 + t*y, t*y^3 + t*y - t - y^3 - y + 1, -t*x^2 - t*x*y - t*x - t*y^2 + x^2 + x*y + x + y^2, t*x - t*y^2 - t*y - t - x + y^2 + y + 1, t*y - t - y + 1, -t*x^2*y - t*x^2 + t*x*y - t*y^3 + t*y, t - 1, -t*x*y + t*y^2 + t*y + x*y - y^2 - y}\n",
      "\n",
      "(-t*x*y + t*y^2 + t*y + x*y - y^2 - y, t*x - t*y^2 - t*y - t - x + y^2 + y + 1) => 0\n",
      "G: {t*x^2*y - t*x*y - t*y^3 - t*y^2 + t*y, t*y^3 + t*y - t - y^3 - y + 1, -t*x^2 - t*x*y - t*x - t*y^2 + x^2 + x*y + x + y^2, t*x - t*y^2 - t*y - t - x + y^2 + y + 1, t*y - t - y + 1, -t*x^2*y - t*x^2 + t*x*y - t*y^3 + t*y, t - 1, -t*x*y + t*y^2 + t*y + x*y - y^2 - y}\n",
      "\n",
      "(-t*x^2*y - t*x^2 + t*x*y - t*y^3 + t*y, -t*x*y + t*y^2 + t*y + x*y - y^2 - y) => x^2*y + x^2 - x*y + y^3 - y\n",
      "G: {x^2*y + x^2 - x*y + y^3 - y, t*x^2*y - t*x*y - t*y^3 - t*y^2 + t*y, t*y^3 + t*y - t - y^3 - y + 1, -t*x^2 - t*x*y - t*x - t*y^2 + x^2 + x*y + x + y^2, t*x - t*y^2 - t*y - t - x + y^2 + y + 1, t*y - t - y + 1, -t*x^2*y - t*x^2 + t*x*y - t*y^3 + t*y, t - 1, -t*x*y + t*y^2 + t*y + x*y - y^2 - y}\n",
      "\n",
      "(-t*x^2 - t*x*y - t*x - t*y^2 + x^2 + x*y + x + y^2, t*x^2*y - t*x*y - t*y^3 - t*y^2 + t*y) => x^2 - y^3 + y^2 + y\n",
      "G: {x^2*y + x^2 - x*y + y^3 - y, x^2 - y^3 + y^2 + y, t*x^2*y - t*x*y - t*y^3 - t*y^2 + t*y, t*y^3 + t*y - t - y^3 - y + 1, -t*x^2 - t*x*y - t*x - t*y^2 + x^2 + x*y + x + y^2, t*x - t*y^2 - t*y - t - x + y^2 + y + 1, t*y - t - y + 1, -t*x^2*y - t*x^2 + t*x*y - t*y^3 + t*y, t - 1, -t*x*y + t*y^2 + t*y + x*y - y^2 - y}\n",
      "\n",
      "(x^2*y + x^2 - x*y + y^3 - y, x^2 - y^3 + y^2 + y) => -x*y + y^4 + y^3 + y^2 + y\n",
      "G: {x^2*y + x^2 - x*y + y^3 - y, x^2 - y^3 + y^2 + y, -x*y + y^4 + y^3 + y^2 + y, t*x^2*y - t*x*y - t*y^3 - t*y^2 + t*y, t*y^3 + t*y - t - y^3 - y + 1, -t*x^2 - t*x*y - t*x - t*y^2 + x^2 + x*y + x + y^2, t*x - t*y^2 - t*y - t - x + y^2 + y + 1, t*y - t - y + 1, -t*x^2*y - t*x^2 + t*x*y - t*y^3 + t*y, t - 1, -t*x*y + t*y^2 + t*y + x*y - y^2 - y}\n",
      "\n",
      "(-t*x^2 - t*x*y - t*x - t*y^2 + x^2 + x*y + x + y^2, x^2 - y^3 + y^2 + y) => 0\n",
      "G: {x^2*y + x^2 - x*y + y^3 - y, x^2 - y^3 + y^2 + y, -x*y + y^4 + y^3 + y^2 + y, t*x^2*y - t*x*y - t*y^3 - t*y^2 + t*y, t*y^3 + t*y - t - y^3 - y + 1, -t*x^2 - t*x*y - t*x - t*y^2 + x^2 + x*y + x + y^2, t*x - t*y^2 - t*y - t - x + y^2 + y + 1, t*y - t - y + 1, -t*x^2*y - t*x^2 + t*x*y - t*y^3 + t*y, t - 1, -t*x*y + t*y^2 + t*y + x*y - y^2 - y}\n",
      "\n",
      "(t*x - t*y^2 - t*y - t - x + y^2 + y + 1, -x*y + y^4 + y^3 + y^2 + y) => 0\n",
      "G: {x^2*y + x^2 - x*y + y^3 - y, x^2 - y^3 + y^2 + y, -x*y + y^4 + y^3 + y^2 + y, t*x^2*y - t*x*y - t*y^3 - t*y^2 + t*y, t*y^3 + t*y - t - y^3 - y + 1, -t*x^2 - t*x*y - t*x - t*y^2 + x^2 + x*y + x + y^2, t*x - t*y^2 - t*y - t - x + y^2 + y + 1, t*y - t - y + 1, -t*x^2*y - t*x^2 + t*x*y - t*y^3 + t*y, t - 1, -t*x*y + t*y^2 + t*y + x*y - y^2 - y}\n",
      "\n",
      "(t - 1, -x*y + y^4 + y^3 + y^2 + y) => 0\n",
      "G: {x^2*y + x^2 - x*y + y^3 - y, x^2 - y^3 + y^2 + y, -x*y + y^4 + y^3 + y^2 + y, t*x^2*y - t*x*y - t*y^3 - t*y^2 + t*y, t*y^3 + t*y - t - y^3 - y + 1, -t*x^2 - t*x*y - t*x - t*y^2 + x^2 + x*y + x + y^2, t*x - t*y^2 - t*y - t - x + y^2 + y + 1, t*y - t - y + 1, -t*x^2*y - t*x^2 + t*x*y - t*y^3 + t*y, t - 1, -t*x*y + t*y^2 + t*y + x*y - y^2 - y}\n",
      "\n",
      "(t*y - t - y + 1, -x*y + y^4 + y^3 + y^2 + y) => 0\n",
      "G: {x^2*y + x^2 - x*y + y^3 - y, x^2 - y^3 + y^2 + y, -x*y + y^4 + y^3 + y^2 + y, t*x^2*y - t*x*y - t*y^3 - t*y^2 + t*y, t*y^3 + t*y - t - y^3 - y + 1, -t*x^2 - t*x*y - t*x - t*y^2 + x^2 + x*y + x + y^2, t*x - t*y^2 - t*y - t - x + y^2 + y + 1, t*y - t - y + 1, -t*x^2*y - t*x^2 + t*x*y - t*y^3 + t*y, t - 1, -t*x*y + t*y^2 + t*y + x*y - y^2 - y}\n",
      "\n",
      "(t*x - t*y^2 - t*y - t - x + y^2 + y + 1, x^2 - y^3 + y^2 + y) => 0\n",
      "G: {x^2*y + x^2 - x*y + y^3 - y, x^2 - y^3 + y^2 + y, -x*y + y^4 + y^3 + y^2 + y, t*x^2*y - t*x*y - t*y^3 - t*y^2 + t*y, t*y^3 + t*y - t - y^3 - y + 1, -t*x^2 - t*x*y - t*x - t*y^2 + x^2 + x*y + x + y^2, t*x - t*y^2 - t*y - t - x + y^2 + y + 1, t*y - t - y + 1, -t*x^2*y - t*x^2 + t*x*y - t*y^3 + t*y, t - 1, -t*x*y + t*y^2 + t*y + x*y - y^2 - y}\n",
      "\n",
      "(-t*x*y + t*y^2 + t*y + x*y - y^2 - y, -x*y + y^4 + y^3 + y^2 + y) => 0\n",
      "G: {x^2*y + x^2 - x*y + y^3 - y, x^2 - y^3 + y^2 + y, -x*y + y^4 + y^3 + y^2 + y, t*x^2*y - t*x*y - t*y^3 - t*y^2 + t*y, t*y^3 + t*y - t - y^3 - y + 1, -t*x^2 - t*x*y - t*x - t*y^2 + x^2 + x*y + x + y^2, t*x - t*y^2 - t*y - t - x + y^2 + y + 1, t*y - t - y + 1, -t*x^2*y - t*x^2 + t*x*y - t*y^3 + t*y, t - 1, -t*x*y + t*y^2 + t*y + x*y - y^2 - y}\n",
      "\n",
      "(t - 1, x^2 - y^3 + y^2 + y) => 0\n",
      "G: {x^2*y + x^2 - x*y + y^3 - y, x^2 - y^3 + y^2 + y, -x*y + y^4 + y^3 + y^2 + y, t*x^2*y - t*x*y - t*y^3 - t*y^2 + t*y, t*y^3 + t*y - t - y^3 - y + 1, -t*x^2 - t*x*y - t*x - t*y^2 + x^2 + x*y + x + y^2, t*x - t*y^2 - t*y - t - x + y^2 + y + 1, t*y - t - y + 1, -t*x^2*y - t*x^2 + t*x*y - t*y^3 + t*y, t - 1, -t*x*y + t*y^2 + t*y + x*y - y^2 - y}\n",
      "\n",
      "(x^2*y + x^2 - x*y + y^3 - y, -x*y + y^4 + y^3 + y^2 + y) => y^7 - y^6 + y^3 + y\n",
      "G: {y^7 - y^6 + y^3 + y, x^2*y + x^2 - x*y + y^3 - y, x^2 - y^3 + y^2 + y, -x*y + y^4 + y^3 + y^2 + y, t*x^2*y - t*x*y - t*y^3 - t*y^2 + t*y, t*y^3 + t*y - t - y^3 - y + 1, -t*x^2 - t*x*y - t*x - t*y^2 + x^2 + x*y + x + y^2, t*x - t*y^2 - t*y - t - x + y^2 + y + 1, t*y - t - y + 1, -t*x^2*y - t*x^2 + t*x*y - t*y^3 + t*y, t - 1, -t*x*y + t*y^2 + t*y + x*y - y^2 - y}\n",
      "\n",
      "(x^2 - y^3 + y^2 + y, -x*y + y^4 + y^3 + y^2 + y) => 0\n",
      "G: {y^7 - y^6 + y^3 + y, x^2*y + x^2 - x*y + y^3 - y, x^2 - y^3 + y^2 + y, -x*y + y^4 + y^3 + y^2 + y, t*x^2*y - t*x*y - t*y^3 - t*y^2 + t*y, t*y^3 + t*y - t - y^3 - y + 1, -t*x^2 - t*x*y - t*x - t*y^2 + x^2 + x*y + x + y^2, t*x - t*y^2 - t*y - t - x + y^2 + y + 1, t*y - t - y + 1, -t*x^2*y - t*x^2 + t*x*y - t*y^3 + t*y, t - 1, -t*x*y + t*y^2 + t*y + x*y - y^2 - y}\n",
      "\n",
      "(t*y - t - y + 1, x^2*y + x^2 - x*y + y^3 - y) => 0\n",
      "G: {y^7 - y^6 + y^3 + y, x^2*y + x^2 - x*y + y^3 - y, x^2 - y^3 + y^2 + y, -x*y + y^4 + y^3 + y^2 + y, t*x^2*y - t*x*y - t*y^3 - t*y^2 + t*y, t*y^3 + t*y - t - y^3 - y + 1, -t*x^2 - t*x*y - t*x - t*y^2 + x^2 + x*y + x + y^2, t*x - t*y^2 - t*y - t - x + y^2 + y + 1, t*y - t - y + 1, -t*x^2*y - t*x^2 + t*x*y - t*y^3 + t*y, t - 1, -t*x*y + t*y^2 + t*y + x*y - y^2 - y}\n",
      "\n",
      "(-t*x*y + t*y^2 + t*y + x*y - y^2 - y, -t*x^2*y - t*x^2 + t*x*y - t*y^3 + t*y) => 0\n",
      "G: {y^7 - y^6 + y^3 + y, x^2*y + x^2 - x*y + y^3 - y, x^2 - y^3 + y^2 + y, -x*y + y^4 + y^3 + y^2 + y, t*x^2*y - t*x*y - t*y^3 - t*y^2 + t*y, t*y^3 + t*y - t - y^3 - y + 1, -t*x^2 - t*x*y - t*x - t*y^2 + x^2 + x*y + x + y^2, t*x - t*y^2 - t*y - t - x + y^2 + y + 1, t*y - t - y + 1, -t*x^2*y - t*x^2 + t*x*y - t*y^3 + t*y, t - 1, -t*x*y + t*y^2 + t*y + x*y - y^2 - y}\n",
      "\n",
      "(t*y - t - y + 1, x^2 - y^3 + y^2 + y) => 0\n",
      "G: {y^7 - y^6 + y^3 + y, x^2*y + x^2 - x*y + y^3 - y, x^2 - y^3 + y^2 + y, -x*y + y^4 + y^3 + y^2 + y, t*x^2*y - t*x*y - t*y^3 - t*y^2 + t*y, t*y^3 + t*y - t - y^3 - y + 1, -t*x^2 - t*x*y - t*x - t*y^2 + x^2 + x*y + x + y^2, t*x - t*y^2 - t*y - t - x + y^2 + y + 1, t*y - t - y + 1, -t*x^2*y - t*x^2 + t*x*y - t*y^3 + t*y, t - 1, -t*x*y + t*y^2 + t*y + x*y - y^2 - y}\n",
      "\n",
      "(-t*x^2*y - t*x^2 + t*x*y - t*y^3 + t*y, t*y - t - y + 1) => 0\n",
      "G: {y^7 - y^6 + y^3 + y, x^2*y + x^2 - x*y + y^3 - y, x^2 - y^3 + y^2 + y, -x*y + y^4 + y^3 + y^2 + y, t*x^2*y - t*x*y - t*y^3 - t*y^2 + t*y, t*y^3 + t*y - t - y^3 - y + 1, -t*x^2 - t*x*y - t*x - t*y^2 + x^2 + x*y + x + y^2, t*x - t*y^2 - t*y - t - x + y^2 + y + 1, t*y - t - y + 1, -t*x^2*y - t*x^2 + t*x*y - t*y^3 + t*y, t - 1, -t*x*y + t*y^2 + t*y + x*y - y^2 - y}\n",
      "\n",
      "(t*x - t*y^2 - t*y - t - x + y^2 + y + 1, x^2*y + x^2 - x*y + y^3 - y) => 0\n",
      "G: {y^7 - y^6 + y^3 + y, x^2*y + x^2 - x*y + y^3 - y, x^2 - y^3 + y^2 + y, -x*y + y^4 + y^3 + y^2 + y, t*x^2*y - t*x*y - t*y^3 - t*y^2 + t*y, t*y^3 + t*y - t - y^3 - y + 1, -t*x^2 - t*x*y - t*x - t*y^2 + x^2 + x*y + x + y^2, t*x - t*y^2 - t*y - t - x + y^2 + y + 1, t*y - t - y + 1, -t*x^2*y - t*x^2 + t*x*y - t*y^3 + t*y, t - 1, -t*x*y + t*y^2 + t*y + x*y - y^2 - y}\n",
      "\n",
      "(t*x^2*y - t*x*y - t*y^3 - t*y^2 + t*y, -t*x^2 - t*x*y - t*x - t*y^2 + x^2 + x*y + x + y^2) => 0\n",
      "G: {y^7 - y^6 + y^3 + y, x^2*y + x^2 - x*y + y^3 - y, x^2 - y^3 + y^2 + y, -x*y + y^4 + y^3 + y^2 + y, t*x^2*y - t*x*y - t*y^3 - t*y^2 + t*y, t*y^3 + t*y - t - y^3 - y + 1, -t*x^2 - t*x*y - t*x - t*y^2 + x^2 + x*y + x + y^2, t*x - t*y^2 - t*y - t - x + y^2 + y + 1, t*y - t - y + 1, -t*x^2*y - t*x^2 + t*x*y - t*y^3 + t*y, t - 1, -t*x*y + t*y^2 + t*y + x*y - y^2 - y}\n",
      "\n",
      "(-t*x^2 - t*x*y - t*x - t*y^2 + x^2 + x*y + x + y^2, -t*x*y + t*y^2 + t*y + x*y - y^2 - y) => 0\n",
      "G: {y^7 - y^6 + y^3 + y, x^2*y + x^2 - x*y + y^3 - y, x^2 - y^3 + y^2 + y, -x*y + y^4 + y^3 + y^2 + y, t*x^2*y - t*x*y - t*y^3 - t*y^2 + t*y, t*y^3 + t*y - t - y^3 - y + 1, -t*x^2 - t*x*y - t*x - t*y^2 + x^2 + x*y + x + y^2, t*x - t*y^2 - t*y - t - x + y^2 + y + 1, t*y - t - y + 1, -t*x^2*y - t*x^2 + t*x*y - t*y^3 + t*y, t - 1, -t*x*y + t*y^2 + t*y + x*y - y^2 - y}\n",
      "\n",
      "(t - 1, x^2*y + x^2 - x*y + y^3 - y) => 0\n",
      "G: {y^7 - y^6 + y^3 + y, x^2*y + x^2 - x*y + y^3 - y, x^2 - y^3 + y^2 + y, -x*y + y^4 + y^3 + y^2 + y, t*x^2*y - t*x*y - t*y^3 - t*y^2 + t*y, t*y^3 + t*y - t - y^3 - y + 1, -t*x^2 - t*x*y - t*x - t*y^2 + x^2 + x*y + x + y^2, t*x - t*y^2 - t*y - t - x + y^2 + y + 1, t*y - t - y + 1, -t*x^2*y - t*x^2 + t*x*y - t*y^3 + t*y, t - 1, -t*x*y + t*y^2 + t*y + x*y - y^2 - y}\n",
      "\n",
      "(-t*x*y + t*y^2 + t*y + x*y - y^2 - y, x^2*y + x^2 - x*y + y^3 - y) => 0\n",
      "G: {y^7 - y^6 + y^3 + y, x^2*y + x^2 - x*y + y^3 - y, x^2 - y^3 + y^2 + y, -x*y + y^4 + y^3 + y^2 + y, t*x^2*y - t*x*y - t*y^3 - t*y^2 + t*y, t*y^3 + t*y - t - y^3 - y + 1, -t*x^2 - t*x*y - t*x - t*y^2 + x^2 + x*y + x + y^2, t*x - t*y^2 - t*y - t - x + y^2 + y + 1, t*y - t - y + 1, -t*x^2*y - t*x^2 + t*x*y - t*y^3 + t*y, t - 1, -t*x*y + t*y^2 + t*y + x*y - y^2 - y}\n",
      "\n",
      "(-t*x^2*y - t*x^2 + t*x*y - t*y^3 + t*y, -t*x^2 - t*x*y - t*x - t*y^2 + x^2 + x*y + x + y^2) => 0\n",
      "G: {y^7 - y^6 + y^3 + y, x^2*y + x^2 - x*y + y^3 - y, x^2 - y^3 + y^2 + y, -x*y + y^4 + y^3 + y^2 + y, t*x^2*y - t*x*y - t*y^3 - t*y^2 + t*y, t*y^3 + t*y - t - y^3 - y + 1, -t*x^2 - t*x*y - t*x - t*y^2 + x^2 + x*y + x + y^2, t*x - t*y^2 - t*y - t - x + y^2 + y + 1, t*y - t - y + 1, -t*x^2*y - t*x^2 + t*x*y - t*y^3 + t*y, t - 1, -t*x*y + t*y^2 + t*y + x*y - y^2 - y}\n",
      "\n",
      "(-t*x^2 - t*x*y - t*x - t*y^2 + x^2 + x*y + x + y^2, t*y - t - y + 1) => 0\n",
      "G: {y^7 - y^6 + y^3 + y, x^2*y + x^2 - x*y + y^3 - y, x^2 - y^3 + y^2 + y, -x*y + y^4 + y^3 + y^2 + y, t*x^2*y - t*x*y - t*y^3 - t*y^2 + t*y, t*y^3 + t*y - t - y^3 - y + 1, -t*x^2 - t*x*y - t*x - t*y^2 + x^2 + x*y + x + y^2, t*x - t*y^2 - t*y - t - x + y^2 + y + 1, t*y - t - y + 1, -t*x^2*y - t*x^2 + t*x*y - t*y^3 + t*y, t - 1, -t*x*y + t*y^2 + t*y + x*y - y^2 - y}\n",
      "\n",
      "(-t*x^2*y - t*x^2 + t*x*y - t*y^3 + t*y, t*x^2*y - t*x*y - t*y^3 - t*y^2 + t*y) => 0\n",
      "G: {y^7 - y^6 + y^3 + y, x^2*y + x^2 - x*y + y^3 - y, x^2 - y^3 + y^2 + y, -x*y + y^4 + y^3 + y^2 + y, t*x^2*y - t*x*y - t*y^3 - t*y^2 + t*y, t*y^3 + t*y - t - y^3 - y + 1, -t*x^2 - t*x*y - t*x - t*y^2 + x^2 + x*y + x + y^2, t*x - t*y^2 - t*y - t - x + y^2 + y + 1, t*y - t - y + 1, -t*x^2*y - t*x^2 + t*x*y - t*y^3 + t*y, t - 1, -t*x*y + t*y^2 + t*y + x*y - y^2 - y}\n",
      "\n",
      "(-t*x*y + t*y^2 + t*y + x*y - y^2 - y, x^2 - y^3 + y^2 + y) => 0\n",
      "G: {y^7 - y^6 + y^3 + y, x^2*y + x^2 - x*y + y^3 - y, x^2 - y^3 + y^2 + y, -x*y + y^4 + y^3 + y^2 + y, t*x^2*y - t*x*y - t*y^3 - t*y^2 + t*y, t*y^3 + t*y - t - y^3 - y + 1, -t*x^2 - t*x*y - t*x - t*y^2 + x^2 + x*y + x + y^2, t*x - t*y^2 - t*y - t - x + y^2 + y + 1, t*y - t - y + 1, -t*x^2*y - t*x^2 + t*x*y - t*y^3 + t*y, t - 1, -t*x*y + t*y^2 + t*y + x*y - y^2 - y}\n",
      "\n",
      "(t*x^2*y - t*x*y - t*y^3 - t*y^2 + t*y, -t*x^2*y - t*x^2 + t*x*y - t*y^3 + t*y) => 0\n",
      "G: {y^7 - y^6 + y^3 + y, x^2*y + x^2 - x*y + y^3 - y, x^2 - y^3 + y^2 + y, -x*y + y^4 + y^3 + y^2 + y, t*x^2*y - t*x*y - t*y^3 - t*y^2 + t*y, t*y^3 + t*y - t - y^3 - y + 1, -t*x^2 - t*x*y - t*x - t*y^2 + x^2 + x*y + x + y^2, t*x - t*y^2 - t*y - t - x + y^2 + y + 1, t*y - t - y + 1, -t*x^2*y - t*x^2 + t*x*y - t*y^3 + t*y, t - 1, -t*x*y + t*y^2 + t*y + x*y - y^2 - y}\n",
      "\n",
      "(t*x^2*y - t*x*y - t*y^3 - t*y^2 + t*y, -x*y + y^4 + y^3 + y^2 + y) => 0\n",
      "G: {y^7 - y^6 + y^3 + y, x^2*y + x^2 - x*y + y^3 - y, x^2 - y^3 + y^2 + y, -x*y + y^4 + y^3 + y^2 + y, t*x^2*y - t*x*y - t*y^3 - t*y^2 + t*y, t*y^3 + t*y - t - y^3 - y + 1, -t*x^2 - t*x*y - t*x - t*y^2 + x^2 + x*y + x + y^2, t*x - t*y^2 - t*y - t - x + y^2 + y + 1, t*y - t - y + 1, -t*x^2*y - t*x^2 + t*x*y - t*y^3 + t*y, t - 1, -t*x*y + t*y^2 + t*y + x*y - y^2 - y}\n",
      "\n",
      "(t*y^3 + t*y - t - y^3 - y + 1, t - 1) => 0\n",
      "G: {y^7 - y^6 + y^3 + y, x^2*y + x^2 - x*y + y^3 - y, x^2 - y^3 + y^2 + y, -x*y + y^4 + y^3 + y^2 + y, t*x^2*y - t*x*y - t*y^3 - t*y^2 + t*y, t*y^3 + t*y - t - y^3 - y + 1, -t*x^2 - t*x*y - t*x - t*y^2 + x^2 + x*y + x + y^2, t*x - t*y^2 - t*y - t - x + y^2 + y + 1, t*y - t - y + 1, -t*x^2*y - t*x^2 + t*x*y - t*y^3 + t*y, t - 1, -t*x*y + t*y^2 + t*y + x*y - y^2 - y}\n",
      "\n",
      "(t*x^2*y - t*x*y - t*y^3 - t*y^2 + t*y, x^2*y + x^2 - x*y + y^3 - y) => 0\n",
      "G: {y^7 - y^6 + y^3 + y, x^2*y + x^2 - x*y + y^3 - y, x^2 - y^3 + y^2 + y, -x*y + y^4 + y^3 + y^2 + y, t*x^2*y - t*x*y - t*y^3 - t*y^2 + t*y, t*y^3 + t*y - t - y^3 - y + 1, -t*x^2 - t*x*y - t*x - t*y^2 + x^2 + x*y + x + y^2, t*x - t*y^2 - t*y - t - x + y^2 + y + 1, t*y - t - y + 1, -t*x^2*y - t*x^2 + t*x*y - t*y^3 + t*y, t - 1, -t*x*y + t*y^2 + t*y + x*y - y^2 - y}\n",
      "\n",
      "(-t*x^2*y - t*x^2 + t*x*y - t*y^3 + t*y, -x*y + y^4 + y^3 + y^2 + y) => 0\n",
      "G: {y^7 - y^6 + y^3 + y, x^2*y + x^2 - x*y + y^3 - y, x^2 - y^3 + y^2 + y, -x*y + y^4 + y^3 + y^2 + y, t*x^2*y - t*x*y - t*y^3 - t*y^2 + t*y, t*y^3 + t*y - t - y^3 - y + 1, -t*x^2 - t*x*y - t*x - t*y^2 + x^2 + x*y + x + y^2, t*x - t*y^2 - t*y - t - x + y^2 + y + 1, t*y - t - y + 1, -t*x^2*y - t*x^2 + t*x*y - t*y^3 + t*y, t - 1, -t*x*y + t*y^2 + t*y + x*y - y^2 - y}\n",
      "\n",
      "(t*x^2*y - t*x*y - t*y^3 - t*y^2 + t*y, x^2 - y^3 + y^2 + y) => 0\n",
      "G: {y^7 - y^6 + y^3 + y, x^2*y + x^2 - x*y + y^3 - y, x^2 - y^3 + y^2 + y, -x*y + y^4 + y^3 + y^2 + y, t*x^2*y - t*x*y - t*y^3 - t*y^2 + t*y, t*y^3 + t*y - t - y^3 - y + 1, -t*x^2 - t*x*y - t*x - t*y^2 + x^2 + x*y + x + y^2, t*x - t*y^2 - t*y - t - x + y^2 + y + 1, t*y - t - y + 1, -t*x^2*y - t*x^2 + t*x*y - t*y^3 + t*y, t - 1, -t*x*y + t*y^2 + t*y + x*y - y^2 - y}\n",
      "\n",
      "(-t*x^2 - t*x*y - t*x - t*y^2 + x^2 + x*y + x + y^2, -t*x^2*y - t*x^2 + t*x*y - t*y^3 + t*y) => 0\n",
      "G: {y^7 - y^6 + y^3 + y, x^2*y + x^2 - x*y + y^3 - y, x^2 - y^3 + y^2 + y, -x*y + y^4 + y^3 + y^2 + y, t*x^2*y - t*x*y - t*y^3 - t*y^2 + t*y, t*y^3 + t*y - t - y^3 - y + 1, -t*x^2 - t*x*y - t*x - t*y^2 + x^2 + x*y + x + y^2, t*x - t*y^2 - t*y - t - x + y^2 + y + 1, t*y - t - y + 1, -t*x^2*y - t*x^2 + t*x*y - t*y^3 + t*y, t - 1, -t*x*y + t*y^2 + t*y + x*y - y^2 - y}\n",
      "\n",
      "(-t*x^2*y - t*x^2 + t*x*y - t*y^3 + t*y, x^2*y + x^2 - x*y + y^3 - y) => 0\n",
      "G: {y^7 - y^6 + y^3 + y, x^2*y + x^2 - x*y + y^3 - y, x^2 - y^3 + y^2 + y, -x*y + y^4 + y^3 + y^2 + y, t*x^2*y - t*x*y - t*y^3 - t*y^2 + t*y, t*y^3 + t*y - t - y^3 - y + 1, -t*x^2 - t*x*y - t*x - t*y^2 + x^2 + x*y + x + y^2, t*x - t*y^2 - t*y - t - x + y^2 + y + 1, t*y - t - y + 1, -t*x^2*y - t*x^2 + t*x*y - t*y^3 + t*y, t - 1, -t*x*y + t*y^2 + t*y + x*y - y^2 - y}\n",
      "\n",
      "(t*x^2*y - t*x*y - t*y^3 - t*y^2 + t*y, t*x - t*y^2 - t*y - t - x + y^2 + y + 1) => 0\n",
      "G: {y^7 - y^6 + y^3 + y, x^2*y + x^2 - x*y + y^3 - y, x^2 - y^3 + y^2 + y, -x*y + y^4 + y^3 + y^2 + y, t*x^2*y - t*x*y - t*y^3 - t*y^2 + t*y, t*y^3 + t*y - t - y^3 - y + 1, -t*x^2 - t*x*y - t*x - t*y^2 + x^2 + x*y + x + y^2, t*x - t*y^2 - t*y - t - x + y^2 + y + 1, t*y - t - y + 1, -t*x^2*y - t*x^2 + t*x*y - t*y^3 + t*y, t - 1, -t*x*y + t*y^2 + t*y + x*y - y^2 - y}\n",
      "\n",
      "(t*x - t*y^2 - t*y - t - x + y^2 + y + 1, t*x^2*y - t*x*y - t*y^3 - t*y^2 + t*y) => 0\n",
      "G: {y^7 - y^6 + y^3 + y, x^2*y + x^2 - x*y + y^3 - y, x^2 - y^3 + y^2 + y, -x*y + y^4 + y^3 + y^2 + y, t*x^2*y - t*x*y - t*y^3 - t*y^2 + t*y, t*y^3 + t*y - t - y^3 - y + 1, -t*x^2 - t*x*y - t*x - t*y^2 + x^2 + x*y + x + y^2, t*x - t*y^2 - t*y - t - x + y^2 + y + 1, t*y - t - y + 1, -t*x^2*y - t*x^2 + t*x*y - t*y^3 + t*y, t - 1, -t*x*y + t*y^2 + t*y + x*y - y^2 - y}\n",
      "\n",
      "(t*y^3 + t*y - t - y^3 - y + 1, t*y - t - y + 1) => 0\n",
      "G: {y^7 - y^6 + y^3 + y, x^2*y + x^2 - x*y + y^3 - y, x^2 - y^3 + y^2 + y, -x*y + y^4 + y^3 + y^2 + y, t*x^2*y - t*x*y - t*y^3 - t*y^2 + t*y, t*y^3 + t*y - t - y^3 - y + 1, -t*x^2 - t*x*y - t*x - t*y^2 + x^2 + x*y + x + y^2, t*x - t*y^2 - t*y - t - x + y^2 + y + 1, t*y - t - y + 1, -t*x^2*y - t*x^2 + t*x*y - t*y^3 + t*y, t - 1, -t*x*y + t*y^2 + t*y + x*y - y^2 - y}\n",
      "\n",
      "(-t*x*y + t*y^2 + t*y + x*y - y^2 - y, -t*x^2 - t*x*y - t*x - t*y^2 + x^2 + x*y + x + y^2) => 0\n",
      "G: {y^7 - y^6 + y^3 + y, x^2*y + x^2 - x*y + y^3 - y, x^2 - y^3 + y^2 + y, -x*y + y^4 + y^3 + y^2 + y, t*x^2*y - t*x*y - t*y^3 - t*y^2 + t*y, t*y^3 + t*y - t - y^3 - y + 1, -t*x^2 - t*x*y - t*x - t*y^2 + x^2 + x*y + x + y^2, t*x - t*y^2 - t*y - t - x + y^2 + y + 1, t*y - t - y + 1, -t*x^2*y - t*x^2 + t*x*y - t*y^3 + t*y, t - 1, -t*x*y + t*y^2 + t*y + x*y - y^2 - y}\n",
      "\n",
      "(t*x^2*y - t*x*y - t*y^3 - t*y^2 + t*y, t - 1) => 0\n",
      "G: {y^7 - y^6 + y^3 + y, x^2*y + x^2 - x*y + y^3 - y, x^2 - y^3 + y^2 + y, -x*y + y^4 + y^3 + y^2 + y, t*x^2*y - t*x*y - t*y^3 - t*y^2 + t*y, t*y^3 + t*y - t - y^3 - y + 1, -t*x^2 - t*x*y - t*x - t*y^2 + x^2 + x*y + x + y^2, t*x - t*y^2 - t*y - t - x + y^2 + y + 1, t*y - t - y + 1, -t*x^2*y - t*x^2 + t*x*y - t*y^3 + t*y, t - 1, -t*x*y + t*y^2 + t*y + x*y - y^2 - y}\n",
      "\n",
      "(-t*x^2*y - t*x^2 + t*x*y - t*y^3 + t*y, x^2 - y^3 + y^2 + y) => 0\n",
      "G: {y^7 - y^6 + y^3 + y, x^2*y + x^2 - x*y + y^3 - y, x^2 - y^3 + y^2 + y, -x*y + y^4 + y^3 + y^2 + y, t*x^2*y - t*x*y - t*y^3 - t*y^2 + t*y, t*y^3 + t*y - t - y^3 - y + 1, -t*x^2 - t*x*y - t*x - t*y^2 + x^2 + x*y + x + y^2, t*x - t*y^2 - t*y - t - x + y^2 + y + 1, t*y - t - y + 1, -t*x^2*y - t*x^2 + t*x*y - t*y^3 + t*y, t - 1, -t*x*y + t*y^2 + t*y + x*y - y^2 - y}\n",
      "\n",
      "(-t*x*y + t*y^2 + t*y + x*y - y^2 - y, t*x^2*y - t*x*y - t*y^3 - t*y^2 + t*y) => 0\n",
      "G: {y^7 - y^6 + y^3 + y, x^2*y + x^2 - x*y + y^3 - y, x^2 - y^3 + y^2 + y, -x*y + y^4 + y^3 + y^2 + y, t*x^2*y - t*x*y - t*y^3 - t*y^2 + t*y, t*y^3 + t*y - t - y^3 - y + 1, -t*x^2 - t*x*y - t*x - t*y^2 + x^2 + x*y + x + y^2, t*x - t*y^2 - t*y - t - x + y^2 + y + 1, t*y - t - y + 1, -t*x^2*y - t*x^2 + t*x*y - t*y^3 + t*y, t - 1, -t*x*y + t*y^2 + t*y + x*y - y^2 - y}\n",
      "\n",
      "(t*x^2*y - t*x*y - t*y^3 - t*y^2 + t*y, -t*x*y + t*y^2 + t*y + x*y - y^2 - y) => 0\n",
      "G: {y^7 - y^6 + y^3 + y, x^2*y + x^2 - x*y + y^3 - y, x^2 - y^3 + y^2 + y, -x*y + y^4 + y^3 + y^2 + y, t*x^2*y - t*x*y - t*y^3 - t*y^2 + t*y, t*y^3 + t*y - t - y^3 - y + 1, -t*x^2 - t*x*y - t*x - t*y^2 + x^2 + x*y + x + y^2, t*x - t*y^2 - t*y - t - x + y^2 + y + 1, t*y - t - y + 1, -t*x^2*y - t*x^2 + t*x*y - t*y^3 + t*y, t - 1, -t*x*y + t*y^2 + t*y + x*y - y^2 - y}\n",
      "\n",
      "(-t*x^2 - t*x*y - t*x - t*y^2 + x^2 + x*y + x + y^2, -x*y + y^4 + y^3 + y^2 + y) => 0\n",
      "G: {y^7 - y^6 + y^3 + y, x^2*y + x^2 - x*y + y^3 - y, x^2 - y^3 + y^2 + y, -x*y + y^4 + y^3 + y^2 + y, t*x^2*y - t*x*y - t*y^3 - t*y^2 + t*y, t*y^3 + t*y - t - y^3 - y + 1, -t*x^2 - t*x*y - t*x - t*y^2 + x^2 + x*y + x + y^2, t*x - t*y^2 - t*y - t - x + y^2 + y + 1, t*y - t - y + 1, -t*x^2*y - t*x^2 + t*x*y - t*y^3 + t*y, t - 1, -t*x*y + t*y^2 + t*y + x*y - y^2 - y}\n",
      "\n",
      "(-t*x^2*y - t*x^2 + t*x*y - t*y^3 + t*y, t - 1) => 0\n",
      "G: {y^7 - y^6 + y^3 + y, x^2*y + x^2 - x*y + y^3 - y, x^2 - y^3 + y^2 + y, -x*y + y^4 + y^3 + y^2 + y, t*x^2*y - t*x*y - t*y^3 - t*y^2 + t*y, t*y^3 + t*y - t - y^3 - y + 1, -t*x^2 - t*x*y - t*x - t*y^2 + x^2 + x*y + x + y^2, t*x - t*y^2 - t*y - t - x + y^2 + y + 1, t*y - t - y + 1, -t*x^2*y - t*x^2 + t*x*y - t*y^3 + t*y, t - 1, -t*x*y + t*y^2 + t*y + x*y - y^2 - y}\n",
      "\n",
      "(-t*x^2*y - t*x^2 + t*x*y - t*y^3 + t*y, t*x - t*y^2 - t*y - t - x + y^2 + y + 1) => 0\n",
      "G: {y^7 - y^6 + y^3 + y, x^2*y + x^2 - x*y + y^3 - y, x^2 - y^3 + y^2 + y, -x*y + y^4 + y^3 + y^2 + y, t*x^2*y - t*x*y - t*y^3 - t*y^2 + t*y, t*y^3 + t*y - t - y^3 - y + 1, -t*x^2 - t*x*y - t*x - t*y^2 + x^2 + x*y + x + y^2, t*x - t*y^2 - t*y - t - x + y^2 + y + 1, t*y - t - y + 1, -t*x^2*y - t*x^2 + t*x*y - t*y^3 + t*y, t - 1, -t*x*y + t*y^2 + t*y + x*y - y^2 - y}\n",
      "\n",
      "(t*x - t*y^2 - t*y - t - x + y^2 + y + 1, -t*x^2*y - t*x^2 + t*x*y - t*y^3 + t*y) => 0\n",
      "G: {y^7 - y^6 + y^3 + y, x^2*y + x^2 - x*y + y^3 - y, x^2 - y^3 + y^2 + y, -x*y + y^4 + y^3 + y^2 + y, t*x^2*y - t*x*y - t*y^3 - t*y^2 + t*y, t*y^3 + t*y - t - y^3 - y + 1, -t*x^2 - t*x*y - t*x - t*y^2 + x^2 + x*y + x + y^2, t*x - t*y^2 - t*y - t - x + y^2 + y + 1, t*y - t - y + 1, -t*x^2*y - t*x^2 + t*x*y - t*y^3 + t*y, t - 1, -t*x*y + t*y^2 + t*y + x*y - y^2 - y}\n",
      "\n",
      "(-t*x^2 - t*x*y - t*x - t*y^2 + x^2 + x*y + x + y^2, x^2*y + x^2 - x*y + y^3 - y) => 0\n",
      "G: {y^7 - y^6 + y^3 + y, x^2*y + x^2 - x*y + y^3 - y, x^2 - y^3 + y^2 + y, -x*y + y^4 + y^3 + y^2 + y, t*x^2*y - t*x*y - t*y^3 - t*y^2 + t*y, t*y^3 + t*y - t - y^3 - y + 1, -t*x^2 - t*x*y - t*x - t*y^2 + x^2 + x*y + x + y^2, t*x - t*y^2 - t*y - t - x + y^2 + y + 1, t*y - t - y + 1, -t*x^2*y - t*x^2 + t*x*y - t*y^3 + t*y, t - 1, -t*x*y + t*y^2 + t*y + x*y - y^2 - y}\n",
      "\n",
      "(t*x^2*y - t*x*y - t*y^3 - t*y^2 + t*y, t*y - t - y + 1) => 0\n",
      "G: {y^7 - y^6 + y^3 + y, x^2*y + x^2 - x*y + y^3 - y, x^2 - y^3 + y^2 + y, -x*y + y^4 + y^3 + y^2 + y, t*x^2*y - t*x*y - t*y^3 - t*y^2 + t*y, t*y^3 + t*y - t - y^3 - y + 1, -t*x^2 - t*x*y - t*x - t*y^2 + x^2 + x*y + x + y^2, t*x - t*y^2 - t*y - t - x + y^2 + y + 1, t*y - t - y + 1, -t*x^2*y - t*x^2 + t*x*y - t*y^3 + t*y, t - 1, -t*x*y + t*y^2 + t*y + x*y - y^2 - y}\n",
      "\n",
      "(t*y^3 + t*y - t - y^3 - y + 1, -x*y + y^4 + y^3 + y^2 + y) => 0\n",
      "G: {y^7 - y^6 + y^3 + y, x^2*y + x^2 - x*y + y^3 - y, x^2 - y^3 + y^2 + y, -x*y + y^4 + y^3 + y^2 + y, t*x^2*y - t*x*y - t*y^3 - t*y^2 + t*y, t*y^3 + t*y - t - y^3 - y + 1, -t*x^2 - t*x*y - t*x - t*y^2 + x^2 + x*y + x + y^2, t*x - t*y^2 - t*y - t - x + y^2 + y + 1, t*y - t - y + 1, -t*x^2*y - t*x^2 + t*x*y - t*y^3 + t*y, t - 1, -t*x*y + t*y^2 + t*y + x*y - y^2 - y}\n",
      "\n",
      "(t*x - t*y^2 - t*y - t - x + y^2 + y + 1, t*y^3 + t*y - t - y^3 - y + 1) => 0\n",
      "G: {y^7 - y^6 + y^3 + y, x^2*y + x^2 - x*y + y^3 - y, x^2 - y^3 + y^2 + y, -x*y + y^4 + y^3 + y^2 + y, t*x^2*y - t*x*y - t*y^3 - t*y^2 + t*y, t*y^3 + t*y - t - y^3 - y + 1, -t*x^2 - t*x*y - t*x - t*y^2 + x^2 + x*y + x + y^2, t*x - t*y^2 - t*y - t - x + y^2 + y + 1, t*y - t - y + 1, -t*x^2*y - t*x^2 + t*x*y - t*y^3 + t*y, t - 1, -t*x*y + t*y^2 + t*y + x*y - y^2 - y}\n",
      "\n",
      "(-t*x*y + t*y^2 + t*y + x*y - y^2 - y, t*y^3 + t*y - t - y^3 - y + 1) => 0\n",
      "G: {y^7 - y^6 + y^3 + y, x^2*y + x^2 - x*y + y^3 - y, x^2 - y^3 + y^2 + y, -x*y + y^4 + y^3 + y^2 + y, t*x^2*y - t*x*y - t*y^3 - t*y^2 + t*y, t*y^3 + t*y - t - y^3 - y + 1, -t*x^2 - t*x*y - t*x - t*y^2 + x^2 + x*y + x + y^2, t*x - t*y^2 - t*y - t - x + y^2 + y + 1, t*y - t - y + 1, -t*x^2*y - t*x^2 + t*x*y - t*y^3 + t*y, t - 1, -t*x*y + t*y^2 + t*y + x*y - y^2 - y}\n",
      "\n",
      "(-t*x^2*y - t*x^2 + t*x*y - t*y^3 + t*y, t*y^3 + t*y - t - y^3 - y + 1) => 0\n",
      "G: {y^7 - y^6 + y^3 + y, x^2*y + x^2 - x*y + y^3 - y, x^2 - y^3 + y^2 + y, -x*y + y^4 + y^3 + y^2 + y, t*x^2*y - t*x*y - t*y^3 - t*y^2 + t*y, t*y^3 + t*y - t - y^3 - y + 1, -t*x^2 - t*x*y - t*x - t*y^2 + x^2 + x*y + x + y^2, t*x - t*y^2 - t*y - t - x + y^2 + y + 1, t*y - t - y + 1, -t*x^2*y - t*x^2 + t*x*y - t*y^3 + t*y, t - 1, -t*x*y + t*y^2 + t*y + x*y - y^2 - y}\n",
      "\n",
      "(-t*x^2 - t*x*y - t*x - t*y^2 + x^2 + x*y + x + y^2, t*y^3 + t*y - t - y^3 - y + 1) => 0\n",
      "G: {y^7 - y^6 + y^3 + y, x^2*y + x^2 - x*y + y^3 - y, x^2 - y^3 + y^2 + y, -x*y + y^4 + y^3 + y^2 + y, t*x^2*y - t*x*y - t*y^3 - t*y^2 + t*y, t*y^3 + t*y - t - y^3 - y + 1, -t*x^2 - t*x*y - t*x - t*y^2 + x^2 + x*y + x + y^2, t*x - t*y^2 - t*y - t - x + y^2 + y + 1, t*y - t - y + 1, -t*x^2*y - t*x^2 + t*x*y - t*y^3 + t*y, t - 1, -t*x*y + t*y^2 + t*y + x*y - y^2 - y}\n",
      "\n",
      "(t*y^3 + t*y - t - y^3 - y + 1, x^2*y + x^2 - x*y + y^3 - y) => 0\n",
      "G: {y^7 - y^6 + y^3 + y, x^2*y + x^2 - x*y + y^3 - y, x^2 - y^3 + y^2 + y, -x*y + y^4 + y^3 + y^2 + y, t*x^2*y - t*x*y - t*y^3 - t*y^2 + t*y, t*y^3 + t*y - t - y^3 - y + 1, -t*x^2 - t*x*y - t*x - t*y^2 + x^2 + x*y + x + y^2, t*x - t*y^2 - t*y - t - x + y^2 + y + 1, t*y - t - y + 1, -t*x^2*y - t*x^2 + t*x*y - t*y^3 + t*y, t - 1, -t*x*y + t*y^2 + t*y + x*y - y^2 - y}\n",
      "\n",
      "(t*y^3 + t*y - t - y^3 - y + 1, x^2 - y^3 + y^2 + y) => 0\n",
      "G: {y^7 - y^6 + y^3 + y, x^2*y + x^2 - x*y + y^3 - y, x^2 - y^3 + y^2 + y, -x*y + y^4 + y^3 + y^2 + y, t*x^2*y - t*x*y - t*y^3 - t*y^2 + t*y, t*y^3 + t*y - t - y^3 - y + 1, -t*x^2 - t*x*y - t*x - t*y^2 + x^2 + x*y + x + y^2, t*x - t*y^2 - t*y - t - x + y^2 + y + 1, t*y - t - y + 1, -t*x^2*y - t*x^2 + t*x*y - t*y^3 + t*y, t - 1, -t*x*y + t*y^2 + t*y + x*y - y^2 - y}\n",
      "\n",
      "(t*x^2*y - t*x*y - t*y^3 - t*y^2 + t*y, t*y^3 + t*y - t - y^3 - y + 1) => 0\n",
      "G: {y^7 - y^6 + y^3 + y, x^2*y + x^2 - x*y + y^3 - y, x^2 - y^3 + y^2 + y, -x*y + y^4 + y^3 + y^2 + y, t*x^2*y - t*x*y - t*y^3 - t*y^2 + t*y, t*y^3 + t*y - t - y^3 - y + 1, -t*x^2 - t*x*y - t*x - t*y^2 + x^2 + x*y + x + y^2, t*x - t*y^2 - t*y - t - x + y^2 + y + 1, t*y - t - y + 1, -t*x^2*y - t*x^2 + t*x*y - t*y^3 + t*y, t - 1, -t*x*y + t*y^2 + t*y + x*y - y^2 - y}\n",
      "\n",
      "(t*y^3 + t*y - t - y^3 - y + 1, y^7 - y^6 + y^3 + y) => 0\n",
      "G: {y^7 - y^6 + y^3 + y, x^2*y + x^2 - x*y + y^3 - y, x^2 - y^3 + y^2 + y, -x*y + y^4 + y^3 + y^2 + y, t*x^2*y - t*x*y - t*y^3 - t*y^2 + t*y, t*y^3 + t*y - t - y^3 - y + 1, -t*x^2 - t*x*y - t*x - t*y^2 + x^2 + x*y + x + y^2, t*x - t*y^2 - t*y - t - x + y^2 + y + 1, t*y - t - y + 1, -t*x^2*y - t*x^2 + t*x*y - t*y^3 + t*y, t - 1, -t*x*y + t*y^2 + t*y + x*y - y^2 - y}\n",
      "\n",
      "(t*y - t - y + 1, y^7 - y^6 + y^3 + y) => 0\n",
      "G: {y^7 - y^6 + y^3 + y, x^2*y + x^2 - x*y + y^3 - y, x^2 - y^3 + y^2 + y, -x*y + y^4 + y^3 + y^2 + y, t*x^2*y - t*x*y - t*y^3 - t*y^2 + t*y, t*y^3 + t*y - t - y^3 - y + 1, -t*x^2 - t*x*y - t*x - t*y^2 + x^2 + x*y + x + y^2, t*x - t*y^2 - t*y - t - x + y^2 + y + 1, t*y - t - y + 1, -t*x^2*y - t*x^2 + t*x*y - t*y^3 + t*y, t - 1, -t*x*y + t*y^2 + t*y + x*y - y^2 - y}\n",
      "\n",
      "(-x*y + y^4 + y^3 + y^2 + y, y^7 - y^6 + y^3 + y) => 0\n",
      "G: {y^7 - y^6 + y^3 + y, x^2*y + x^2 - x*y + y^3 - y, x^2 - y^3 + y^2 + y, -x*y + y^4 + y^3 + y^2 + y, t*x^2*y - t*x*y - t*y^3 - t*y^2 + t*y, t*y^3 + t*y - t - y^3 - y + 1, -t*x^2 - t*x*y - t*x - t*y^2 + x^2 + x*y + x + y^2, t*x - t*y^2 - t*y - t - x + y^2 + y + 1, t*y - t - y + 1, -t*x^2*y - t*x^2 + t*x*y - t*y^3 + t*y, t - 1, -t*x*y + t*y^2 + t*y + x*y - y^2 - y}\n",
      "\n",
      "(t - 1, y^7 - y^6 + y^3 + y) => 0\n",
      "G: {y^7 - y^6 + y^3 + y, x^2*y + x^2 - x*y + y^3 - y, x^2 - y^3 + y^2 + y, -x*y + y^4 + y^3 + y^2 + y, t*x^2*y - t*x*y - t*y^3 - t*y^2 + t*y, t*y^3 + t*y - t - y^3 - y + 1, -t*x^2 - t*x*y - t*x - t*y^2 + x^2 + x*y + x + y^2, t*x - t*y^2 - t*y - t - x + y^2 + y + 1, t*y - t - y + 1, -t*x^2*y - t*x^2 + t*x*y - t*y^3 + t*y, t - 1, -t*x*y + t*y^2 + t*y + x*y - y^2 - y}\n",
      "\n",
      "(x^2*y + x^2 - x*y + y^3 - y, y^7 - y^6 + y^3 + y) => 0\n",
      "G: {y^7 - y^6 + y^3 + y, x^2*y + x^2 - x*y + y^3 - y, x^2 - y^3 + y^2 + y, -x*y + y^4 + y^3 + y^2 + y, t*x^2*y - t*x*y - t*y^3 - t*y^2 + t*y, t*y^3 + t*y - t - y^3 - y + 1, -t*x^2 - t*x*y - t*x - t*y^2 + x^2 + x*y + x + y^2, t*x - t*y^2 - t*y - t - x + y^2 + y + 1, t*y - t - y + 1, -t*x^2*y - t*x^2 + t*x*y - t*y^3 + t*y, t - 1, -t*x*y + t*y^2 + t*y + x*y - y^2 - y}\n",
      "\n",
      "(x^2 - y^3 + y^2 + y, y^7 - y^6 + y^3 + y) => 0\n",
      "G: {y^7 - y^6 + y^3 + y, x^2*y + x^2 - x*y + y^3 - y, x^2 - y^3 + y^2 + y, -x*y + y^4 + y^3 + y^2 + y, t*x^2*y - t*x*y - t*y^3 - t*y^2 + t*y, t*y^3 + t*y - t - y^3 - y + 1, -t*x^2 - t*x*y - t*x - t*y^2 + x^2 + x*y + x + y^2, t*x - t*y^2 - t*y - t - x + y^2 + y + 1, t*y - t - y + 1, -t*x^2*y - t*x^2 + t*x*y - t*y^3 + t*y, t - 1, -t*x*y + t*y^2 + t*y + x*y - y^2 - y}\n",
      "\n",
      "(t*x - t*y^2 - t*y - t - x + y^2 + y + 1, y^7 - y^6 + y^3 + y) => 0\n",
      "G: {y^7 - y^6 + y^3 + y, x^2*y + x^2 - x*y + y^3 - y, x^2 - y^3 + y^2 + y, -x*y + y^4 + y^3 + y^2 + y, t*x^2*y - t*x*y - t*y^3 - t*y^2 + t*y, t*y^3 + t*y - t - y^3 - y + 1, -t*x^2 - t*x*y - t*x - t*y^2 + x^2 + x*y + x + y^2, t*x - t*y^2 - t*y - t - x + y^2 + y + 1, t*y - t - y + 1, -t*x^2*y - t*x^2 + t*x*y - t*y^3 + t*y, t - 1, -t*x*y + t*y^2 + t*y + x*y - y^2 - y}\n",
      "\n",
      "(-t*x*y + t*y^2 + t*y + x*y - y^2 - y, y^7 - y^6 + y^3 + y) => 0\n",
      "G: {y^7 - y^6 + y^3 + y, x^2*y + x^2 - x*y + y^3 - y, x^2 - y^3 + y^2 + y, -x*y + y^4 + y^3 + y^2 + y, t*x^2*y - t*x*y - t*y^3 - t*y^2 + t*y, t*y^3 + t*y - t - y^3 - y + 1, -t*x^2 - t*x*y - t*x - t*y^2 + x^2 + x*y + x + y^2, t*x - t*y^2 - t*y - t - x + y^2 + y + 1, t*y - t - y + 1, -t*x^2*y - t*x^2 + t*x*y - t*y^3 + t*y, t - 1, -t*x*y + t*y^2 + t*y + x*y - y^2 - y}\n",
      "\n",
      "(t*x^2*y - t*x*y - t*y^3 - t*y^2 + t*y, y^7 - y^6 + y^3 + y) => 0\n",
      "G: {y^7 - y^6 + y^3 + y, x^2*y + x^2 - x*y + y^3 - y, x^2 - y^3 + y^2 + y, -x*y + y^4 + y^3 + y^2 + y, t*x^2*y - t*x*y - t*y^3 - t*y^2 + t*y, t*y^3 + t*y - t - y^3 - y + 1, -t*x^2 - t*x*y - t*x - t*y^2 + x^2 + x*y + x + y^2, t*x - t*y^2 - t*y - t - x + y^2 + y + 1, t*y - t - y + 1, -t*x^2*y - t*x^2 + t*x*y - t*y^3 + t*y, t - 1, -t*x*y + t*y^2 + t*y + x*y - y^2 - y}\n",
      "\n",
      "(-t*x^2*y - t*x^2 + t*x*y - t*y^3 + t*y, y^7 - y^6 + y^3 + y) => 0\n",
      "G: {y^7 - y^6 + y^3 + y, x^2*y + x^2 - x*y + y^3 - y, x^2 - y^3 + y^2 + y, -x*y + y^4 + y^3 + y^2 + y, t*x^2*y - t*x*y - t*y^3 - t*y^2 + t*y, t*y^3 + t*y - t - y^3 - y + 1, -t*x^2 - t*x*y - t*x - t*y^2 + x^2 + x*y + x + y^2, t*x - t*y^2 - t*y - t - x + y^2 + y + 1, t*y - t - y + 1, -t*x^2*y - t*x^2 + t*x*y - t*y^3 + t*y, t - 1, -t*x*y + t*y^2 + t*y + x*y - y^2 - y}\n",
      "\n",
      "(-t*x^2 - t*x*y - t*x - t*y^2 + x^2 + x*y + x + y^2, y^7 - y^6 + y^3 + y) => 0\n",
      "G: {y^7 - y^6 + y^3 + y, x^2*y + x^2 - x*y + y^3 - y, x^2 - y^3 + y^2 + y, -x*y + y^4 + y^3 + y^2 + y, t*x^2*y - t*x*y - t*y^3 - t*y^2 + t*y, t*y^3 + t*y - t - y^3 - y + 1, -t*x^2 - t*x*y - t*x - t*y^2 + x^2 + x*y + x + y^2, t*x - t*y^2 - t*y - t - x + y^2 + y + 1, t*y - t - y + 1, -t*x^2*y - t*x^2 + t*x*y - t*y^3 + t*y, t - 1, -t*x*y + t*y^2 + t*y + x*y - y^2 - y}\n",
      "\n",
      "69 reductions to zero.\n"
     ]
    },
    {
     "data": {
      "text/plain": [
       "[y^7 - y^6 + y^3 + y, x^2*y + x^2 - x*y + y^3 - y, x^2 - y^3 + y^2 + y, -x*y + y^4 + y^3 + y^2 + y, t*x^2*y - t*x*y - t*y^3 - t*y^2 + t*y, t*y^3 + t*y - t - y^3 - y + 1, -t*x^2 - t*x*y - t*x - t*y^2 + x^2 + x*y + x + y^2, t*x - t*y^2 - t*y - t - x + y^2 + y + 1, t*y - t - y + 1, -t*x^2*y - t*x^2 + t*x*y - t*y^3 + t*y, t - 1, -t*x*y + t*y^2 + t*y + x*y - y^2 - y]"
      ]
     },
     "execution_count": 8,
     "metadata": {},
     "output_type": "execute_result"
    }
   ],
   "source": [
    "set_verbose(1)\n",
    "buchberger(ideal(H))"
   ]
  },
  {
   "cell_type": "code",
   "execution_count": 9,
   "metadata": {},
   "outputs": [
    {
     "data": {
      "text/plain": [
       "[t - 1, x^2 - y^3 + y^2 + y, x*y - y^4 - y^3 - y^2 - y, y^7 - y^6 + y^3 + y]"
      ]
     },
     "execution_count": 9,
     "metadata": {},
     "output_type": "execute_result"
    }
   ],
   "source": [
    "ideal(H).groebner_basis()"
   ]
  },
  {
   "cell_type": "code",
   "execution_count": 10,
   "metadata": {},
   "outputs": [
    {
     "data": {
      "text/plain": [
       "[x^2 - y^3 + y^2 + y, x*y - y^4 - y^3 - y^2 - y, y^7 - y^6 + y^3 + y]"
      ]
     },
     "execution_count": 10,
     "metadata": {},
     "output_type": "execute_result"
    }
   ],
   "source": [
    "ideal(F).groebner_basis()"
   ]
  },
  {
   "cell_type": "code",
   "execution_count": 11,
   "metadata": {},
   "outputs": [
    {
     "data": {
      "text/plain": [
       "Multivariate Polynomial Ring in u, v over Rational Field"
      ]
     },
     "execution_count": 11,
     "metadata": {},
     "output_type": "execute_result"
    }
   ],
   "source": [
    "P.<u,v> = PolynomialRing(QQ,order='lex')\n",
    "P"
   ]
  },
  {
   "cell_type": "code",
   "execution_count": 12,
   "metadata": {},
   "outputs": [
    {
     "data": {
      "text/plain": [
       "Multivariate Polynomial Ring in x, y, z over Rational Field"
      ]
     },
     "execution_count": 12,
     "metadata": {},
     "output_type": "execute_result"
    }
   ],
   "source": [
    "R.<x,y,z> = PolynomialRing(QQ,order='lex')\n",
    "R"
   ]
  },
  {
   "cell_type": "code",
   "execution_count": 13,
   "metadata": {},
   "outputs": [
    {
     "data": {
      "text/plain": [
       "Multivariate Polynomial Ring in u, v, x, y, z over Rational Field"
      ]
     },
     "execution_count": 13,
     "metadata": {},
     "output_type": "execute_result"
    }
   ],
   "source": [
    "S.<u,v,x,y,z> = PolynomialRing(QQ,order='lex')\n",
    "S"
   ]
  },
  {
   "cell_type": "code",
   "execution_count": 14,
   "metadata": {},
   "outputs": [
    {
     "data": {
      "text/plain": [
       "(u^2 - v^2, u^2 + v^2 + v, -u*v + u + v)"
      ]
     },
     "execution_count": 14,
     "metadata": {},
     "output_type": "execute_result"
    }
   ],
   "source": [
    "fx = P.random_element(2)\n",
    "fx = u^2 - v^2\n",
    "fy = P.random_element(2)\n",
    "fy = u^2 + v^2 + v\n",
    "fz = P.random_element(2)\n",
    "fz = -u*v + u + v\n",
    "fx,fy,fz"
   ]
  },
  {
   "cell_type": "code",
   "execution_count": 15,
   "metadata": {},
   "outputs": [],
   "source": [
    "I = S.ideal([x - fx, y - fy, z - fz])"
   ]
  },
  {
   "cell_type": "code",
   "execution_count": 16,
   "metadata": {},
   "outputs": [
    {
     "data": {
      "text/plain": [
       "[u^2 + 1/2*v - 1/2*x - 1/2*y, u*v - u - v + z, u*x - u*y + 3*u - 2*v*z + 2*v - x + y - 3*z, u*z - u - 1/4*v*y + v*z - 9/16*v - 1/8*x^2 - 1/16*x + 1/8*y^2 - 7/16*y - 1/2*z^2 + z, v^2 + 1/2*v + 1/2*x - 1/2*y, v*x + 3/2*v*y - 2*v*z + 5/8*v + 1/4*x^2 - 3/8*x - 1/4*y^2 - 5/8*y + z^2, v*y^2 - 24/5*v*y*z + 13/10*v*y + 32/5*v*z^2 - 22/5*v*z + 17/16*v - 1/5*x^3 + 3/10*x^2*y - 2/5*x^2*z - 19/40*x^2 + 1/5*x*y^2 - 3/4*x*y - 4/5*x*z^2 + 19/5*x*z - 179/80*x - 3/10*y^3 + 2/5*y^2*z + 33/40*y^2 + 6/5*y*z^2 - 11/5*y*z - 17/16*y - 8/5*z^3 + 33/10*z^2, x^4 + 3*x^3 - 2*x^2*y^2 + 8*x^2*y + 8*x^2*z^2 - 28*x^2*z + 14*x^2 - x*y^2 - 16*x*y*z + 22*x*y + 12*x*z^2 - 26*x*z + 5*x + y^4 - 10*y^3 - 8*y^2*z^2 + 44*y^2*z - 64*y*z^2 + 10*y*z + 16*z^4 + 16*z^3 - 5*z^2]"
      ]
     },
     "execution_count": 16,
     "metadata": {},
     "output_type": "execute_result"
    }
   ],
   "source": [
    "I.groebner_basis()"
   ]
  },
  {
   "cell_type": "code",
   "execution_count": 17,
   "metadata": {
    "scrolled": false
   },
   "outputs": [
    {
     "name": "stdout",
     "output_type": "stream",
     "text": [
      "(-u^2 - v^2 - v + y, -u^2 + v^2 + x) => 2*v^2 + v + x - y\n",
      "G: {-u^2 - v^2 - v + y, u*v - u - v + z, -u^2 + v^2 + x, 2*v^2 + v + x - y}\n",
      "\n",
      "(-u^2 + v^2 + x, -u^2 - v^2 - v + y) => 0\n",
      "G: {-u^2 - v^2 - v + y, u*v - u - v + z, -u^2 + v^2 + x, 2*v^2 + v + x - y}\n",
      "\n",
      "(u*v - u - v + z, 2*v^2 + v + x - y) => -1/2*u*x + 1/2*u*y - 3/2*u + v*z - v + 1/2*x - 1/2*y + 3/2*z\n",
      "G: {u*v - u - v + z, -1/2*u*x + 1/2*u*y - 3/2*u + v*z - v + 1/2*x - 1/2*y + 3/2*z, -u^2 + v^2 + x, 2*v^2 + v + x - y, -u^2 - v^2 - v + y}\n",
      "\n",
      "(-u^2 - v^2 - v + y, u*v - u - v + z) => -u*z + u - 1/2*v*x - 1/2*v*y + 1/4*v + 1/4*x + 3/4*y - z\n",
      "G: {-u*z + u - 1/2*v*x - 1/2*v*y + 1/4*v + 1/4*x + 3/4*y - z, u*v - u - v + z, -1/2*u*x + 1/2*u*y - 3/2*u + v*z - v + 1/2*x - 1/2*y + 3/2*z, -u^2 + v^2 + x, 2*v^2 + v + x - y, -u^2 - v^2 - v + y}\n",
      "\n",
      "(u*v - u - v + z, -1/2*u*x + 1/2*u*y - 3/2*u + v*z - v + 1/2*x - 1/2*y + 3/2*z) => 0\n",
      "G: {-u*z + u - 1/2*v*x - 1/2*v*y + 1/4*v + 1/4*x + 3/4*y - z, u*v - u - v + z, -1/2*u*x + 1/2*u*y - 3/2*u + v*z - v + 1/2*x - 1/2*y + 3/2*z, -u^2 + v^2 + x, 2*v^2 + v + x - y, -u^2 - v^2 - v + y}\n",
      "\n",
      "(-1/2*u*x + 1/2*u*y - 3/2*u + v*z - v + 1/2*x - 1/2*y + 3/2*z, -u*z + u - 1/2*v*x - 1/2*v*y + 1/4*v + 1/4*x + 3/4*y - z) => -1/2*v*x^2 - 5/4*v*x + 1/2*v*y^2 - 7/4*v*y - 2*v*z^2 + 4*v*z - 5/4*v + 1/4*x^2 + 1/2*x*y - 2*x*z + 7/4*x - 3/4*y^2 + 2*y*z + 5/4*y - 3*z^2\n",
      "G: {-u*z + u - 1/2*v*x - 1/2*v*y + 1/4*v + 1/4*x + 3/4*y - z, u*v - u - v + z, -1/2*u*x + 1/2*u*y - 3/2*u + v*z - v + 1/2*x - 1/2*y + 3/2*z, -u^2 + v^2 + x, 2*v^2 + v + x - y, -1/2*v*x^2 - 5/4*v*x + 1/2*v*y^2 - 7/4*v*y - 2*v*z^2 + 4*v*z - 5/4*v + 1/4*x^2 + 1/2*x*y - 2*x*z + 7/4*x - 3/4*y^2 + 2*y*z + 5/4*y - 3*z^2, -u^2 - v^2 - v + y}\n",
      "\n",
      "(-u^2 + v^2 + x, -u*z + u - 1/2*v*x - 1/2*v*y + 1/4*v + 1/4*x + 3/4*y - z) => 0\n",
      "G: {-u*z + u - 1/2*v*x - 1/2*v*y + 1/4*v + 1/4*x + 3/4*y - z, u*v - u - v + z, -1/2*u*x + 1/2*u*y - 3/2*u + v*z - v + 1/2*x - 1/2*y + 3/2*z, -u^2 + v^2 + x, 2*v^2 + v + x - y, -1/2*v*x^2 - 5/4*v*x + 1/2*v*y^2 - 7/4*v*y - 2*v*z^2 + 4*v*z - 5/4*v + 1/4*x^2 + 1/2*x*y - 2*x*z + 7/4*x - 3/4*y^2 + 2*y*z + 5/4*y - 3*z^2, -u^2 - v^2 - v + y}\n",
      "\n",
      "(-u^2 + v^2 + x, u*v - u - v + z) => 0\n",
      "G: {-u*z + u - 1/2*v*x - 1/2*v*y + 1/4*v + 1/4*x + 3/4*y - z, u*v - u - v + z, -1/2*u*x + 1/2*u*y - 3/2*u + v*z - v + 1/2*x - 1/2*y + 3/2*z, -u^2 + v^2 + x, 2*v^2 + v + x - y, -1/2*v*x^2 - 5/4*v*x + 1/2*v*y^2 - 7/4*v*y - 2*v*z^2 + 4*v*z - 5/4*v + 1/4*x^2 + 1/2*x*y - 2*x*z + 7/4*x - 3/4*y^2 + 2*y*z + 5/4*y - 3*z^2, -u^2 - v^2 - v + y}\n",
      "\n",
      "(-u^2 + v^2 + x, -1/2*u*x + 1/2*u*y - 3/2*u + v*z - v + 1/2*x - 1/2*y + 3/2*z) => -2*v*x - 3*v*y + 4*v*z - 5/4*v - 1/2*x^2 + 3/4*x + 1/2*y^2 + 5/4*y - 2*z^2\n",
      "G: {-2*v*x - 3*v*y + 4*v*z - 5/4*v - 1/2*x^2 + 3/4*x + 1/2*y^2 + 5/4*y - 2*z^2, -u*z + u - 1/2*v*x - 1/2*v*y + 1/4*v + 1/4*x + 3/4*y - z, u*v - u - v + z, -1/2*u*x + 1/2*u*y - 3/2*u + v*z - v + 1/2*x - 1/2*y + 3/2*z, -u^2 + v^2 + x, 2*v^2 + v + x - y, -1/2*v*x^2 - 5/4*v*x + 1/2*v*y^2 - 7/4*v*y - 2*v*z^2 + 4*v*z - 5/4*v + 1/4*x^2 + 1/2*x*y - 2*x*z + 7/4*x - 3/4*y^2 + 2*y*z + 5/4*y - 3*z^2, -u^2 - v^2 - v + y}\n",
      "\n",
      "(-u^2 - v^2 - v + y, -1/2*u*x + 1/2*u*y - 3/2*u + v*z - v + 1/2*x - 1/2*y + 3/2*z) => 0\n",
      "G: {-2*v*x - 3*v*y + 4*v*z - 5/4*v - 1/2*x^2 + 3/4*x + 1/2*y^2 + 5/4*y - 2*z^2, -u*z + u - 1/2*v*x - 1/2*v*y + 1/4*v + 1/4*x + 3/4*y - z, u*v - u - v + z, -1/2*u*x + 1/2*u*y - 3/2*u + v*z - v + 1/2*x - 1/2*y + 3/2*z, -u^2 + v^2 + x, 2*v^2 + v + x - y, -1/2*v*x^2 - 5/4*v*x + 1/2*v*y^2 - 7/4*v*y - 2*v*z^2 + 4*v*z - 5/4*v + 1/4*x^2 + 1/2*x*y - 2*x*z + 7/4*x - 3/4*y^2 + 2*y*z + 5/4*y - 3*z^2, -u^2 - v^2 - v + y}\n",
      "\n",
      "(-u^2 - v^2 - v + y, -u*z + u - 1/2*v*x - 1/2*v*y + 1/4*v + 1/4*x + 3/4*y - z) => 0\n",
      "G: {-2*v*x - 3*v*y + 4*v*z - 5/4*v - 1/2*x^2 + 3/4*x + 1/2*y^2 + 5/4*y - 2*z^2, -u*z + u - 1/2*v*x - 1/2*v*y + 1/4*v + 1/4*x + 3/4*y - z, u*v - u - v + z, -1/2*u*x + 1/2*u*y - 3/2*u + v*z - v + 1/2*x - 1/2*y + 3/2*z, -u^2 + v^2 + x, 2*v^2 + v + x - y, -1/2*v*x^2 - 5/4*v*x + 1/2*v*y^2 - 7/4*v*y - 2*v*z^2 + 4*v*z - 5/4*v + 1/4*x^2 + 1/2*x*y - 2*x*z + 7/4*x - 3/4*y^2 + 2*y*z + 5/4*y - 3*z^2, -u^2 - v^2 - v + y}\n",
      "\n",
      "(u*v - u - v + z, -u*z + u - 1/2*v*x - 1/2*v*y + 1/4*v + 1/4*x + 3/4*y - z) => 0\n",
      "G: {-2*v*x - 3*v*y + 4*v*z - 5/4*v - 1/2*x^2 + 3/4*x + 1/2*y^2 + 5/4*y - 2*z^2, -u*z + u - 1/2*v*x - 1/2*v*y + 1/4*v + 1/4*x + 3/4*y - z, u*v - u - v + z, -1/2*u*x + 1/2*u*y - 3/2*u + v*z - v + 1/2*x - 1/2*y + 3/2*z, -u^2 + v^2 + x, 2*v^2 + v + x - y, -1/2*v*x^2 - 5/4*v*x + 1/2*v*y^2 - 7/4*v*y - 2*v*z^2 + 4*v*z - 5/4*v + 1/4*x^2 + 1/2*x*y - 2*x*z + 7/4*x - 3/4*y^2 + 2*y*z + 5/4*y - 3*z^2, -u^2 - v^2 - v + y}\n",
      "\n",
      "(u*v - u - v + z, -u^2 + v^2 + x) => 0\n",
      "G: {-2*v*x - 3*v*y + 4*v*z - 5/4*v - 1/2*x^2 + 3/4*x + 1/2*y^2 + 5/4*y - 2*z^2, -u*z + u - 1/2*v*x - 1/2*v*y + 1/4*v + 1/4*x + 3/4*y - z, u*v - u - v + z, -1/2*u*x + 1/2*u*y - 3/2*u + v*z - v + 1/2*x - 1/2*y + 3/2*z, -u^2 + v^2 + x, 2*v^2 + v + x - y, -1/2*v*x^2 - 5/4*v*x + 1/2*v*y^2 - 7/4*v*y - 2*v*z^2 + 4*v*z - 5/4*v + 1/4*x^2 + 1/2*x*y - 2*x*z + 7/4*x - 3/4*y^2 + 2*y*z + 5/4*y - 3*z^2, -u^2 - v^2 - v + y}\n",
      "\n",
      "(-1/2*v*x^2 - 5/4*v*x + 1/2*v*y^2 - 7/4*v*y - 2*v*z^2 + 4*v*z - 5/4*v + 1/4*x^2 + 1/2*x*y - 2*x*z + 7/4*x - 3/4*y^2 + 2*y*z + 5/4*y - 3*z^2, -2*v*x - 3*v*y + 4*v*z - 5/4*v - 1/2*x^2 + 3/4*x + 1/2*y^2 + 5/4*y - 2*z^2) => 5/4*v*y^2 - 6*v*y*z + 13/8*v*y + 8*v*z^2 - 11/2*v*z + 85/64*v - 1/4*x^3 + 3/8*x^2*y - 1/2*x^2*z - 19/32*x^2 + 1/4*x*y^2 - 15/16*x*y - x*z^2 + 19/4*x*z - 179/64*x - 3/8*y^3 + 1/2*y^2*z + 33/32*y^2 + 3/2*y*z^2 - 11/4*y*z - 85/64*y - 2*z^3 + 33/8*z^2\n",
      "G: {-2*v*x - 3*v*y + 4*v*z - 5/4*v - 1/2*x^2 + 3/4*x + 1/2*y^2 + 5/4*y - 2*z^2, -u*z + u - 1/2*v*x - 1/2*v*y + 1/4*v + 1/4*x + 3/4*y - z, u*v - u - v + z, -1/2*u*x + 1/2*u*y - 3/2*u + v*z - v + 1/2*x - 1/2*y + 3/2*z, -u^2 + v^2 + x, 2*v^2 + v + x - y, -1/2*v*x^2 - 5/4*v*x + 1/2*v*y^2 - 7/4*v*y - 2*v*z^2 + 4*v*z - 5/4*v + 1/4*x^2 + 1/2*x*y - 2*x*z + 7/4*x - 3/4*y^2 + 2*y*z + 5/4*y - 3*z^2, 5/4*v*y^2 - 6*v*y*z + 13/8*v*y + 8*v*z^2 - 11/2*v*z + 85/64*v - 1/4*x^3 + 3/8*x^2*y - 1/2*x^2*z - 19/32*x^2 + 1/4*x*y^2 - 15/16*x*y - x*z^2 + 19/4*x*z - 179/64*x - 3/8*y^3 + 1/2*y^2*z + 33/32*y^2 + 3/2*y*z^2 - 11/4*y*z - 85/64*y - 2*z^3 + 33/8*z^2, -u^2 - v^2 - v + y}\n",
      "\n",
      "(2*v^2 + v + x - y, -2*v*x - 3*v*y + 4*v*z - 5/4*v - 1/2*x^2 + 3/4*x + 1/2*y^2 + 5/4*y - 2*z^2) => 0\n",
      "G: {-2*v*x - 3*v*y + 4*v*z - 5/4*v - 1/2*x^2 + 3/4*x + 1/2*y^2 + 5/4*y - 2*z^2, -u*z + u - 1/2*v*x - 1/2*v*y + 1/4*v + 1/4*x + 3/4*y - z, u*v - u - v + z, -1/2*u*x + 1/2*u*y - 3/2*u + v*z - v + 1/2*x - 1/2*y + 3/2*z, -u^2 + v^2 + x, 2*v^2 + v + x - y, -1/2*v*x^2 - 5/4*v*x + 1/2*v*y^2 - 7/4*v*y - 2*v*z^2 + 4*v*z - 5/4*v + 1/4*x^2 + 1/2*x*y - 2*x*z + 7/4*x - 3/4*y^2 + 2*y*z + 5/4*y - 3*z^2, 5/4*v*y^2 - 6*v*y*z + 13/8*v*y + 8*v*z^2 - 11/2*v*z + 85/64*v - 1/4*x^3 + 3/8*x^2*y - 1/2*x^2*z - 19/32*x^2 + 1/4*x*y^2 - 15/16*x*y - x*z^2 + 19/4*x*z - 179/64*x - 3/8*y^3 + 1/2*y^2*z + 33/32*y^2 + 3/2*y*z^2 - 11/4*y*z - 85/64*y - 2*z^3 + 33/8*z^2, -u^2 - v^2 - v + y}\n",
      "\n",
      "(u*v - u - v + z, -2*v*x - 3*v*y + 4*v*z - 5/4*v - 1/2*x^2 + 3/4*x + 1/2*y^2 + 5/4*y - 2*z^2) => 0\n",
      "G: {-2*v*x - 3*v*y + 4*v*z - 5/4*v - 1/2*x^2 + 3/4*x + 1/2*y^2 + 5/4*y - 2*z^2, -u*z + u - 1/2*v*x - 1/2*v*y + 1/4*v + 1/4*x + 3/4*y - z, u*v - u - v + z, -1/2*u*x + 1/2*u*y - 3/2*u + v*z - v + 1/2*x - 1/2*y + 3/2*z, -u^2 + v^2 + x, 2*v^2 + v + x - y, -1/2*v*x^2 - 5/4*v*x + 1/2*v*y^2 - 7/4*v*y - 2*v*z^2 + 4*v*z - 5/4*v + 1/4*x^2 + 1/2*x*y - 2*x*z + 7/4*x - 3/4*y^2 + 2*y*z + 5/4*y - 3*z^2, 5/4*v*y^2 - 6*v*y*z + 13/8*v*y + 8*v*z^2 - 11/2*v*z + 85/64*v - 1/4*x^3 + 3/8*x^2*y - 1/2*x^2*z - 19/32*x^2 + 1/4*x*y^2 - 15/16*x*y - x*z^2 + 19/4*x*z - 179/64*x - 3/8*y^3 + 1/2*y^2*z + 33/32*y^2 + 3/2*y*z^2 - 11/4*y*z - 85/64*y - 2*z^3 + 33/8*z^2, -u^2 - v^2 - v + y}\n",
      "\n",
      "(-1/2*u*x + 1/2*u*y - 3/2*u + v*z - v + 1/2*x - 1/2*y + 3/2*z, -2*v*x - 3*v*y + 4*v*z - 5/4*v - 1/2*x^2 + 3/4*x + 1/2*y^2 + 5/4*y - 2*z^2) => 0\n",
      "G: {-2*v*x - 3*v*y + 4*v*z - 5/4*v - 1/2*x^2 + 3/4*x + 1/2*y^2 + 5/4*y - 2*z^2, -u*z + u - 1/2*v*x - 1/2*v*y + 1/4*v + 1/4*x + 3/4*y - z, u*v - u - v + z, -1/2*u*x + 1/2*u*y - 3/2*u + v*z - v + 1/2*x - 1/2*y + 3/2*z, -u^2 + v^2 + x, 2*v^2 + v + x - y, -1/2*v*x^2 - 5/4*v*x + 1/2*v*y^2 - 7/4*v*y - 2*v*z^2 + 4*v*z - 5/4*v + 1/4*x^2 + 1/2*x*y - 2*x*z + 7/4*x - 3/4*y^2 + 2*y*z + 5/4*y - 3*z^2, 5/4*v*y^2 - 6*v*y*z + 13/8*v*y + 8*v*z^2 - 11/2*v*z + 85/64*v - 1/4*x^3 + 3/8*x^2*y - 1/2*x^2*z - 19/32*x^2 + 1/4*x*y^2 - 15/16*x*y - x*z^2 + 19/4*x*z - 179/64*x - 3/8*y^3 + 1/2*y^2*z + 33/32*y^2 + 3/2*y*z^2 - 11/4*y*z - 85/64*y - 2*z^3 + 33/8*z^2, -u^2 - v^2 - v + y}\n",
      "\n",
      "(u*v - u - v + z, -u^2 - v^2 - v + y) => 0\n",
      "G: {-2*v*x - 3*v*y + 4*v*z - 5/4*v - 1/2*x^2 + 3/4*x + 1/2*y^2 + 5/4*y - 2*z^2, -u*z + u - 1/2*v*x - 1/2*v*y + 1/4*v + 1/4*x + 3/4*y - z, u*v - u - v + z, -1/2*u*x + 1/2*u*y - 3/2*u + v*z - v + 1/2*x - 1/2*y + 3/2*z, -u^2 + v^2 + x, 2*v^2 + v + x - y, -1/2*v*x^2 - 5/4*v*x + 1/2*v*y^2 - 7/4*v*y - 2*v*z^2 + 4*v*z - 5/4*v + 1/4*x^2 + 1/2*x*y - 2*x*z + 7/4*x - 3/4*y^2 + 2*y*z + 5/4*y - 3*z^2, 5/4*v*y^2 - 6*v*y*z + 13/8*v*y + 8*v*z^2 - 11/2*v*z + 85/64*v - 1/4*x^3 + 3/8*x^2*y - 1/2*x^2*z - 19/32*x^2 + 1/4*x*y^2 - 15/16*x*y - x*z^2 + 19/4*x*z - 179/64*x - 3/8*y^3 + 1/2*y^2*z + 33/32*y^2 + 3/2*y*z^2 - 11/4*y*z - 85/64*y - 2*z^3 + 33/8*z^2, -u^2 - v^2 - v + y}\n",
      "\n",
      "(u*v - u - v + z, 5/4*v*y^2 - 6*v*y*z + 13/8*v*y + 8*v*z^2 - 11/2*v*z + 85/64*v - 1/4*x^3 + 3/8*x^2*y - 1/2*x^2*z - 19/32*x^2 + 1/4*x*y^2 - 15/16*x*y - x*z^2 + 19/4*x*z - 179/64*x - 3/8*y^3 + 1/2*y^2*z + 33/32*y^2 + 3/2*y*z^2 - 11/4*y*z - 85/64*y - 2*z^3 + 33/8*z^2) => 1/20*x^4 + 3/20*x^3 - 1/10*x^2*y^2 + 2/5*x^2*y + 2/5*x^2*z^2 - 7/5*x^2*z + 7/10*x^2 - 1/20*x*y^2 - 4/5*x*y*z + 11/10*x*y + 3/5*x*z^2 - 13/10*x*z + 1/4*x + 1/20*y^4 - 1/2*y^3 - 2/5*y^2*z^2 + 11/5*y^2*z - 16/5*y*z^2 + 1/2*y*z + 4/5*z^4 + 4/5*z^3 - 1/4*z^2\n",
      "G: {-2*v*x - 3*v*y + 4*v*z - 5/4*v - 1/2*x^2 + 3/4*x + 1/2*y^2 + 5/4*y - 2*z^2, -u*z + u - 1/2*v*x - 1/2*v*y + 1/4*v + 1/4*x + 3/4*y - z, u*v - u - v + z, -1/2*u*x + 1/2*u*y - 3/2*u + v*z - v + 1/2*x - 1/2*y + 3/2*z, -u^2 + v^2 + x, 2*v^2 + v + x - y, -1/2*v*x^2 - 5/4*v*x + 1/2*v*y^2 - 7/4*v*y - 2*v*z^2 + 4*v*z - 5/4*v + 1/4*x^2 + 1/2*x*y - 2*x*z + 7/4*x - 3/4*y^2 + 2*y*z + 5/4*y - 3*z^2, 1/20*x^4 + 3/20*x^3 - 1/10*x^2*y^2 + 2/5*x^2*y + 2/5*x^2*z^2 - 7/5*x^2*z + 7/10*x^2 - 1/20*x*y^2 - 4/5*x*y*z + 11/10*x*y + 3/5*x*z^2 - 13/10*x*z + 1/4*x + 1/20*y^4 - 1/2*y^3 - 2/5*y^2*z^2 + 11/5*y^2*z - 16/5*y*z^2 + 1/2*y*z + 4/5*z^4 + 4/5*z^3 - 1/4*z^2, 5/4*v*y^2 - 6*v*y*z + 13/8*v*y + 8*v*z^2 - 11/2*v*z + 85/64*v - 1/4*x^3 + 3/8*x^2*y - 1/2*x^2*z - 19/32*x^2 + 1/4*x*y^2 - 15/16*x*y - x*z^2 + 19/4*x*z - 179/64*x - 3/8*y^3 + 1/2*y^2*z + 33/32*y^2 + 3/2*y*z^2 - 11/4*y*z - 85/64*y - 2*z^3 + 33/8*z^2, -u^2 - v^2 - v + y}\n",
      "\n",
      "(2*v^2 + v + x - y, 5/4*v*y^2 - 6*v*y*z + 13/8*v*y + 8*v*z^2 - 11/2*v*z + 85/64*v - 1/4*x^3 + 3/8*x^2*y - 1/2*x^2*z - 19/32*x^2 + 1/4*x*y^2 - 15/16*x*y - x*z^2 + 19/4*x*z - 179/64*x - 3/8*y^3 + 1/2*y^2*z + 33/32*y^2 + 3/2*y*z^2 - 11/4*y*z - 85/64*y - 2*z^3 + 33/8*z^2) => 0\n",
      "G: {-2*v*x - 3*v*y + 4*v*z - 5/4*v - 1/2*x^2 + 3/4*x + 1/2*y^2 + 5/4*y - 2*z^2, -u*z + u - 1/2*v*x - 1/2*v*y + 1/4*v + 1/4*x + 3/4*y - z, u*v - u - v + z, -1/2*u*x + 1/2*u*y - 3/2*u + v*z - v + 1/2*x - 1/2*y + 3/2*z, -u^2 + v^2 + x, 2*v^2 + v + x - y, -1/2*v*x^2 - 5/4*v*x + 1/2*v*y^2 - 7/4*v*y - 2*v*z^2 + 4*v*z - 5/4*v + 1/4*x^2 + 1/2*x*y - 2*x*z + 7/4*x - 3/4*y^2 + 2*y*z + 5/4*y - 3*z^2, 1/20*x^4 + 3/20*x^3 - 1/10*x^2*y^2 + 2/5*x^2*y + 2/5*x^2*z^2 - 7/5*x^2*z + 7/10*x^2 - 1/20*x*y^2 - 4/5*x*y*z + 11/10*x*y + 3/5*x*z^2 - 13/10*x*z + 1/4*x + 1/20*y^4 - 1/2*y^3 - 2/5*y^2*z^2 + 11/5*y^2*z - 16/5*y*z^2 + 1/2*y*z + 4/5*z^4 + 4/5*z^3 - 1/4*z^2, 5/4*v*y^2 - 6*v*y*z + 13/8*v*y + 8*v*z^2 - 11/2*v*z + 85/64*v - 1/4*x^3 + 3/8*x^2*y - 1/2*x^2*z - 19/32*x^2 + 1/4*x*y^2 - 15/16*x*y - x*z^2 + 19/4*x*z - 179/64*x - 3/8*y^3 + 1/2*y^2*z + 33/32*y^2 + 3/2*y*z^2 - 11/4*y*z - 85/64*y - 2*z^3 + 33/8*z^2, -u^2 - v^2 - v + y}\n",
      "\n",
      "(-u^2 - v^2 - v + y, 2*v^2 + v + x - y) => 0\n",
      "G: {-2*v*x - 3*v*y + 4*v*z - 5/4*v - 1/2*x^2 + 3/4*x + 1/2*y^2 + 5/4*y - 2*z^2, -u*z + u - 1/2*v*x - 1/2*v*y + 1/4*v + 1/4*x + 3/4*y - z, u*v - u - v + z, -1/2*u*x + 1/2*u*y - 3/2*u + v*z - v + 1/2*x - 1/2*y + 3/2*z, -u^2 + v^2 + x, 2*v^2 + v + x - y, -1/2*v*x^2 - 5/4*v*x + 1/2*v*y^2 - 7/4*v*y - 2*v*z^2 + 4*v*z - 5/4*v + 1/4*x^2 + 1/2*x*y - 2*x*z + 7/4*x - 3/4*y^2 + 2*y*z + 5/4*y - 3*z^2, 1/20*x^4 + 3/20*x^3 - 1/10*x^2*y^2 + 2/5*x^2*y + 2/5*x^2*z^2 - 7/5*x^2*z + 7/10*x^2 - 1/20*x*y^2 - 4/5*x*y*z + 11/10*x*y + 3/5*x*z^2 - 13/10*x*z + 1/4*x + 1/20*y^4 - 1/2*y^3 - 2/5*y^2*z^2 + 11/5*y^2*z - 16/5*y*z^2 + 1/2*y*z + 4/5*z^4 + 4/5*z^3 - 1/4*z^2, 5/4*v*y^2 - 6*v*y*z + 13/8*v*y + 8*v*z^2 - 11/2*v*z + 85/64*v - 1/4*x^3 + 3/8*x^2*y - 1/2*x^2*z - 19/32*x^2 + 1/4*x*y^2 - 15/16*x*y - x*z^2 + 19/4*x*z - 179/64*x - 3/8*y^3 + 1/2*y^2*z + 33/32*y^2 + 3/2*y*z^2 - 11/4*y*z - 85/64*y - 2*z^3 + 33/8*z^2, -u^2 - v^2 - v + y}\n",
      "\n",
      "(-u^2 - v^2 - v + y, -2*v*x - 3*v*y + 4*v*z - 5/4*v - 1/2*x^2 + 3/4*x + 1/2*y^2 + 5/4*y - 2*z^2) => 0\n",
      "G: {-2*v*x - 3*v*y + 4*v*z - 5/4*v - 1/2*x^2 + 3/4*x + 1/2*y^2 + 5/4*y - 2*z^2, -u*z + u - 1/2*v*x - 1/2*v*y + 1/4*v + 1/4*x + 3/4*y - z, u*v - u - v + z, -1/2*u*x + 1/2*u*y - 3/2*u + v*z - v + 1/2*x - 1/2*y + 3/2*z, -u^2 + v^2 + x, 2*v^2 + v + x - y, -1/2*v*x^2 - 5/4*v*x + 1/2*v*y^2 - 7/4*v*y - 2*v*z^2 + 4*v*z - 5/4*v + 1/4*x^2 + 1/2*x*y - 2*x*z + 7/4*x - 3/4*y^2 + 2*y*z + 5/4*y - 3*z^2, 1/20*x^4 + 3/20*x^3 - 1/10*x^2*y^2 + 2/5*x^2*y + 2/5*x^2*z^2 - 7/5*x^2*z + 7/10*x^2 - 1/20*x*y^2 - 4/5*x*y*z + 11/10*x*y + 3/5*x*z^2 - 13/10*x*z + 1/4*x + 1/20*y^4 - 1/2*y^3 - 2/5*y^2*z^2 + 11/5*y^2*z - 16/5*y*z^2 + 1/2*y*z + 4/5*z^4 + 4/5*z^3 - 1/4*z^2, 5/4*v*y^2 - 6*v*y*z + 13/8*v*y + 8*v*z^2 - 11/2*v*z + 85/64*v - 1/4*x^3 + 3/8*x^2*y - 1/2*x^2*z - 19/32*x^2 + 1/4*x*y^2 - 15/16*x*y - x*z^2 + 19/4*x*z - 179/64*x - 3/8*y^3 + 1/2*y^2*z + 33/32*y^2 + 3/2*y*z^2 - 11/4*y*z - 85/64*y - 2*z^3 + 33/8*z^2, -u^2 - v^2 - v + y}\n",
      "\n",
      "(2*v^2 + v + x - y, -1/2*v*x^2 - 5/4*v*x + 1/2*v*y^2 - 7/4*v*y - 2*v*z^2 + 4*v*z - 5/4*v + 1/4*x^2 + 1/2*x*y - 2*x*z + 7/4*x - 3/4*y^2 + 2*y*z + 5/4*y - 3*z^2) => 0\n",
      "G: {-2*v*x - 3*v*y + 4*v*z - 5/4*v - 1/2*x^2 + 3/4*x + 1/2*y^2 + 5/4*y - 2*z^2, -u*z + u - 1/2*v*x - 1/2*v*y + 1/4*v + 1/4*x + 3/4*y - z, u*v - u - v + z, -1/2*u*x + 1/2*u*y - 3/2*u + v*z - v + 1/2*x - 1/2*y + 3/2*z, -u^2 + v^2 + x, 2*v^2 + v + x - y, -1/2*v*x^2 - 5/4*v*x + 1/2*v*y^2 - 7/4*v*y - 2*v*z^2 + 4*v*z - 5/4*v + 1/4*x^2 + 1/2*x*y - 2*x*z + 7/4*x - 3/4*y^2 + 2*y*z + 5/4*y - 3*z^2, 1/20*x^4 + 3/20*x^3 - 1/10*x^2*y^2 + 2/5*x^2*y + 2/5*x^2*z^2 - 7/5*x^2*z + 7/10*x^2 - 1/20*x*y^2 - 4/5*x*y*z + 11/10*x*y + 3/5*x*z^2 - 13/10*x*z + 1/4*x + 1/20*y^4 - 1/2*y^3 - 2/5*y^2*z^2 + 11/5*y^2*z - 16/5*y*z^2 + 1/2*y*z + 4/5*z^4 + 4/5*z^3 - 1/4*z^2, 5/4*v*y^2 - 6*v*y*z + 13/8*v*y + 8*v*z^2 - 11/2*v*z + 85/64*v - 1/4*x^3 + 3/8*x^2*y - 1/2*x^2*z - 19/32*x^2 + 1/4*x*y^2 - 15/16*x*y - x*z^2 + 19/4*x*z - 179/64*x - 3/8*y^3 + 1/2*y^2*z + 33/32*y^2 + 3/2*y*z^2 - 11/4*y*z - 85/64*y - 2*z^3 + 33/8*z^2, -u^2 - v^2 - v + y}\n",
      "\n",
      "(u*v - u - v + z, -1/2*v*x^2 - 5/4*v*x + 1/2*v*y^2 - 7/4*v*y - 2*v*z^2 + 4*v*z - 5/4*v + 1/4*x^2 + 1/2*x*y - 2*x*z + 7/4*x - 3/4*y^2 + 2*y*z + 5/4*y - 3*z^2) => 0\n",
      "G: {-2*v*x - 3*v*y + 4*v*z - 5/4*v - 1/2*x^2 + 3/4*x + 1/2*y^2 + 5/4*y - 2*z^2, -u*z + u - 1/2*v*x - 1/2*v*y + 1/4*v + 1/4*x + 3/4*y - z, u*v - u - v + z, -1/2*u*x + 1/2*u*y - 3/2*u + v*z - v + 1/2*x - 1/2*y + 3/2*z, -u^2 + v^2 + x, 2*v^2 + v + x - y, -1/2*v*x^2 - 5/4*v*x + 1/2*v*y^2 - 7/4*v*y - 2*v*z^2 + 4*v*z - 5/4*v + 1/4*x^2 + 1/2*x*y - 2*x*z + 7/4*x - 3/4*y^2 + 2*y*z + 5/4*y - 3*z^2, 1/20*x^4 + 3/20*x^3 - 1/10*x^2*y^2 + 2/5*x^2*y + 2/5*x^2*z^2 - 7/5*x^2*z + 7/10*x^2 - 1/20*x*y^2 - 4/5*x*y*z + 11/10*x*y + 3/5*x*z^2 - 13/10*x*z + 1/4*x + 1/20*y^4 - 1/2*y^3 - 2/5*y^2*z^2 + 11/5*y^2*z - 16/5*y*z^2 + 1/2*y*z + 4/5*z^4 + 4/5*z^3 - 1/4*z^2, 5/4*v*y^2 - 6*v*y*z + 13/8*v*y + 8*v*z^2 - 11/2*v*z + 85/64*v - 1/4*x^3 + 3/8*x^2*y - 1/2*x^2*z - 19/32*x^2 + 1/4*x*y^2 - 15/16*x*y - x*z^2 + 19/4*x*z - 179/64*x - 3/8*y^3 + 1/2*y^2*z + 33/32*y^2 + 3/2*y*z^2 - 11/4*y*z - 85/64*y - 2*z^3 + 33/8*z^2, -u^2 - v^2 - v + y}\n",
      "\n",
      "(-u*z + u - 1/2*v*x - 1/2*v*y + 1/4*v + 1/4*x + 3/4*y - z, -2*v*x - 3*v*y + 4*v*z - 5/4*v - 1/2*x^2 + 3/4*x + 1/2*y^2 + 5/4*y - 2*z^2) => 0\n",
      "G: {-2*v*x - 3*v*y + 4*v*z - 5/4*v - 1/2*x^2 + 3/4*x + 1/2*y^2 + 5/4*y - 2*z^2, -u*z + u - 1/2*v*x - 1/2*v*y + 1/4*v + 1/4*x + 3/4*y - z, u*v - u - v + z, -1/2*u*x + 1/2*u*y - 3/2*u + v*z - v + 1/2*x - 1/2*y + 3/2*z, -u^2 + v^2 + x, 2*v^2 + v + x - y, -1/2*v*x^2 - 5/4*v*x + 1/2*v*y^2 - 7/4*v*y - 2*v*z^2 + 4*v*z - 5/4*v + 1/4*x^2 + 1/2*x*y - 2*x*z + 7/4*x - 3/4*y^2 + 2*y*z + 5/4*y - 3*z^2, 1/20*x^4 + 3/20*x^3 - 1/10*x^2*y^2 + 2/5*x^2*y + 2/5*x^2*z^2 - 7/5*x^2*z + 7/10*x^2 - 1/20*x*y^2 - 4/5*x*y*z + 11/10*x*y + 3/5*x*z^2 - 13/10*x*z + 1/4*x + 1/20*y^4 - 1/2*y^3 - 2/5*y^2*z^2 + 11/5*y^2*z - 16/5*y*z^2 + 1/2*y*z + 4/5*z^4 + 4/5*z^3 - 1/4*z^2, 5/4*v*y^2 - 6*v*y*z + 13/8*v*y + 8*v*z^2 - 11/2*v*z + 85/64*v - 1/4*x^3 + 3/8*x^2*y - 1/2*x^2*z - 19/32*x^2 + 1/4*x*y^2 - 15/16*x*y - x*z^2 + 19/4*x*z - 179/64*x - 3/8*y^3 + 1/2*y^2*z + 33/32*y^2 + 3/2*y*z^2 - 11/4*y*z - 85/64*y - 2*z^3 + 33/8*z^2, -u^2 - v^2 - v + y}\n",
      "\n",
      "(2*v^2 + v + x - y, -1/2*u*x + 1/2*u*y - 3/2*u + v*z - v + 1/2*x - 1/2*y + 3/2*z) => 0\n",
      "G: {-2*v*x - 3*v*y + 4*v*z - 5/4*v - 1/2*x^2 + 3/4*x + 1/2*y^2 + 5/4*y - 2*z^2, -u*z + u - 1/2*v*x - 1/2*v*y + 1/4*v + 1/4*x + 3/4*y - z, u*v - u - v + z, -1/2*u*x + 1/2*u*y - 3/2*u + v*z - v + 1/2*x - 1/2*y + 3/2*z, -u^2 + v^2 + x, 2*v^2 + v + x - y, -1/2*v*x^2 - 5/4*v*x + 1/2*v*y^2 - 7/4*v*y - 2*v*z^2 + 4*v*z - 5/4*v + 1/4*x^2 + 1/2*x*y - 2*x*z + 7/4*x - 3/4*y^2 + 2*y*z + 5/4*y - 3*z^2, 1/20*x^4 + 3/20*x^3 - 1/10*x^2*y^2 + 2/5*x^2*y + 2/5*x^2*z^2 - 7/5*x^2*z + 7/10*x^2 - 1/20*x*y^2 - 4/5*x*y*z + 11/10*x*y + 3/5*x*z^2 - 13/10*x*z + 1/4*x + 1/20*y^4 - 1/2*y^3 - 2/5*y^2*z^2 + 11/5*y^2*z - 16/5*y*z^2 + 1/2*y*z + 4/5*z^4 + 4/5*z^3 - 1/4*z^2, 5/4*v*y^2 - 6*v*y*z + 13/8*v*y + 8*v*z^2 - 11/2*v*z + 85/64*v - 1/4*x^3 + 3/8*x^2*y - 1/2*x^2*z - 19/32*x^2 + 1/4*x*y^2 - 15/16*x*y - x*z^2 + 19/4*x*z - 179/64*x - 3/8*y^3 + 1/2*y^2*z + 33/32*y^2 + 3/2*y*z^2 - 11/4*y*z - 85/64*y - 2*z^3 + 33/8*z^2, -u^2 - v^2 - v + y}\n",
      "\n",
      "(-u^2 + v^2 + x, 2*v^2 + v + x - y) => 0\n",
      "G: {-2*v*x - 3*v*y + 4*v*z - 5/4*v - 1/2*x^2 + 3/4*x + 1/2*y^2 + 5/4*y - 2*z^2, -u*z + u - 1/2*v*x - 1/2*v*y + 1/4*v + 1/4*x + 3/4*y - z, u*v - u - v + z, -1/2*u*x + 1/2*u*y - 3/2*u + v*z - v + 1/2*x - 1/2*y + 3/2*z, -u^2 + v^2 + x, 2*v^2 + v + x - y, -1/2*v*x^2 - 5/4*v*x + 1/2*v*y^2 - 7/4*v*y - 2*v*z^2 + 4*v*z - 5/4*v + 1/4*x^2 + 1/2*x*y - 2*x*z + 7/4*x - 3/4*y^2 + 2*y*z + 5/4*y - 3*z^2, 1/20*x^4 + 3/20*x^3 - 1/10*x^2*y^2 + 2/5*x^2*y + 2/5*x^2*z^2 - 7/5*x^2*z + 7/10*x^2 - 1/20*x*y^2 - 4/5*x*y*z + 11/10*x*y + 3/5*x*z^2 - 13/10*x*z + 1/4*x + 1/20*y^4 - 1/2*y^3 - 2/5*y^2*z^2 + 11/5*y^2*z - 16/5*y*z^2 + 1/2*y*z + 4/5*z^4 + 4/5*z^3 - 1/4*z^2, 5/4*v*y^2 - 6*v*y*z + 13/8*v*y + 8*v*z^2 - 11/2*v*z + 85/64*v - 1/4*x^3 + 3/8*x^2*y - 1/2*x^2*z - 19/32*x^2 + 1/4*x*y^2 - 15/16*x*y - x*z^2 + 19/4*x*z - 179/64*x - 3/8*y^3 + 1/2*y^2*z + 33/32*y^2 + 3/2*y*z^2 - 11/4*y*z - 85/64*y - 2*z^3 + 33/8*z^2, -u^2 - v^2 - v + y}\n",
      "\n",
      "(-2*v*x - 3*v*y + 4*v*z - 5/4*v - 1/2*x^2 + 3/4*x + 1/2*y^2 + 5/4*y - 2*z^2, 5/4*v*y^2 - 6*v*y*z + 13/8*v*y + 8*v*z^2 - 11/2*v*z + 85/64*v - 1/4*x^3 + 3/8*x^2*y - 1/2*x^2*z - 19/32*x^2 + 1/4*x*y^2 - 15/16*x*y - x*z^2 + 19/4*x*z - 179/64*x - 3/8*y^3 + 1/2*y^2*z + 33/32*y^2 + 3/2*y*z^2 - 11/4*y*z - 85/64*y - 2*z^3 + 33/8*z^2) => 0\n",
      "G: {-2*v*x - 3*v*y + 4*v*z - 5/4*v - 1/2*x^2 + 3/4*x + 1/2*y^2 + 5/4*y - 2*z^2, -u*z + u - 1/2*v*x - 1/2*v*y + 1/4*v + 1/4*x + 3/4*y - z, u*v - u - v + z, -1/2*u*x + 1/2*u*y - 3/2*u + v*z - v + 1/2*x - 1/2*y + 3/2*z, -u^2 + v^2 + x, 2*v^2 + v + x - y, -1/2*v*x^2 - 5/4*v*x + 1/2*v*y^2 - 7/4*v*y - 2*v*z^2 + 4*v*z - 5/4*v + 1/4*x^2 + 1/2*x*y - 2*x*z + 7/4*x - 3/4*y^2 + 2*y*z + 5/4*y - 3*z^2, 1/20*x^4 + 3/20*x^3 - 1/10*x^2*y^2 + 2/5*x^2*y + 2/5*x^2*z^2 - 7/5*x^2*z + 7/10*x^2 - 1/20*x*y^2 - 4/5*x*y*z + 11/10*x*y + 3/5*x*z^2 - 13/10*x*z + 1/4*x + 1/20*y^4 - 1/2*y^3 - 2/5*y^2*z^2 + 11/5*y^2*z - 16/5*y*z^2 + 1/2*y*z + 4/5*z^4 + 4/5*z^3 - 1/4*z^2, 5/4*v*y^2 - 6*v*y*z + 13/8*v*y + 8*v*z^2 - 11/2*v*z + 85/64*v - 1/4*x^3 + 3/8*x^2*y - 1/2*x^2*z - 19/32*x^2 + 1/4*x*y^2 - 15/16*x*y - x*z^2 + 19/4*x*z - 179/64*x - 3/8*y^3 + 1/2*y^2*z + 33/32*y^2 + 3/2*y*z^2 - 11/4*y*z - 85/64*y - 2*z^3 + 33/8*z^2, -u^2 - v^2 - v + y}\n",
      "\n",
      "(-u^2 + v^2 + x, -2*v*x - 3*v*y + 4*v*z - 5/4*v - 1/2*x^2 + 3/4*x + 1/2*y^2 + 5/4*y - 2*z^2) => 0\n",
      "G: {-2*v*x - 3*v*y + 4*v*z - 5/4*v - 1/2*x^2 + 3/4*x + 1/2*y^2 + 5/4*y - 2*z^2, -u*z + u - 1/2*v*x - 1/2*v*y + 1/4*v + 1/4*x + 3/4*y - z, u*v - u - v + z, -1/2*u*x + 1/2*u*y - 3/2*u + v*z - v + 1/2*x - 1/2*y + 3/2*z, -u^2 + v^2 + x, 2*v^2 + v + x - y, -1/2*v*x^2 - 5/4*v*x + 1/2*v*y^2 - 7/4*v*y - 2*v*z^2 + 4*v*z - 5/4*v + 1/4*x^2 + 1/2*x*y - 2*x*z + 7/4*x - 3/4*y^2 + 2*y*z + 5/4*y - 3*z^2, 1/20*x^4 + 3/20*x^3 - 1/10*x^2*y^2 + 2/5*x^2*y + 2/5*x^2*z^2 - 7/5*x^2*z + 7/10*x^2 - 1/20*x*y^2 - 4/5*x*y*z + 11/10*x*y + 3/5*x*z^2 - 13/10*x*z + 1/4*x + 1/20*y^4 - 1/2*y^3 - 2/5*y^2*z^2 + 11/5*y^2*z - 16/5*y*z^2 + 1/2*y*z + 4/5*z^4 + 4/5*z^3 - 1/4*z^2, 5/4*v*y^2 - 6*v*y*z + 13/8*v*y + 8*v*z^2 - 11/2*v*z + 85/64*v - 1/4*x^3 + 3/8*x^2*y - 1/2*x^2*z - 19/32*x^2 + 1/4*x*y^2 - 15/16*x*y - x*z^2 + 19/4*x*z - 179/64*x - 3/8*y^3 + 1/2*y^2*z + 33/32*y^2 + 3/2*y*z^2 - 11/4*y*z - 85/64*y - 2*z^3 + 33/8*z^2, -u^2 - v^2 - v + y}\n",
      "\n",
      "(-1/2*u*x + 1/2*u*y - 3/2*u + v*z - v + 1/2*x - 1/2*y + 3/2*z, -1/2*v*x^2 - 5/4*v*x + 1/2*v*y^2 - 7/4*v*y - 2*v*z^2 + 4*v*z - 5/4*v + 1/4*x^2 + 1/2*x*y - 2*x*z + 7/4*x - 3/4*y^2 + 2*y*z + 5/4*y - 3*z^2) => 0\n",
      "G: {-2*v*x - 3*v*y + 4*v*z - 5/4*v - 1/2*x^2 + 3/4*x + 1/2*y^2 + 5/4*y - 2*z^2, -u*z + u - 1/2*v*x - 1/2*v*y + 1/4*v + 1/4*x + 3/4*y - z, u*v - u - v + z, -1/2*u*x + 1/2*u*y - 3/2*u + v*z - v + 1/2*x - 1/2*y + 3/2*z, -u^2 + v^2 + x, 2*v^2 + v + x - y, -1/2*v*x^2 - 5/4*v*x + 1/2*v*y^2 - 7/4*v*y - 2*v*z^2 + 4*v*z - 5/4*v + 1/4*x^2 + 1/2*x*y - 2*x*z + 7/4*x - 3/4*y^2 + 2*y*z + 5/4*y - 3*z^2, 1/20*x^4 + 3/20*x^3 - 1/10*x^2*y^2 + 2/5*x^2*y + 2/5*x^2*z^2 - 7/5*x^2*z + 7/10*x^2 - 1/20*x*y^2 - 4/5*x*y*z + 11/10*x*y + 3/5*x*z^2 - 13/10*x*z + 1/4*x + 1/20*y^4 - 1/2*y^3 - 2/5*y^2*z^2 + 11/5*y^2*z - 16/5*y*z^2 + 1/2*y*z + 4/5*z^4 + 4/5*z^3 - 1/4*z^2, 5/4*v*y^2 - 6*v*y*z + 13/8*v*y + 8*v*z^2 - 11/2*v*z + 85/64*v - 1/4*x^3 + 3/8*x^2*y - 1/2*x^2*z - 19/32*x^2 + 1/4*x*y^2 - 15/16*x*y - x*z^2 + 19/4*x*z - 179/64*x - 3/8*y^3 + 1/2*y^2*z + 33/32*y^2 + 3/2*y*z^2 - 11/4*y*z - 85/64*y - 2*z^3 + 33/8*z^2, -u^2 - v^2 - v + y}\n",
      "\n",
      "(2*v^2 + v + x - y, -u*z + u - 1/2*v*x - 1/2*v*y + 1/4*v + 1/4*x + 3/4*y - z) => 0\n",
      "G: {-2*v*x - 3*v*y + 4*v*z - 5/4*v - 1/2*x^2 + 3/4*x + 1/2*y^2 + 5/4*y - 2*z^2, -u*z + u - 1/2*v*x - 1/2*v*y + 1/4*v + 1/4*x + 3/4*y - z, u*v - u - v + z, -1/2*u*x + 1/2*u*y - 3/2*u + v*z - v + 1/2*x - 1/2*y + 3/2*z, -u^2 + v^2 + x, 2*v^2 + v + x - y, -1/2*v*x^2 - 5/4*v*x + 1/2*v*y^2 - 7/4*v*y - 2*v*z^2 + 4*v*z - 5/4*v + 1/4*x^2 + 1/2*x*y - 2*x*z + 7/4*x - 3/4*y^2 + 2*y*z + 5/4*y - 3*z^2, 1/20*x^4 + 3/20*x^3 - 1/10*x^2*y^2 + 2/5*x^2*y + 2/5*x^2*z^2 - 7/5*x^2*z + 7/10*x^2 - 1/20*x*y^2 - 4/5*x*y*z + 11/10*x*y + 3/5*x*z^2 - 13/10*x*z + 1/4*x + 1/20*y^4 - 1/2*y^3 - 2/5*y^2*z^2 + 11/5*y^2*z - 16/5*y*z^2 + 1/2*y*z + 4/5*z^4 + 4/5*z^3 - 1/4*z^2, 5/4*v*y^2 - 6*v*y*z + 13/8*v*y + 8*v*z^2 - 11/2*v*z + 85/64*v - 1/4*x^3 + 3/8*x^2*y - 1/2*x^2*z - 19/32*x^2 + 1/4*x*y^2 - 15/16*x*y - x*z^2 + 19/4*x*z - 179/64*x - 3/8*y^3 + 1/2*y^2*z + 33/32*y^2 + 3/2*y*z^2 - 11/4*y*z - 85/64*y - 2*z^3 + 33/8*z^2, -u^2 - v^2 - v + y}\n",
      "\n",
      "(-u*z + u - 1/2*v*x - 1/2*v*y + 1/4*v + 1/4*x + 3/4*y - z, 5/4*v*y^2 - 6*v*y*z + 13/8*v*y + 8*v*z^2 - 11/2*v*z + 85/64*v - 1/4*x^3 + 3/8*x^2*y - 1/2*x^2*z - 19/32*x^2 + 1/4*x*y^2 - 15/16*x*y - x*z^2 + 19/4*x*z - 179/64*x - 3/8*y^3 + 1/2*y^2*z + 33/32*y^2 + 3/2*y*z^2 - 11/4*y*z - 85/64*y - 2*z^3 + 33/8*z^2) => 0\n",
      "G: {-2*v*x - 3*v*y + 4*v*z - 5/4*v - 1/2*x^2 + 3/4*x + 1/2*y^2 + 5/4*y - 2*z^2, -u*z + u - 1/2*v*x - 1/2*v*y + 1/4*v + 1/4*x + 3/4*y - z, u*v - u - v + z, -1/2*u*x + 1/2*u*y - 3/2*u + v*z - v + 1/2*x - 1/2*y + 3/2*z, -u^2 + v^2 + x, 2*v^2 + v + x - y, -1/2*v*x^2 - 5/4*v*x + 1/2*v*y^2 - 7/4*v*y - 2*v*z^2 + 4*v*z - 5/4*v + 1/4*x^2 + 1/2*x*y - 2*x*z + 7/4*x - 3/4*y^2 + 2*y*z + 5/4*y - 3*z^2, 1/20*x^4 + 3/20*x^3 - 1/10*x^2*y^2 + 2/5*x^2*y + 2/5*x^2*z^2 - 7/5*x^2*z + 7/10*x^2 - 1/20*x*y^2 - 4/5*x*y*z + 11/10*x*y + 3/5*x*z^2 - 13/10*x*z + 1/4*x + 1/20*y^4 - 1/2*y^3 - 2/5*y^2*z^2 + 11/5*y^2*z - 16/5*y*z^2 + 1/2*y*z + 4/5*z^4 + 4/5*z^3 - 1/4*z^2, 5/4*v*y^2 - 6*v*y*z + 13/8*v*y + 8*v*z^2 - 11/2*v*z + 85/64*v - 1/4*x^3 + 3/8*x^2*y - 1/2*x^2*z - 19/32*x^2 + 1/4*x*y^2 - 15/16*x*y - x*z^2 + 19/4*x*z - 179/64*x - 3/8*y^3 + 1/2*y^2*z + 33/32*y^2 + 3/2*y*z^2 - 11/4*y*z - 85/64*y - 2*z^3 + 33/8*z^2, -u^2 - v^2 - v + y}\n",
      "\n",
      "(-1/2*u*x + 1/2*u*y - 3/2*u + v*z - v + 1/2*x - 1/2*y + 3/2*z, 5/4*v*y^2 - 6*v*y*z + 13/8*v*y + 8*v*z^2 - 11/2*v*z + 85/64*v - 1/4*x^3 + 3/8*x^2*y - 1/2*x^2*z - 19/32*x^2 + 1/4*x*y^2 - 15/16*x*y - x*z^2 + 19/4*x*z - 179/64*x - 3/8*y^3 + 1/2*y^2*z + 33/32*y^2 + 3/2*y*z^2 - 11/4*y*z - 85/64*y - 2*z^3 + 33/8*z^2) => 0\n",
      "G: {-2*v*x - 3*v*y + 4*v*z - 5/4*v - 1/2*x^2 + 3/4*x + 1/2*y^2 + 5/4*y - 2*z^2, -u*z + u - 1/2*v*x - 1/2*v*y + 1/4*v + 1/4*x + 3/4*y - z, u*v - u - v + z, -1/2*u*x + 1/2*u*y - 3/2*u + v*z - v + 1/2*x - 1/2*y + 3/2*z, -u^2 + v^2 + x, 2*v^2 + v + x - y, -1/2*v*x^2 - 5/4*v*x + 1/2*v*y^2 - 7/4*v*y - 2*v*z^2 + 4*v*z - 5/4*v + 1/4*x^2 + 1/2*x*y - 2*x*z + 7/4*x - 3/4*y^2 + 2*y*z + 5/4*y - 3*z^2, 1/20*x^4 + 3/20*x^3 - 1/10*x^2*y^2 + 2/5*x^2*y + 2/5*x^2*z^2 - 7/5*x^2*z + 7/10*x^2 - 1/20*x*y^2 - 4/5*x*y*z + 11/10*x*y + 3/5*x*z^2 - 13/10*x*z + 1/4*x + 1/20*y^4 - 1/2*y^3 - 2/5*y^2*z^2 + 11/5*y^2*z - 16/5*y*z^2 + 1/2*y*z + 4/5*z^4 + 4/5*z^3 - 1/4*z^2, 5/4*v*y^2 - 6*v*y*z + 13/8*v*y + 8*v*z^2 - 11/2*v*z + 85/64*v - 1/4*x^3 + 3/8*x^2*y - 1/2*x^2*z - 19/32*x^2 + 1/4*x*y^2 - 15/16*x*y - x*z^2 + 19/4*x*z - 179/64*x - 3/8*y^3 + 1/2*y^2*z + 33/32*y^2 + 3/2*y*z^2 - 11/4*y*z - 85/64*y - 2*z^3 + 33/8*z^2, -u^2 - v^2 - v + y}\n",
      "\n",
      "(-u^2 + v^2 + x, 5/4*v*y^2 - 6*v*y*z + 13/8*v*y + 8*v*z^2 - 11/2*v*z + 85/64*v - 1/4*x^3 + 3/8*x^2*y - 1/2*x^2*z - 19/32*x^2 + 1/4*x*y^2 - 15/16*x*y - x*z^2 + 19/4*x*z - 179/64*x - 3/8*y^3 + 1/2*y^2*z + 33/32*y^2 + 3/2*y*z^2 - 11/4*y*z - 85/64*y - 2*z^3 + 33/8*z^2) => 0\n",
      "G: {-2*v*x - 3*v*y + 4*v*z - 5/4*v - 1/2*x^2 + 3/4*x + 1/2*y^2 + 5/4*y - 2*z^2, -u*z + u - 1/2*v*x - 1/2*v*y + 1/4*v + 1/4*x + 3/4*y - z, u*v - u - v + z, -1/2*u*x + 1/2*u*y - 3/2*u + v*z - v + 1/2*x - 1/2*y + 3/2*z, -u^2 + v^2 + x, 2*v^2 + v + x - y, -1/2*v*x^2 - 5/4*v*x + 1/2*v*y^2 - 7/4*v*y - 2*v*z^2 + 4*v*z - 5/4*v + 1/4*x^2 + 1/2*x*y - 2*x*z + 7/4*x - 3/4*y^2 + 2*y*z + 5/4*y - 3*z^2, 1/20*x^4 + 3/20*x^3 - 1/10*x^2*y^2 + 2/5*x^2*y + 2/5*x^2*z^2 - 7/5*x^2*z + 7/10*x^2 - 1/20*x*y^2 - 4/5*x*y*z + 11/10*x*y + 3/5*x*z^2 - 13/10*x*z + 1/4*x + 1/20*y^4 - 1/2*y^3 - 2/5*y^2*z^2 + 11/5*y^2*z - 16/5*y*z^2 + 1/2*y*z + 4/5*z^4 + 4/5*z^3 - 1/4*z^2, 5/4*v*y^2 - 6*v*y*z + 13/8*v*y + 8*v*z^2 - 11/2*v*z + 85/64*v - 1/4*x^3 + 3/8*x^2*y - 1/2*x^2*z - 19/32*x^2 + 1/4*x*y^2 - 15/16*x*y - x*z^2 + 19/4*x*z - 179/64*x - 3/8*y^3 + 1/2*y^2*z + 33/32*y^2 + 3/2*y*z^2 - 11/4*y*z - 85/64*y - 2*z^3 + 33/8*z^2, -u^2 - v^2 - v + y}\n",
      "\n",
      "(-1/2*u*x + 1/2*u*y - 3/2*u + v*z - v + 1/2*x - 1/2*y + 3/2*z, 1/20*x^4 + 3/20*x^3 - 1/10*x^2*y^2 + 2/5*x^2*y + 2/5*x^2*z^2 - 7/5*x^2*z + 7/10*x^2 - 1/20*x*y^2 - 4/5*x*y*z + 11/10*x*y + 3/5*x*z^2 - 13/10*x*z + 1/4*x + 1/20*y^4 - 1/2*y^3 - 2/5*y^2*z^2 + 11/5*y^2*z - 16/5*y*z^2 + 1/2*y*z + 4/5*z^4 + 4/5*z^3 - 1/4*z^2) => 0\n",
      "G: {-2*v*x - 3*v*y + 4*v*z - 5/4*v - 1/2*x^2 + 3/4*x + 1/2*y^2 + 5/4*y - 2*z^2, -u*z + u - 1/2*v*x - 1/2*v*y + 1/4*v + 1/4*x + 3/4*y - z, u*v - u - v + z, -1/2*u*x + 1/2*u*y - 3/2*u + v*z - v + 1/2*x - 1/2*y + 3/2*z, -u^2 + v^2 + x, 2*v^2 + v + x - y, -1/2*v*x^2 - 5/4*v*x + 1/2*v*y^2 - 7/4*v*y - 2*v*z^2 + 4*v*z - 5/4*v + 1/4*x^2 + 1/2*x*y - 2*x*z + 7/4*x - 3/4*y^2 + 2*y*z + 5/4*y - 3*z^2, 1/20*x^4 + 3/20*x^3 - 1/10*x^2*y^2 + 2/5*x^2*y + 2/5*x^2*z^2 - 7/5*x^2*z + 7/10*x^2 - 1/20*x*y^2 - 4/5*x*y*z + 11/10*x*y + 3/5*x*z^2 - 13/10*x*z + 1/4*x + 1/20*y^4 - 1/2*y^3 - 2/5*y^2*z^2 + 11/5*y^2*z - 16/5*y*z^2 + 1/2*y*z + 4/5*z^4 + 4/5*z^3 - 1/4*z^2, 5/4*v*y^2 - 6*v*y*z + 13/8*v*y + 8*v*z^2 - 11/2*v*z + 85/64*v - 1/4*x^3 + 3/8*x^2*y - 1/2*x^2*z - 19/32*x^2 + 1/4*x*y^2 - 15/16*x*y - x*z^2 + 19/4*x*z - 179/64*x - 3/8*y^3 + 1/2*y^2*z + 33/32*y^2 + 3/2*y*z^2 - 11/4*y*z - 85/64*y - 2*z^3 + 33/8*z^2, -u^2 - v^2 - v + y}\n",
      "\n",
      "(-u^2 - v^2 - v + y, -1/2*v*x^2 - 5/4*v*x + 1/2*v*y^2 - 7/4*v*y - 2*v*z^2 + 4*v*z - 5/4*v + 1/4*x^2 + 1/2*x*y - 2*x*z + 7/4*x - 3/4*y^2 + 2*y*z + 5/4*y - 3*z^2) => 0\n",
      "G: {-2*v*x - 3*v*y + 4*v*z - 5/4*v - 1/2*x^2 + 3/4*x + 1/2*y^2 + 5/4*y - 2*z^2, -u*z + u - 1/2*v*x - 1/2*v*y + 1/4*v + 1/4*x + 3/4*y - z, u*v - u - v + z, -1/2*u*x + 1/2*u*y - 3/2*u + v*z - v + 1/2*x - 1/2*y + 3/2*z, -u^2 + v^2 + x, 2*v^2 + v + x - y, -1/2*v*x^2 - 5/4*v*x + 1/2*v*y^2 - 7/4*v*y - 2*v*z^2 + 4*v*z - 5/4*v + 1/4*x^2 + 1/2*x*y - 2*x*z + 7/4*x - 3/4*y^2 + 2*y*z + 5/4*y - 3*z^2, 1/20*x^4 + 3/20*x^3 - 1/10*x^2*y^2 + 2/5*x^2*y + 2/5*x^2*z^2 - 7/5*x^2*z + 7/10*x^2 - 1/20*x*y^2 - 4/5*x*y*z + 11/10*x*y + 3/5*x*z^2 - 13/10*x*z + 1/4*x + 1/20*y^4 - 1/2*y^3 - 2/5*y^2*z^2 + 11/5*y^2*z - 16/5*y*z^2 + 1/2*y*z + 4/5*z^4 + 4/5*z^3 - 1/4*z^2, 5/4*v*y^2 - 6*v*y*z + 13/8*v*y + 8*v*z^2 - 11/2*v*z + 85/64*v - 1/4*x^3 + 3/8*x^2*y - 1/2*x^2*z - 19/32*x^2 + 1/4*x*y^2 - 15/16*x*y - x*z^2 + 19/4*x*z - 179/64*x - 3/8*y^3 + 1/2*y^2*z + 33/32*y^2 + 3/2*y*z^2 - 11/4*y*z - 85/64*y - 2*z^3 + 33/8*z^2, -u^2 - v^2 - v + y}\n",
      "\n",
      "(-1/2*v*x^2 - 5/4*v*x + 1/2*v*y^2 - 7/4*v*y - 2*v*z^2 + 4*v*z - 5/4*v + 1/4*x^2 + 1/2*x*y - 2*x*z + 7/4*x - 3/4*y^2 + 2*y*z + 5/4*y - 3*z^2, 5/4*v*y^2 - 6*v*y*z + 13/8*v*y + 8*v*z^2 - 11/2*v*z + 85/64*v - 1/4*x^3 + 3/8*x^2*y - 1/2*x^2*z - 19/32*x^2 + 1/4*x*y^2 - 15/16*x*y - x*z^2 + 19/4*x*z - 179/64*x - 3/8*y^3 + 1/2*y^2*z + 33/32*y^2 + 3/2*y*z^2 - 11/4*y*z - 85/64*y - 2*z^3 + 33/8*z^2) => 0\n",
      "G: {-2*v*x - 3*v*y + 4*v*z - 5/4*v - 1/2*x^2 + 3/4*x + 1/2*y^2 + 5/4*y - 2*z^2, -u*z + u - 1/2*v*x - 1/2*v*y + 1/4*v + 1/4*x + 3/4*y - z, u*v - u - v + z, -1/2*u*x + 1/2*u*y - 3/2*u + v*z - v + 1/2*x - 1/2*y + 3/2*z, -u^2 + v^2 + x, 2*v^2 + v + x - y, -1/2*v*x^2 - 5/4*v*x + 1/2*v*y^2 - 7/4*v*y - 2*v*z^2 + 4*v*z - 5/4*v + 1/4*x^2 + 1/2*x*y - 2*x*z + 7/4*x - 3/4*y^2 + 2*y*z + 5/4*y - 3*z^2, 1/20*x^4 + 3/20*x^3 - 1/10*x^2*y^2 + 2/5*x^2*y + 2/5*x^2*z^2 - 7/5*x^2*z + 7/10*x^2 - 1/20*x*y^2 - 4/5*x*y*z + 11/10*x*y + 3/5*x*z^2 - 13/10*x*z + 1/4*x + 1/20*y^4 - 1/2*y^3 - 2/5*y^2*z^2 + 11/5*y^2*z - 16/5*y*z^2 + 1/2*y*z + 4/5*z^4 + 4/5*z^3 - 1/4*z^2, 5/4*v*y^2 - 6*v*y*z + 13/8*v*y + 8*v*z^2 - 11/2*v*z + 85/64*v - 1/4*x^3 + 3/8*x^2*y - 1/2*x^2*z - 19/32*x^2 + 1/4*x*y^2 - 15/16*x*y - x*z^2 + 19/4*x*z - 179/64*x - 3/8*y^3 + 1/2*y^2*z + 33/32*y^2 + 3/2*y*z^2 - 11/4*y*z - 85/64*y - 2*z^3 + 33/8*z^2, -u^2 - v^2 - v + y}\n",
      "\n",
      "(-u*z + u - 1/2*v*x - 1/2*v*y + 1/4*v + 1/4*x + 3/4*y - z, -1/2*v*x^2 - 5/4*v*x + 1/2*v*y^2 - 7/4*v*y - 2*v*z^2 + 4*v*z - 5/4*v + 1/4*x^2 + 1/2*x*y - 2*x*z + 7/4*x - 3/4*y^2 + 2*y*z + 5/4*y - 3*z^2) => 0\n",
      "G: {-2*v*x - 3*v*y + 4*v*z - 5/4*v - 1/2*x^2 + 3/4*x + 1/2*y^2 + 5/4*y - 2*z^2, -u*z + u - 1/2*v*x - 1/2*v*y + 1/4*v + 1/4*x + 3/4*y - z, u*v - u - v + z, -1/2*u*x + 1/2*u*y - 3/2*u + v*z - v + 1/2*x - 1/2*y + 3/2*z, -u^2 + v^2 + x, 2*v^2 + v + x - y, -1/2*v*x^2 - 5/4*v*x + 1/2*v*y^2 - 7/4*v*y - 2*v*z^2 + 4*v*z - 5/4*v + 1/4*x^2 + 1/2*x*y - 2*x*z + 7/4*x - 3/4*y^2 + 2*y*z + 5/4*y - 3*z^2, 1/20*x^4 + 3/20*x^3 - 1/10*x^2*y^2 + 2/5*x^2*y + 2/5*x^2*z^2 - 7/5*x^2*z + 7/10*x^2 - 1/20*x*y^2 - 4/5*x*y*z + 11/10*x*y + 3/5*x*z^2 - 13/10*x*z + 1/4*x + 1/20*y^4 - 1/2*y^3 - 2/5*y^2*z^2 + 11/5*y^2*z - 16/5*y*z^2 + 1/2*y*z + 4/5*z^4 + 4/5*z^3 - 1/4*z^2, 5/4*v*y^2 - 6*v*y*z + 13/8*v*y + 8*v*z^2 - 11/2*v*z + 85/64*v - 1/4*x^3 + 3/8*x^2*y - 1/2*x^2*z - 19/32*x^2 + 1/4*x*y^2 - 15/16*x*y - x*z^2 + 19/4*x*z - 179/64*x - 3/8*y^3 + 1/2*y^2*z + 33/32*y^2 + 3/2*y*z^2 - 11/4*y*z - 85/64*y - 2*z^3 + 33/8*z^2, -u^2 - v^2 - v + y}\n",
      "\n",
      "(-u^2 + v^2 + x, -1/2*v*x^2 - 5/4*v*x + 1/2*v*y^2 - 7/4*v*y - 2*v*z^2 + 4*v*z - 5/4*v + 1/4*x^2 + 1/2*x*y - 2*x*z + 7/4*x - 3/4*y^2 + 2*y*z + 5/4*y - 3*z^2) => 0\n",
      "G: {-2*v*x - 3*v*y + 4*v*z - 5/4*v - 1/2*x^2 + 3/4*x + 1/2*y^2 + 5/4*y - 2*z^2, -u*z + u - 1/2*v*x - 1/2*v*y + 1/4*v + 1/4*x + 3/4*y - z, u*v - u - v + z, -1/2*u*x + 1/2*u*y - 3/2*u + v*z - v + 1/2*x - 1/2*y + 3/2*z, -u^2 + v^2 + x, 2*v^2 + v + x - y, -1/2*v*x^2 - 5/4*v*x + 1/2*v*y^2 - 7/4*v*y - 2*v*z^2 + 4*v*z - 5/4*v + 1/4*x^2 + 1/2*x*y - 2*x*z + 7/4*x - 3/4*y^2 + 2*y*z + 5/4*y - 3*z^2, 1/20*x^4 + 3/20*x^3 - 1/10*x^2*y^2 + 2/5*x^2*y + 2/5*x^2*z^2 - 7/5*x^2*z + 7/10*x^2 - 1/20*x*y^2 - 4/5*x*y*z + 11/10*x*y + 3/5*x*z^2 - 13/10*x*z + 1/4*x + 1/20*y^4 - 1/2*y^3 - 2/5*y^2*z^2 + 11/5*y^2*z - 16/5*y*z^2 + 1/2*y*z + 4/5*z^4 + 4/5*z^3 - 1/4*z^2, 5/4*v*y^2 - 6*v*y*z + 13/8*v*y + 8*v*z^2 - 11/2*v*z + 85/64*v - 1/4*x^3 + 3/8*x^2*y - 1/2*x^2*z - 19/32*x^2 + 1/4*x*y^2 - 15/16*x*y - x*z^2 + 19/4*x*z - 179/64*x - 3/8*y^3 + 1/2*y^2*z + 33/32*y^2 + 3/2*y*z^2 - 11/4*y*z - 85/64*y - 2*z^3 + 33/8*z^2, -u^2 - v^2 - v + y}\n",
      "\n",
      "(-1/2*v*x^2 - 5/4*v*x + 1/2*v*y^2 - 7/4*v*y - 2*v*z^2 + 4*v*z - 5/4*v + 1/4*x^2 + 1/2*x*y - 2*x*z + 7/4*x - 3/4*y^2 + 2*y*z + 5/4*y - 3*z^2, 1/20*x^4 + 3/20*x^3 - 1/10*x^2*y^2 + 2/5*x^2*y + 2/5*x^2*z^2 - 7/5*x^2*z + 7/10*x^2 - 1/20*x*y^2 - 4/5*x*y*z + 11/10*x*y + 3/5*x*z^2 - 13/10*x*z + 1/4*x + 1/20*y^4 - 1/2*y^3 - 2/5*y^2*z^2 + 11/5*y^2*z - 16/5*y*z^2 + 1/2*y*z + 4/5*z^4 + 4/5*z^3 - 1/4*z^2) => 0\n",
      "G: {-2*v*x - 3*v*y + 4*v*z - 5/4*v - 1/2*x^2 + 3/4*x + 1/2*y^2 + 5/4*y - 2*z^2, -u*z + u - 1/2*v*x - 1/2*v*y + 1/4*v + 1/4*x + 3/4*y - z, u*v - u - v + z, -1/2*u*x + 1/2*u*y - 3/2*u + v*z - v + 1/2*x - 1/2*y + 3/2*z, -u^2 + v^2 + x, 2*v^2 + v + x - y, -1/2*v*x^2 - 5/4*v*x + 1/2*v*y^2 - 7/4*v*y - 2*v*z^2 + 4*v*z - 5/4*v + 1/4*x^2 + 1/2*x*y - 2*x*z + 7/4*x - 3/4*y^2 + 2*y*z + 5/4*y - 3*z^2, 1/20*x^4 + 3/20*x^3 - 1/10*x^2*y^2 + 2/5*x^2*y + 2/5*x^2*z^2 - 7/5*x^2*z + 7/10*x^2 - 1/20*x*y^2 - 4/5*x*y*z + 11/10*x*y + 3/5*x*z^2 - 13/10*x*z + 1/4*x + 1/20*y^4 - 1/2*y^3 - 2/5*y^2*z^2 + 11/5*y^2*z - 16/5*y*z^2 + 1/2*y*z + 4/5*z^4 + 4/5*z^3 - 1/4*z^2, 5/4*v*y^2 - 6*v*y*z + 13/8*v*y + 8*v*z^2 - 11/2*v*z + 85/64*v - 1/4*x^3 + 3/8*x^2*y - 1/2*x^2*z - 19/32*x^2 + 1/4*x*y^2 - 15/16*x*y - x*z^2 + 19/4*x*z - 179/64*x - 3/8*y^3 + 1/2*y^2*z + 33/32*y^2 + 3/2*y*z^2 - 11/4*y*z - 85/64*y - 2*z^3 + 33/8*z^2, -u^2 - v^2 - v + y}\n",
      "\n",
      "(-2*v*x - 3*v*y + 4*v*z - 5/4*v - 1/2*x^2 + 3/4*x + 1/2*y^2 + 5/4*y - 2*z^2, 1/20*x^4 + 3/20*x^3 - 1/10*x^2*y^2 + 2/5*x^2*y + 2/5*x^2*z^2 - 7/5*x^2*z + 7/10*x^2 - 1/20*x*y^2 - 4/5*x*y*z + 11/10*x*y + 3/5*x*z^2 - 13/10*x*z + 1/4*x + 1/20*y^4 - 1/2*y^3 - 2/5*y^2*z^2 + 11/5*y^2*z - 16/5*y*z^2 + 1/2*y*z + 4/5*z^4 + 4/5*z^3 - 1/4*z^2) => 0\n",
      "G: {-2*v*x - 3*v*y + 4*v*z - 5/4*v - 1/2*x^2 + 3/4*x + 1/2*y^2 + 5/4*y - 2*z^2, -u*z + u - 1/2*v*x - 1/2*v*y + 1/4*v + 1/4*x + 3/4*y - z, u*v - u - v + z, -1/2*u*x + 1/2*u*y - 3/2*u + v*z - v + 1/2*x - 1/2*y + 3/2*z, -u^2 + v^2 + x, 2*v^2 + v + x - y, -1/2*v*x^2 - 5/4*v*x + 1/2*v*y^2 - 7/4*v*y - 2*v*z^2 + 4*v*z - 5/4*v + 1/4*x^2 + 1/2*x*y - 2*x*z + 7/4*x - 3/4*y^2 + 2*y*z + 5/4*y - 3*z^2, 1/20*x^4 + 3/20*x^3 - 1/10*x^2*y^2 + 2/5*x^2*y + 2/5*x^2*z^2 - 7/5*x^2*z + 7/10*x^2 - 1/20*x*y^2 - 4/5*x*y*z + 11/10*x*y + 3/5*x*z^2 - 13/10*x*z + 1/4*x + 1/20*y^4 - 1/2*y^3 - 2/5*y^2*z^2 + 11/5*y^2*z - 16/5*y*z^2 + 1/2*y*z + 4/5*z^4 + 4/5*z^3 - 1/4*z^2, 5/4*v*y^2 - 6*v*y*z + 13/8*v*y + 8*v*z^2 - 11/2*v*z + 85/64*v - 1/4*x^3 + 3/8*x^2*y - 1/2*x^2*z - 19/32*x^2 + 1/4*x*y^2 - 15/16*x*y - x*z^2 + 19/4*x*z - 179/64*x - 3/8*y^3 + 1/2*y^2*z + 33/32*y^2 + 3/2*y*z^2 - 11/4*y*z - 85/64*y - 2*z^3 + 33/8*z^2, -u^2 - v^2 - v + y}\n",
      "\n",
      "(-u^2 - v^2 - v + y, 5/4*v*y^2 - 6*v*y*z + 13/8*v*y + 8*v*z^2 - 11/2*v*z + 85/64*v - 1/4*x^3 + 3/8*x^2*y - 1/2*x^2*z - 19/32*x^2 + 1/4*x*y^2 - 15/16*x*y - x*z^2 + 19/4*x*z - 179/64*x - 3/8*y^3 + 1/2*y^2*z + 33/32*y^2 + 3/2*y*z^2 - 11/4*y*z - 85/64*y - 2*z^3 + 33/8*z^2) => 0\n",
      "G: {-2*v*x - 3*v*y + 4*v*z - 5/4*v - 1/2*x^2 + 3/4*x + 1/2*y^2 + 5/4*y - 2*z^2, -u*z + u - 1/2*v*x - 1/2*v*y + 1/4*v + 1/4*x + 3/4*y - z, u*v - u - v + z, -1/2*u*x + 1/2*u*y - 3/2*u + v*z - v + 1/2*x - 1/2*y + 3/2*z, -u^2 + v^2 + x, 2*v^2 + v + x - y, -1/2*v*x^2 - 5/4*v*x + 1/2*v*y^2 - 7/4*v*y - 2*v*z^2 + 4*v*z - 5/4*v + 1/4*x^2 + 1/2*x*y - 2*x*z + 7/4*x - 3/4*y^2 + 2*y*z + 5/4*y - 3*z^2, 1/20*x^4 + 3/20*x^3 - 1/10*x^2*y^2 + 2/5*x^2*y + 2/5*x^2*z^2 - 7/5*x^2*z + 7/10*x^2 - 1/20*x*y^2 - 4/5*x*y*z + 11/10*x*y + 3/5*x*z^2 - 13/10*x*z + 1/4*x + 1/20*y^4 - 1/2*y^3 - 2/5*y^2*z^2 + 11/5*y^2*z - 16/5*y*z^2 + 1/2*y*z + 4/5*z^4 + 4/5*z^3 - 1/4*z^2, 5/4*v*y^2 - 6*v*y*z + 13/8*v*y + 8*v*z^2 - 11/2*v*z + 85/64*v - 1/4*x^3 + 3/8*x^2*y - 1/2*x^2*z - 19/32*x^2 + 1/4*x*y^2 - 15/16*x*y - x*z^2 + 19/4*x*z - 179/64*x - 3/8*y^3 + 1/2*y^2*z + 33/32*y^2 + 3/2*y*z^2 - 11/4*y*z - 85/64*y - 2*z^3 + 33/8*z^2, -u^2 - v^2 - v + y}\n",
      "\n",
      "(-u^2 - v^2 - v + y, 1/20*x^4 + 3/20*x^3 - 1/10*x^2*y^2 + 2/5*x^2*y + 2/5*x^2*z^2 - 7/5*x^2*z + 7/10*x^2 - 1/20*x*y^2 - 4/5*x*y*z + 11/10*x*y + 3/5*x*z^2 - 13/10*x*z + 1/4*x + 1/20*y^4 - 1/2*y^3 - 2/5*y^2*z^2 + 11/5*y^2*z - 16/5*y*z^2 + 1/2*y*z + 4/5*z^4 + 4/5*z^3 - 1/4*z^2) => 0\n",
      "G: {-2*v*x - 3*v*y + 4*v*z - 5/4*v - 1/2*x^2 + 3/4*x + 1/2*y^2 + 5/4*y - 2*z^2, -u*z + u - 1/2*v*x - 1/2*v*y + 1/4*v + 1/4*x + 3/4*y - z, u*v - u - v + z, -1/2*u*x + 1/2*u*y - 3/2*u + v*z - v + 1/2*x - 1/2*y + 3/2*z, -u^2 + v^2 + x, 2*v^2 + v + x - y, -1/2*v*x^2 - 5/4*v*x + 1/2*v*y^2 - 7/4*v*y - 2*v*z^2 + 4*v*z - 5/4*v + 1/4*x^2 + 1/2*x*y - 2*x*z + 7/4*x - 3/4*y^2 + 2*y*z + 5/4*y - 3*z^2, 1/20*x^4 + 3/20*x^3 - 1/10*x^2*y^2 + 2/5*x^2*y + 2/5*x^2*z^2 - 7/5*x^2*z + 7/10*x^2 - 1/20*x*y^2 - 4/5*x*y*z + 11/10*x*y + 3/5*x*z^2 - 13/10*x*z + 1/4*x + 1/20*y^4 - 1/2*y^3 - 2/5*y^2*z^2 + 11/5*y^2*z - 16/5*y*z^2 + 1/2*y*z + 4/5*z^4 + 4/5*z^3 - 1/4*z^2, 5/4*v*y^2 - 6*v*y*z + 13/8*v*y + 8*v*z^2 - 11/2*v*z + 85/64*v - 1/4*x^3 + 3/8*x^2*y - 1/2*x^2*z - 19/32*x^2 + 1/4*x*y^2 - 15/16*x*y - x*z^2 + 19/4*x*z - 179/64*x - 3/8*y^3 + 1/2*y^2*z + 33/32*y^2 + 3/2*y*z^2 - 11/4*y*z - 85/64*y - 2*z^3 + 33/8*z^2, -u^2 - v^2 - v + y}\n",
      "\n",
      "(2*v^2 + v + x - y, 1/20*x^4 + 3/20*x^3 - 1/10*x^2*y^2 + 2/5*x^2*y + 2/5*x^2*z^2 - 7/5*x^2*z + 7/10*x^2 - 1/20*x*y^2 - 4/5*x*y*z + 11/10*x*y + 3/5*x*z^2 - 13/10*x*z + 1/4*x + 1/20*y^4 - 1/2*y^3 - 2/5*y^2*z^2 + 11/5*y^2*z - 16/5*y*z^2 + 1/2*y*z + 4/5*z^4 + 4/5*z^3 - 1/4*z^2) => 0\n",
      "G: {-2*v*x - 3*v*y + 4*v*z - 5/4*v - 1/2*x^2 + 3/4*x + 1/2*y^2 + 5/4*y - 2*z^2, -u*z + u - 1/2*v*x - 1/2*v*y + 1/4*v + 1/4*x + 3/4*y - z, u*v - u - v + z, -1/2*u*x + 1/2*u*y - 3/2*u + v*z - v + 1/2*x - 1/2*y + 3/2*z, -u^2 + v^2 + x, 2*v^2 + v + x - y, -1/2*v*x^2 - 5/4*v*x + 1/2*v*y^2 - 7/4*v*y - 2*v*z^2 + 4*v*z - 5/4*v + 1/4*x^2 + 1/2*x*y - 2*x*z + 7/4*x - 3/4*y^2 + 2*y*z + 5/4*y - 3*z^2, 1/20*x^4 + 3/20*x^3 - 1/10*x^2*y^2 + 2/5*x^2*y + 2/5*x^2*z^2 - 7/5*x^2*z + 7/10*x^2 - 1/20*x*y^2 - 4/5*x*y*z + 11/10*x*y + 3/5*x*z^2 - 13/10*x*z + 1/4*x + 1/20*y^4 - 1/2*y^3 - 2/5*y^2*z^2 + 11/5*y^2*z - 16/5*y*z^2 + 1/2*y*z + 4/5*z^4 + 4/5*z^3 - 1/4*z^2, 5/4*v*y^2 - 6*v*y*z + 13/8*v*y + 8*v*z^2 - 11/2*v*z + 85/64*v - 1/4*x^3 + 3/8*x^2*y - 1/2*x^2*z - 19/32*x^2 + 1/4*x*y^2 - 15/16*x*y - x*z^2 + 19/4*x*z - 179/64*x - 3/8*y^3 + 1/2*y^2*z + 33/32*y^2 + 3/2*y*z^2 - 11/4*y*z - 85/64*y - 2*z^3 + 33/8*z^2, -u^2 - v^2 - v + y}\n",
      "\n",
      "(u*v - u - v + z, 1/20*x^4 + 3/20*x^3 - 1/10*x^2*y^2 + 2/5*x^2*y + 2/5*x^2*z^2 - 7/5*x^2*z + 7/10*x^2 - 1/20*x*y^2 - 4/5*x*y*z + 11/10*x*y + 3/5*x*z^2 - 13/10*x*z + 1/4*x + 1/20*y^4 - 1/2*y^3 - 2/5*y^2*z^2 + 11/5*y^2*z - 16/5*y*z^2 + 1/2*y*z + 4/5*z^4 + 4/5*z^3 - 1/4*z^2) => 0\n",
      "G: {-2*v*x - 3*v*y + 4*v*z - 5/4*v - 1/2*x^2 + 3/4*x + 1/2*y^2 + 5/4*y - 2*z^2, -u*z + u - 1/2*v*x - 1/2*v*y + 1/4*v + 1/4*x + 3/4*y - z, u*v - u - v + z, -1/2*u*x + 1/2*u*y - 3/2*u + v*z - v + 1/2*x - 1/2*y + 3/2*z, -u^2 + v^2 + x, 2*v^2 + v + x - y, -1/2*v*x^2 - 5/4*v*x + 1/2*v*y^2 - 7/4*v*y - 2*v*z^2 + 4*v*z - 5/4*v + 1/4*x^2 + 1/2*x*y - 2*x*z + 7/4*x - 3/4*y^2 + 2*y*z + 5/4*y - 3*z^2, 1/20*x^4 + 3/20*x^3 - 1/10*x^2*y^2 + 2/5*x^2*y + 2/5*x^2*z^2 - 7/5*x^2*z + 7/10*x^2 - 1/20*x*y^2 - 4/5*x*y*z + 11/10*x*y + 3/5*x*z^2 - 13/10*x*z + 1/4*x + 1/20*y^4 - 1/2*y^3 - 2/5*y^2*z^2 + 11/5*y^2*z - 16/5*y*z^2 + 1/2*y*z + 4/5*z^4 + 4/5*z^3 - 1/4*z^2, 5/4*v*y^2 - 6*v*y*z + 13/8*v*y + 8*v*z^2 - 11/2*v*z + 85/64*v - 1/4*x^3 + 3/8*x^2*y - 1/2*x^2*z - 19/32*x^2 + 1/4*x*y^2 - 15/16*x*y - x*z^2 + 19/4*x*z - 179/64*x - 3/8*y^3 + 1/2*y^2*z + 33/32*y^2 + 3/2*y*z^2 - 11/4*y*z - 85/64*y - 2*z^3 + 33/8*z^2, -u^2 - v^2 - v + y}\n",
      "\n",
      "(-u*z + u - 1/2*v*x - 1/2*v*y + 1/4*v + 1/4*x + 3/4*y - z, 1/20*x^4 + 3/20*x^3 - 1/10*x^2*y^2 + 2/5*x^2*y + 2/5*x^2*z^2 - 7/5*x^2*z + 7/10*x^2 - 1/20*x*y^2 - 4/5*x*y*z + 11/10*x*y + 3/5*x*z^2 - 13/10*x*z + 1/4*x + 1/20*y^4 - 1/2*y^3 - 2/5*y^2*z^2 + 11/5*y^2*z - 16/5*y*z^2 + 1/2*y*z + 4/5*z^4 + 4/5*z^3 - 1/4*z^2) => 0\n",
      "G: {-2*v*x - 3*v*y + 4*v*z - 5/4*v - 1/2*x^2 + 3/4*x + 1/2*y^2 + 5/4*y - 2*z^2, -u*z + u - 1/2*v*x - 1/2*v*y + 1/4*v + 1/4*x + 3/4*y - z, u*v - u - v + z, -1/2*u*x + 1/2*u*y - 3/2*u + v*z - v + 1/2*x - 1/2*y + 3/2*z, -u^2 + v^2 + x, 2*v^2 + v + x - y, -1/2*v*x^2 - 5/4*v*x + 1/2*v*y^2 - 7/4*v*y - 2*v*z^2 + 4*v*z - 5/4*v + 1/4*x^2 + 1/2*x*y - 2*x*z + 7/4*x - 3/4*y^2 + 2*y*z + 5/4*y - 3*z^2, 1/20*x^4 + 3/20*x^3 - 1/10*x^2*y^2 + 2/5*x^2*y + 2/5*x^2*z^2 - 7/5*x^2*z + 7/10*x^2 - 1/20*x*y^2 - 4/5*x*y*z + 11/10*x*y + 3/5*x*z^2 - 13/10*x*z + 1/4*x + 1/20*y^4 - 1/2*y^3 - 2/5*y^2*z^2 + 11/5*y^2*z - 16/5*y*z^2 + 1/2*y*z + 4/5*z^4 + 4/5*z^3 - 1/4*z^2, 5/4*v*y^2 - 6*v*y*z + 13/8*v*y + 8*v*z^2 - 11/2*v*z + 85/64*v - 1/4*x^3 + 3/8*x^2*y - 1/2*x^2*z - 19/32*x^2 + 1/4*x*y^2 - 15/16*x*y - x*z^2 + 19/4*x*z - 179/64*x - 3/8*y^3 + 1/2*y^2*z + 33/32*y^2 + 3/2*y*z^2 - 11/4*y*z - 85/64*y - 2*z^3 + 33/8*z^2, -u^2 - v^2 - v + y}\n",
      "\n",
      "(-u^2 + v^2 + x, 1/20*x^4 + 3/20*x^3 - 1/10*x^2*y^2 + 2/5*x^2*y + 2/5*x^2*z^2 - 7/5*x^2*z + 7/10*x^2 - 1/20*x*y^2 - 4/5*x*y*z + 11/10*x*y + 3/5*x*z^2 - 13/10*x*z + 1/4*x + 1/20*y^4 - 1/2*y^3 - 2/5*y^2*z^2 + 11/5*y^2*z - 16/5*y*z^2 + 1/2*y*z + 4/5*z^4 + 4/5*z^3 - 1/4*z^2) => 0\n",
      "G: {-2*v*x - 3*v*y + 4*v*z - 5/4*v - 1/2*x^2 + 3/4*x + 1/2*y^2 + 5/4*y - 2*z^2, -u*z + u - 1/2*v*x - 1/2*v*y + 1/4*v + 1/4*x + 3/4*y - z, u*v - u - v + z, -1/2*u*x + 1/2*u*y - 3/2*u + v*z - v + 1/2*x - 1/2*y + 3/2*z, -u^2 + v^2 + x, 2*v^2 + v + x - y, -1/2*v*x^2 - 5/4*v*x + 1/2*v*y^2 - 7/4*v*y - 2*v*z^2 + 4*v*z - 5/4*v + 1/4*x^2 + 1/2*x*y - 2*x*z + 7/4*x - 3/4*y^2 + 2*y*z + 5/4*y - 3*z^2, 1/20*x^4 + 3/20*x^3 - 1/10*x^2*y^2 + 2/5*x^2*y + 2/5*x^2*z^2 - 7/5*x^2*z + 7/10*x^2 - 1/20*x*y^2 - 4/5*x*y*z + 11/10*x*y + 3/5*x*z^2 - 13/10*x*z + 1/4*x + 1/20*y^4 - 1/2*y^3 - 2/5*y^2*z^2 + 11/5*y^2*z - 16/5*y*z^2 + 1/2*y*z + 4/5*z^4 + 4/5*z^3 - 1/4*z^2, 5/4*v*y^2 - 6*v*y*z + 13/8*v*y + 8*v*z^2 - 11/2*v*z + 85/64*v - 1/4*x^3 + 3/8*x^2*y - 1/2*x^2*z - 19/32*x^2 + 1/4*x*y^2 - 15/16*x*y - x*z^2 + 19/4*x*z - 179/64*x - 3/8*y^3 + 1/2*y^2*z + 33/32*y^2 + 3/2*y*z^2 - 11/4*y*z - 85/64*y - 2*z^3 + 33/8*z^2, -u^2 - v^2 - v + y}\n",
      "\n",
      "(5/4*v*y^2 - 6*v*y*z + 13/8*v*y + 8*v*z^2 - 11/2*v*z + 85/64*v - 1/4*x^3 + 3/8*x^2*y - 1/2*x^2*z - 19/32*x^2 + 1/4*x*y^2 - 15/16*x*y - x*z^2 + 19/4*x*z - 179/64*x - 3/8*y^3 + 1/2*y^2*z + 33/32*y^2 + 3/2*y*z^2 - 11/4*y*z - 85/64*y - 2*z^3 + 33/8*z^2, 1/20*x^4 + 3/20*x^3 - 1/10*x^2*y^2 + 2/5*x^2*y + 2/5*x^2*z^2 - 7/5*x^2*z + 7/10*x^2 - 1/20*x*y^2 - 4/5*x*y*z + 11/10*x*y + 3/5*x*z^2 - 13/10*x*z + 1/4*x + 1/20*y^4 - 1/2*y^3 - 2/5*y^2*z^2 + 11/5*y^2*z - 16/5*y*z^2 + 1/2*y*z + 4/5*z^4 + 4/5*z^3 - 1/4*z^2) => 0\n",
      "G: {-2*v*x - 3*v*y + 4*v*z - 5/4*v - 1/2*x^2 + 3/4*x + 1/2*y^2 + 5/4*y - 2*z^2, -u*z + u - 1/2*v*x - 1/2*v*y + 1/4*v + 1/4*x + 3/4*y - z, u*v - u - v + z, -1/2*u*x + 1/2*u*y - 3/2*u + v*z - v + 1/2*x - 1/2*y + 3/2*z, -u^2 + v^2 + x, 2*v^2 + v + x - y, -1/2*v*x^2 - 5/4*v*x + 1/2*v*y^2 - 7/4*v*y - 2*v*z^2 + 4*v*z - 5/4*v + 1/4*x^2 + 1/2*x*y - 2*x*z + 7/4*x - 3/4*y^2 + 2*y*z + 5/4*y - 3*z^2, 1/20*x^4 + 3/20*x^3 - 1/10*x^2*y^2 + 2/5*x^2*y + 2/5*x^2*z^2 - 7/5*x^2*z + 7/10*x^2 - 1/20*x*y^2 - 4/5*x*y*z + 11/10*x*y + 3/5*x*z^2 - 13/10*x*z + 1/4*x + 1/20*y^4 - 1/2*y^3 - 2/5*y^2*z^2 + 11/5*y^2*z - 16/5*y*z^2 + 1/2*y*z + 4/5*z^4 + 4/5*z^3 - 1/4*z^2, 5/4*v*y^2 - 6*v*y*z + 13/8*v*y + 8*v*z^2 - 11/2*v*z + 85/64*v - 1/4*x^3 + 3/8*x^2*y - 1/2*x^2*z - 19/32*x^2 + 1/4*x*y^2 - 15/16*x*y - x*z^2 + 19/4*x*z - 179/64*x - 3/8*y^3 + 1/2*y^2*z + 33/32*y^2 + 3/2*y*z^2 - 11/4*y*z - 85/64*y - 2*z^3 + 33/8*z^2, -u^2 - v^2 - v + y}\n",
      "\n",
      "41 reductions to zero.\n"
     ]
    },
    {
     "data": {
      "text/plain": [
       "[-2*v*x - 3*v*y + 4*v*z - 5/4*v - 1/2*x^2 + 3/4*x + 1/2*y^2 + 5/4*y - 2*z^2, -u*z + u - 1/2*v*x - 1/2*v*y + 1/4*v + 1/4*x + 3/4*y - z, u*v - u - v + z, -1/2*u*x + 1/2*u*y - 3/2*u + v*z - v + 1/2*x - 1/2*y + 3/2*z, -u^2 + v^2 + x, 2*v^2 + v + x - y, -1/2*v*x^2 - 5/4*v*x + 1/2*v*y^2 - 7/4*v*y - 2*v*z^2 + 4*v*z - 5/4*v + 1/4*x^2 + 1/2*x*y - 2*x*z + 7/4*x - 3/4*y^2 + 2*y*z + 5/4*y - 3*z^2, 1/20*x^4 + 3/20*x^3 - 1/10*x^2*y^2 + 2/5*x^2*y + 2/5*x^2*z^2 - 7/5*x^2*z + 7/10*x^2 - 1/20*x*y^2 - 4/5*x*y*z + 11/10*x*y + 3/5*x*z^2 - 13/10*x*z + 1/4*x + 1/20*y^4 - 1/2*y^3 - 2/5*y^2*z^2 + 11/5*y^2*z - 16/5*y*z^2 + 1/2*y*z + 4/5*z^4 + 4/5*z^3 - 1/4*z^2, 5/4*v*y^2 - 6*v*y*z + 13/8*v*y + 8*v*z^2 - 11/2*v*z + 85/64*v - 1/4*x^3 + 3/8*x^2*y - 1/2*x^2*z - 19/32*x^2 + 1/4*x*y^2 - 15/16*x*y - x*z^2 + 19/4*x*z - 179/64*x - 3/8*y^3 + 1/2*y^2*z + 33/32*y^2 + 3/2*y*z^2 - 11/4*y*z - 85/64*y - 2*z^3 + 33/8*z^2, -u^2 - v^2 - v + y]"
      ]
     },
     "execution_count": 17,
     "metadata": {},
     "output_type": "execute_result"
    }
   ],
   "source": [
    "buchberger(I)"
   ]
  },
  {
   "cell_type": "code",
   "execution_count": 18,
   "metadata": {},
   "outputs": [
    {
     "name": "stdout",
     "output_type": "stream",
     "text": [
      "Univariate Polynomial Ring in t over Rational Field\n",
      "Multivariate Polynomial Ring in x, y over Rational Field\n",
      "Multivariate Polynomial Ring in u, t, x, y over Rational Field\n"
     ]
    }
   ],
   "source": [
    "P.<t> = PolynomialRing(QQ,order='lex')\n",
    "print(P)\n",
    "R.<x,y> = PolynomialRing(QQ,order='lex')\n",
    "print(R)\n",
    "S.<u,t,x,y> = PolynomialRing(QQ,order='lex')\n",
    "print(S)"
   ]
  },
  {
   "cell_type": "code",
   "execution_count": 19,
   "metadata": {},
   "outputs": [],
   "source": [
    "fx = 1 - t^2\n",
    "qx = 1 + t^2\n",
    "fy = 2*t\n",
    "qy = 1 + t^2"
   ]
  },
  {
   "cell_type": "code",
   "execution_count": 20,
   "metadata": {},
   "outputs": [],
   "source": [
    "I = S.ideal([qx*x-fx,qy*y-fy,1 - qx*qy*u])"
   ]
  },
  {
   "cell_type": "code",
   "execution_count": 21,
   "metadata": {
    "scrolled": false
   },
   "outputs": [
    {
     "name": "stdout",
     "output_type": "stream",
     "text": [
      "(t^2*x + t^2 + x - 1, t^2*y - 2*t + y) => 2*t*x + 2*t - 2*y\n",
      "G: {2*t*x + 2*t - 2*y, t^2*x + t^2 + x - 1, t^2*y - 2*t + y, -u*t^4 - 2*u*t^2 - u + 1}\n",
      "\n",
      "(t^2*x + t^2 + x - 1, 2*t*x + 2*t - 2*y) => t*y + x - 1\n",
      "G: {t*y + x - 1, t^2*y - 2*t + y, -u*t^4 - 2*u*t^2 - u + 1, t^2*x + t^2 + x - 1, 2*t*x + 2*t - 2*y}\n",
      "\n",
      "(2*t*x + 2*t - 2*y, t*y + x - 1) => -x^2 - y^2 + 1\n",
      "G: {t*y + x - 1, t^2*y - 2*t + y, -u*t^4 - 2*u*t^2 - u + 1, -x^2 - y^2 + 1, t^2*x + t^2 + x - 1, 2*t*x + 2*t - 2*y}\n",
      "\n",
      "(2*t*x + 2*t - 2*y, -x^2 - y^2 + 1) => 0\n",
      "G: {t*y + x - 1, t^2*y - 2*t + y, -u*t^4 - 2*u*t^2 - u + 1, -x^2 - y^2 + 1, t^2*x + t^2 + x - 1, 2*t*x + 2*t - 2*y}\n",
      "\n",
      "(t^2*y - 2*t + y, t*y + x - 1) => 0\n",
      "G: {t*y + x - 1, t^2*y - 2*t + y, -u*t^4 - 2*u*t^2 - u + 1, -x^2 - y^2 + 1, t^2*x + t^2 + x - 1, 2*t*x + 2*t - 2*y}\n",
      "\n",
      "(t^2*x + t^2 + x - 1, t*y + x - 1) => 0\n",
      "G: {t*y + x - 1, t^2*y - 2*t + y, -u*t^4 - 2*u*t^2 - u + 1, -x^2 - y^2 + 1, t^2*x + t^2 + x - 1, 2*t*x + 2*t - 2*y}\n",
      "\n",
      "(t^2*x + t^2 + x - 1, -x^2 - y^2 + 1) => 0\n",
      "G: {t*y + x - 1, t^2*y - 2*t + y, -u*t^4 - 2*u*t^2 - u + 1, -x^2 - y^2 + 1, t^2*x + t^2 + x - 1, 2*t*x + 2*t - 2*y}\n",
      "\n",
      "(t^2*y - 2*t + y, t^2*x + t^2 + x - 1) => 0\n",
      "G: {t*y + x - 1, t^2*y - 2*t + y, -u*t^4 - 2*u*t^2 - u + 1, -x^2 - y^2 + 1, t^2*x + t^2 + x - 1, 2*t*x + 2*t - 2*y}\n",
      "\n",
      "(t*y + x - 1, -x^2 - y^2 + 1) => 0\n",
      "G: {t*y + x - 1, t^2*y - 2*t + y, -u*t^4 - 2*u*t^2 - u + 1, -x^2 - y^2 + 1, t^2*x + t^2 + x - 1, 2*t*x + 2*t - 2*y}\n",
      "\n",
      "(t^2*y - 2*t + y, 2*t*x + 2*t - 2*y) => 0\n",
      "G: {t*y + x - 1, t^2*y - 2*t + y, -u*t^4 - 2*u*t^2 - u + 1, -x^2 - y^2 + 1, t^2*x + t^2 + x - 1, 2*t*x + 2*t - 2*y}\n",
      "\n",
      "(t^2*y - 2*t + y, -x^2 - y^2 + 1) => 0\n",
      "G: {t*y + x - 1, t^2*y - 2*t + y, -u*t^4 - 2*u*t^2 - u + 1, -x^2 - y^2 + 1, t^2*x + t^2 + x - 1, 2*t*x + 2*t - 2*y}\n",
      "\n",
      "(t^2*x + t^2 + x - 1, -u*t^4 - 2*u*t^2 - u + 1) => -2*u*t^2 - 2*u + x + 1\n",
      "G: {t*y + x - 1, t^2*y - 2*t + y, -u*t^4 - 2*u*t^2 - u + 1, -x^2 - y^2 + 1, -2*u*t^2 - 2*u + x + 1, t^2*x + t^2 + x - 1, 2*t*x + 2*t - 2*y}\n",
      "\n",
      "(2*t*x + 2*t - 2*y, -2*u*t^2 - 2*u + x + 1) => -2*u + x - 1/2*y^2 + 1\n",
      "G: {t*y + x - 1, t^2*y - 2*t + y, -u*t^4 - 2*u*t^2 - u + 1, -x^2 - y^2 + 1, -2*u*t^2 - 2*u + x + 1, t^2*x + t^2 + x - 1, -2*u + x - 1/2*y^2 + 1, 2*t*x + 2*t - 2*y}\n",
      "\n",
      "(-x^2 - y^2 + 1, -2*u + x - 1/2*y^2 + 1) => 0\n",
      "G: {t*y + x - 1, t^2*y - 2*t + y, -u*t^4 - 2*u*t^2 - u + 1, -x^2 - y^2 + 1, -2*u*t^2 - 2*u + x + 1, t^2*x + t^2 + x - 1, -2*u + x - 1/2*y^2 + 1, 2*t*x + 2*t - 2*y}\n",
      "\n",
      "(t*y + x - 1, -2*u + x - 1/2*y^2 + 1) => 0\n",
      "G: {t*y + x - 1, t^2*y - 2*t + y, -u*t^4 - 2*u*t^2 - u + 1, -x^2 - y^2 + 1, -2*u*t^2 - 2*u + x + 1, t^2*x + t^2 + x - 1, -2*u + x - 1/2*y^2 + 1, 2*t*x + 2*t - 2*y}\n",
      "\n",
      "(-2*u*t^2 - 2*u + x + 1, -2*u + x - 1/2*y^2 + 1) => 0\n",
      "G: {t*y + x - 1, t^2*y - 2*t + y, -u*t^4 - 2*u*t^2 - u + 1, -x^2 - y^2 + 1, -2*u*t^2 - 2*u + x + 1, t^2*x + t^2 + x - 1, -2*u + x - 1/2*y^2 + 1, 2*t*x + 2*t - 2*y}\n",
      "\n",
      "(2*t*x + 2*t - 2*y, -2*u + x - 1/2*y^2 + 1) => 0\n",
      "G: {t*y + x - 1, t^2*y - 2*t + y, -u*t^4 - 2*u*t^2 - u + 1, -x^2 - y^2 + 1, -2*u*t^2 - 2*u + x + 1, t^2*x + t^2 + x - 1, -2*u + x - 1/2*y^2 + 1, 2*t*x + 2*t - 2*y}\n",
      "\n",
      "(t^2*y - 2*t + y, -2*u + x - 1/2*y^2 + 1) => 0\n",
      "G: {t*y + x - 1, t^2*y - 2*t + y, -u*t^4 - 2*u*t^2 - u + 1, -x^2 - y^2 + 1, -2*u*t^2 - 2*u + x + 1, t^2*x + t^2 + x - 1, -2*u + x - 1/2*y^2 + 1, 2*t*x + 2*t - 2*y}\n",
      "\n",
      "(t^2*x + t^2 + x - 1, -2*u*t^2 - 2*u + x + 1) => 0\n",
      "G: {t*y + x - 1, t^2*y - 2*t + y, -u*t^4 - 2*u*t^2 - u + 1, -x^2 - y^2 + 1, -2*u*t^2 - 2*u + x + 1, t^2*x + t^2 + x - 1, -2*u + x - 1/2*y^2 + 1, 2*t*x + 2*t - 2*y}\n",
      "\n",
      "(t^2*y - 2*t + y, -2*u*t^2 - 2*u + x + 1) => 0\n",
      "G: {t*y + x - 1, t^2*y - 2*t + y, -u*t^4 - 2*u*t^2 - u + 1, -x^2 - y^2 + 1, -2*u*t^2 - 2*u + x + 1, t^2*x + t^2 + x - 1, -2*u + x - 1/2*y^2 + 1, 2*t*x + 2*t - 2*y}\n",
      "\n",
      "(t^2*x + t^2 + x - 1, -2*u + x - 1/2*y^2 + 1) => 0\n",
      "G: {t*y + x - 1, t^2*y - 2*t + y, -u*t^4 - 2*u*t^2 - u + 1, -x^2 - y^2 + 1, -2*u*t^2 - 2*u + x + 1, t^2*x + t^2 + x - 1, -2*u + x - 1/2*y^2 + 1, 2*t*x + 2*t - 2*y}\n",
      "\n",
      "(t*y + x - 1, -2*u*t^2 - 2*u + x + 1) => 0\n",
      "G: {t*y + x - 1, t^2*y - 2*t + y, -u*t^4 - 2*u*t^2 - u + 1, -x^2 - y^2 + 1, -2*u*t^2 - 2*u + x + 1, t^2*x + t^2 + x - 1, -2*u + x - 1/2*y^2 + 1, 2*t*x + 2*t - 2*y}\n",
      "\n",
      "(-u*t^4 - 2*u*t^2 - u + 1, -2*u*t^2 - 2*u + x + 1) => 0\n",
      "G: {t*y + x - 1, t^2*y - 2*t + y, -u*t^4 - 2*u*t^2 - u + 1, -x^2 - y^2 + 1, -2*u*t^2 - 2*u + x + 1, t^2*x + t^2 + x - 1, -2*u + x - 1/2*y^2 + 1, 2*t*x + 2*t - 2*y}\n",
      "\n",
      "(-x^2 - y^2 + 1, -2*u*t^2 - 2*u + x + 1) => 0\n",
      "G: {t*y + x - 1, t^2*y - 2*t + y, -u*t^4 - 2*u*t^2 - u + 1, -x^2 - y^2 + 1, -2*u*t^2 - 2*u + x + 1, t^2*x + t^2 + x - 1, -2*u + x - 1/2*y^2 + 1, 2*t*x + 2*t - 2*y}\n",
      "\n",
      "(-u*t^4 - 2*u*t^2 - u + 1, -2*u + x - 1/2*y^2 + 1) => 0\n",
      "G: {t*y + x - 1, t^2*y - 2*t + y, -u*t^4 - 2*u*t^2 - u + 1, -x^2 - y^2 + 1, -2*u*t^2 - 2*u + x + 1, t^2*x + t^2 + x - 1, -2*u + x - 1/2*y^2 + 1, 2*t*x + 2*t - 2*y}\n",
      "\n",
      "(-u*t^4 - 2*u*t^2 - u + 1, t^2*x + t^2 + x - 1) => 0\n",
      "G: {t*y + x - 1, t^2*y - 2*t + y, -u*t^4 - 2*u*t^2 - u + 1, -x^2 - y^2 + 1, -2*u*t^2 - 2*u + x + 1, t^2*x + t^2 + x - 1, -2*u + x - 1/2*y^2 + 1, 2*t*x + 2*t - 2*y}\n",
      "\n",
      "(-u*t^4 - 2*u*t^2 - u + 1, t*y + x - 1) => 0\n",
      "G: {t*y + x - 1, t^2*y - 2*t + y, -u*t^4 - 2*u*t^2 - u + 1, -x^2 - y^2 + 1, -2*u*t^2 - 2*u + x + 1, t^2*x + t^2 + x - 1, -2*u + x - 1/2*y^2 + 1, 2*t*x + 2*t - 2*y}\n",
      "\n",
      "(t^2*y - 2*t + y, -u*t^4 - 2*u*t^2 - u + 1) => 0\n",
      "G: {t*y + x - 1, t^2*y - 2*t + y, -u*t^4 - 2*u*t^2 - u + 1, -x^2 - y^2 + 1, -2*u*t^2 - 2*u + x + 1, t^2*x + t^2 + x - 1, -2*u + x - 1/2*y^2 + 1, 2*t*x + 2*t - 2*y}\n",
      "\n",
      "(-u*t^4 - 2*u*t^2 - u + 1, t^2*y - 2*t + y) => 0\n",
      "G: {t*y + x - 1, t^2*y - 2*t + y, -u*t^4 - 2*u*t^2 - u + 1, -x^2 - y^2 + 1, -2*u*t^2 - 2*u + x + 1, t^2*x + t^2 + x - 1, -2*u + x - 1/2*y^2 + 1, 2*t*x + 2*t - 2*y}\n",
      "\n",
      "(-u*t^4 - 2*u*t^2 - u + 1, 2*t*x + 2*t - 2*y) => 0\n",
      "G: {t*y + x - 1, t^2*y - 2*t + y, -u*t^4 - 2*u*t^2 - u + 1, -x^2 - y^2 + 1, -2*u*t^2 - 2*u + x + 1, t^2*x + t^2 + x - 1, -2*u + x - 1/2*y^2 + 1, 2*t*x + 2*t - 2*y}\n",
      "\n",
      "(-u*t^4 - 2*u*t^2 - u + 1, -x^2 - y^2 + 1) => 0\n",
      "G: {t*y + x - 1, t^2*y - 2*t + y, -u*t^4 - 2*u*t^2 - u + 1, -x^2 - y^2 + 1, -2*u*t^2 - 2*u + x + 1, t^2*x + t^2 + x - 1, -2*u + x - 1/2*y^2 + 1, 2*t*x + 2*t - 2*y}\n",
      "\n",
      "26 reductions to zero.\n"
     ]
    },
    {
     "data": {
      "text/plain": [
       "[u*t^4 + 2*u*t^2 + u - 1, u*t^2 + u - 1/2*x - 1/2, u - 1/2*x + 1/4*y^2 - 1/2, t^2*x + t^2 + x - 1, t^2*y - 2*t + y, t*x + t - y, t*y + x - 1, x^2 + y^2 - 1]"
      ]
     },
     "execution_count": 21,
     "metadata": {},
     "output_type": "execute_result"
    }
   ],
   "source": [
    "set_verbose(1)\n",
    "I.groebner_basis(algorithm='toy:buchberger')"
   ]
  },
  {
   "cell_type": "code",
   "execution_count": 22,
   "metadata": {},
   "outputs": [
    {
     "data": {
      "text/plain": [
       "[u - 1/2*x + 1/4*y^2 - 1/2, t*x + t - y, t*y + x - 1, x^2 + y^2 - 1]"
      ]
     },
     "execution_count": 22,
     "metadata": {},
     "output_type": "execute_result"
    }
   ],
   "source": [
    "set_verbose(0)\n",
    "I.groebner_basis()"
   ]
  },
  {
   "cell_type": "markdown",
   "metadata": {},
   "source": [
    "#### Ejercicio 4.1"
   ]
  },
  {
   "cell_type": "code",
   "execution_count": null,
   "metadata": {},
   "outputs": [],
   "source": [
    "t = TermOrder('lex')\n",
    "t = TermOrder(matrix(2,[0,1,1,0]))\n",
    "R.<x,y> = PolynomialRing(GF(2),order=t)\n",
    "R"
   ]
  },
  {
   "cell_type": "code",
   "execution_count": null,
   "metadata": {},
   "outputs": [],
   "source": [
    "I = R.ideal([x^2 + 2*y^2 - 3, x^2 + x*y + y^2 - 3])"
   ]
  },
  {
   "cell_type": "code",
   "execution_count": null,
   "metadata": {},
   "outputs": [],
   "source": [
    "I.groebner_basis()"
   ]
  },
  {
   "cell_type": "code",
   "execution_count": null,
   "metadata": {},
   "outputs": [],
   "source": [
    "set_verbose(1)\n",
    "I.groebner_basis(algorithm='toy:buchberger')"
   ]
  },
  {
   "cell_type": "code",
   "execution_count": null,
   "metadata": {},
   "outputs": [],
   "source": []
  },
  {
   "cell_type": "code",
   "execution_count": null,
   "metadata": {},
   "outputs": [],
   "source": []
  },
  {
   "cell_type": "code",
   "execution_count": null,
   "metadata": {},
   "outputs": [],
   "source": [
    "R.<t,x,y,z> = PolynomialRing(QQ,order='lex')\n",
    "R"
   ]
  },
  {
   "cell_type": "code",
   "execution_count": null,
   "metadata": {},
   "outputs": [],
   "source": [
    "I = R.ideal([x-t, y-t^2, z-t^3])"
   ]
  },
  {
   "cell_type": "code",
   "execution_count": null,
   "metadata": {},
   "outputs": [],
   "source": [
    "I.groebner_basis()"
   ]
  },
  {
   "cell_type": "code",
   "execution_count": null,
   "metadata": {},
   "outputs": [],
   "source": [
    "R.<t,u,x,y,z> = PolynomialRing(QQ,order='lex')"
   ]
  },
  {
   "cell_type": "code",
   "execution_count": null,
   "metadata": {},
   "outputs": [],
   "source": [
    "I = R.ideal([x-t-u,y - t^2 - 2*t+u, z-t^3 - 3*t^2*u])"
   ]
  },
  {
   "cell_type": "code",
   "execution_count": null,
   "metadata": {},
   "outputs": [],
   "source": [
    "I.groebner_basis()"
   ]
  },
  {
   "cell_type": "code",
   "execution_count": null,
   "metadata": {},
   "outputs": [],
   "source": [
    "var('t')\n",
    "parametric_plot3d([t,t^2,t^3],(t,-10,10))"
   ]
  },
  {
   "cell_type": "code",
   "execution_count": null,
   "metadata": {},
   "outputs": [],
   "source": [
    "var('t,u')\n",
    "parametric_plot3d([t+u,t^2 + 2*t*u, t^3 + 3*t^2*u],(t,-10,10),(u,-10,10))"
   ]
  },
  {
   "cell_type": "code",
   "execution_count": null,
   "metadata": {},
   "outputs": [],
   "source": [
    "m = matrix(4,[1,0,0,0,1,1,1,1,0,0,0,-1,0,0,-1,0])\n",
    "R.<t,x,y,z> = PolynomialRing(QQ,order=TermOrder(m))\n",
    "R"
   ]
  },
  {
   "cell_type": "code",
   "execution_count": null,
   "metadata": {},
   "outputs": [],
   "source": [
    "I = R.ideal([t^2 + y^2 + z^2 + x^2, t^2 + 2*x^2 -x*y-z^2,t+y^3-z^3])"
   ]
  },
  {
   "cell_type": "code",
   "execution_count": null,
   "metadata": {},
   "outputs": [],
   "source": [
    "set_verbose(1)\n",
    "I.groebner_basis(algorithm='toy:buchberger')"
   ]
  },
  {
   "cell_type": "code",
   "execution_count": null,
   "metadata": {},
   "outputs": [],
   "source": [
    "R.<u,v,x,y,z> = PolynomialRing(QQ,order='lex')"
   ]
  },
  {
   "cell_type": "code",
   "execution_count": null,
   "metadata": {},
   "outputs": [],
   "source": [
    "I = R.ideal([x-u*v,y-v,z-u^2])"
   ]
  },
  {
   "cell_type": "code",
   "execution_count": null,
   "metadata": {},
   "outputs": [],
   "source": [
    "I.groebner_basis()"
   ]
  },
  {
   "cell_type": "code",
   "execution_count": null,
   "metadata": {},
   "outputs": [],
   "source": [
    "R.<u,v,x,y,z> = PolynomialRing(QQ,order='lex'); R"
   ]
  },
  {
   "cell_type": "code",
   "execution_count": null,
   "metadata": {},
   "outputs": [],
   "source": [
    "I = R.ideal([x-u*v, y - u*v^2, z- u^2]);I"
   ]
  },
  {
   "cell_type": "code",
   "execution_count": null,
   "metadata": {},
   "outputs": [],
   "source": [
    "I.groebner_basis()"
   ]
  },
  {
   "cell_type": "code",
   "execution_count": null,
   "metadata": {},
   "outputs": [],
   "source": [
    "I = R.ideal([x-u*v, y - v, z- u^2]);I"
   ]
  },
  {
   "cell_type": "code",
   "execution_count": null,
   "metadata": {},
   "outputs": [],
   "source": [
    "I.groebner_basis()"
   ]
  },
  {
   "cell_type": "code",
   "execution_count": null,
   "metadata": {},
   "outputs": [],
   "source": []
  }
 ],
 "metadata": {
  "kernelspec": {
   "display_name": "SageMath 9.4",
   "language": "sage",
   "name": "sagemath-9.4"
  },
  "language_info": {
   "codemirror_mode": {
    "name": "ipython",
    "version": 3
   },
   "file_extension": ".py",
   "mimetype": "text/x-python",
   "name": "python",
   "nbconvert_exporter": "python",
   "pygments_lexer": "ipython3",
   "version": "3.9.5"
  }
 },
 "nbformat": 4,
 "nbformat_minor": 2
}
