{
 "cells": [
  {
   "cell_type": "code",
   "execution_count": null,
   "metadata": {},
   "outputs": [],
   "source": [
    "from sage.rings.polynomial.toy_buchberger import *\n",
    "set_verbose(1)"
   ]
  },
  {
   "cell_type": "code",
   "execution_count": null,
   "metadata": {},
   "outputs": [],
   "source": [
    "R.<x,y> = PolynomialRing(GF(3),order='lex')\n",
    "R"
   ]
  },
  {
   "cell_type": "code",
   "execution_count": null,
   "metadata": {},
   "outputs": [],
   "source": [
    "#F = [R.random_element(3), R.random_element(3)]\n",
    "F = [-x^2*y - y^3 - x^2 + x*y + y, x^2*y - y^3 - x*y - y^2 + y]\n",
    "#G = [R.random_element(2), R.random_element(2), R.random_element(2)]\n",
    "G = [y^2 - x + y + 1, x^2 + x*y + y^2 + x, x*y - y^2 - y]"
   ]
  },
  {
   "cell_type": "code",
   "execution_count": null,
   "metadata": {},
   "outputs": [],
   "source": [
    "F"
   ]
  },
  {
   "cell_type": "code",
   "execution_count": null,
   "metadata": {},
   "outputs": [],
   "source": [
    "buchberger(ideal(F))"
   ]
  },
  {
   "cell_type": "code",
   "execution_count": null,
   "metadata": {},
   "outputs": [],
   "source": [
    "G"
   ]
  },
  {
   "cell_type": "code",
   "execution_count": null,
   "metadata": {},
   "outputs": [],
   "source": [
    "S.<t,x,y> = PolynomialRing(GF(3),order='lex')\n",
    "S"
   ]
  },
  {
   "cell_type": "code",
   "execution_count": null,
   "metadata": {},
   "outputs": [],
   "source": [
    "H = [S(t)*S(f) for f in F] + [S(1-t)*S(g) for g in G]\n",
    "H"
   ]
  },
  {
   "cell_type": "code",
   "execution_count": null,
   "metadata": {
    "scrolled": false
   },
   "outputs": [],
   "source": [
    "ideal(H).groebner_basis(algorithm='toy:buchberger')"
   ]
  },
  {
   "cell_type": "code",
   "execution_count": null,
   "metadata": {},
   "outputs": [],
   "source": [
    "ideal(F).groebner_basis()"
   ]
  },
  {
   "cell_type": "code",
   "execution_count": null,
   "metadata": {},
   "outputs": [],
   "source": [
    "P.<u,v> = PolynomialRing(QQ,order='lex')\n",
    "P"
   ]
  },
  {
   "cell_type": "code",
   "execution_count": null,
   "metadata": {},
   "outputs": [],
   "source": [
    "R.<x,y,z> = PolynomialRing(QQ,order='lex')\n",
    "R"
   ]
  },
  {
   "cell_type": "code",
   "execution_count": null,
   "metadata": {},
   "outputs": [],
   "source": [
    "S.<u,v,x,y,z> = PolynomialRing(QQ,order='lex')\n",
    "S"
   ]
  },
  {
   "cell_type": "code",
   "execution_count": null,
   "metadata": {},
   "outputs": [],
   "source": [
    "fx = P.random_element(2)\n",
    "fx = u^2 - v^2\n",
    "fy = P.random_element(2)\n",
    "fy = u^2 + v^2 + v\n",
    "fz = P.random_element(2)\n",
    "fz = -u*v + u + v\n",
    "fx,fy,fz"
   ]
  },
  {
   "cell_type": "code",
   "execution_count": null,
   "metadata": {},
   "outputs": [],
   "source": [
    "I = S.ideal([x - fx, y - fy, z - fz])"
   ]
  },
  {
   "cell_type": "code",
   "execution_count": null,
   "metadata": {},
   "outputs": [],
   "source": [
    "I.groebner_basis()"
   ]
  },
  {
   "cell_type": "code",
   "execution_count": null,
   "metadata": {},
   "outputs": [],
   "source": [
    "latex(_)"
   ]
  },
  {
   "cell_type": "code",
   "execution_count": null,
   "metadata": {},
   "outputs": [],
   "source": [
    "P.<t> = PolynomialRing(QQ,order='lex')\n",
    "print(P)\n",
    "R.<x,y> = PolynomialRing(QQ,order='lex')\n",
    "print(R)\n",
    "S.<t,x,y> = PolynomialRing(QQ,order='lex')\n",
    "print(S)\n",
    "T.<u,t,x,y> = PolynomialRing(QQ,order='lex')\n",
    "print(T)"
   ]
  },
  {
   "cell_type": "code",
   "execution_count": null,
   "metadata": {},
   "outputs": [],
   "source": [
    "fx = 1 - t^2\n",
    "qx = 1 + t^2\n",
    "fy = 2*t\n",
    "qy = 1 + t^2"
   ]
  },
  {
   "cell_type": "code",
   "execution_count": null,
   "metadata": {},
   "outputs": [],
   "source": [
    "I = S.ideal([qx*x-fx,qy*y-fy])"
   ]
  },
  {
   "cell_type": "code",
   "execution_count": null,
   "metadata": {},
   "outputs": [],
   "source": [
    "I.groebner_basis(algorithm='toy:buchberger')"
   ]
  },
  {
   "cell_type": "code",
   "execution_count": null,
   "metadata": {},
   "outputs": [],
   "source": [
    "I = T.ideal([qx*x-fx,qy*y-fy,1 - qx.lcm(qy)*u])"
   ]
  },
  {
   "cell_type": "code",
   "execution_count": null,
   "metadata": {},
   "outputs": [],
   "source": [
    "I.groebner_basis(algorithm='toy:buchberger')"
   ]
  },
  {
   "cell_type": "code",
   "execution_count": null,
   "metadata": {},
   "outputs": [],
   "source": [
    "I = T.ideal([qx*x-fx,qy*y-fy,1 - qx*qy*u])"
   ]
  },
  {
   "cell_type": "code",
   "execution_count": null,
   "metadata": {},
   "outputs": [],
   "source": [
    "I.groebner_basis(algorithm='toy:buchberger')"
   ]
  },
  {
   "cell_type": "code",
   "execution_count": null,
   "metadata": {},
   "outputs": [],
   "source": [
    "I.groebner_basis()"
   ]
  },
  {
   "cell_type": "code",
   "execution_count": null,
   "metadata": {},
   "outputs": [],
   "source": [
    "R.<y,x> = PolynomialRing(QQ,order='lex')\n",
    "R"
   ]
  },
  {
   "cell_type": "code",
   "execution_count": null,
   "metadata": {},
   "outputs": [],
   "source": [
    "I = R.ideal([x^2 + 2*y^2 - 3, x^2 + x*y + y^2 - 3])"
   ]
  },
  {
   "cell_type": "code",
   "execution_count": null,
   "metadata": {},
   "outputs": [],
   "source": [
    "I.groebner_basis()"
   ]
  },
  {
   "cell_type": "markdown",
   "metadata": {},
   "source": [
    "#### Ejercicio 4.5"
   ]
  },
  {
   "cell_type": "code",
   "execution_count": null,
   "metadata": {},
   "outputs": [],
   "source": [
    "R.<t,x,y,z> = PolynomialRing(QQ,order='lex')\n",
    "R"
   ]
  },
  {
   "cell_type": "code",
   "execution_count": null,
   "metadata": {},
   "outputs": [],
   "source": [
    "I = R.ideal([x-t, y-t^2, z-t^3])"
   ]
  },
  {
   "cell_type": "code",
   "execution_count": null,
   "metadata": {},
   "outputs": [],
   "source": [
    "I.groebner_basis()"
   ]
  },
  {
   "cell_type": "code",
   "execution_count": null,
   "metadata": {},
   "outputs": [],
   "source": [
    "R.<t,u,x,y,z> = PolynomialRing(QQ,order='lex')"
   ]
  },
  {
   "cell_type": "code",
   "execution_count": null,
   "metadata": {},
   "outputs": [],
   "source": [
    "I = R.ideal([x-t-u,y - t^2 - 2*t*u, z - t^3 - 3*t^2*u])"
   ]
  },
  {
   "cell_type": "code",
   "execution_count": null,
   "metadata": {},
   "outputs": [],
   "source": [
    "I.groebner_basis()"
   ]
  },
  {
   "cell_type": "code",
   "execution_count": null,
   "metadata": {},
   "outputs": [],
   "source": [
    "var('t')\n",
    "parametric_plot3d([t,t^2,t^3],(t,-5,5))"
   ]
  },
  {
   "cell_type": "code",
   "execution_count": null,
   "metadata": {},
   "outputs": [],
   "source": [
    "var('t,u')\n",
    "parametric_plot3d([t+u,t^2 + 2*t*u, t^3 + 3*t^2*u],(t,-5,5),(u,-5,5))"
   ]
  },
  {
   "cell_type": "markdown",
   "metadata": {},
   "source": [
    "#### Ejercicio 4.4"
   ]
  },
  {
   "cell_type": "code",
   "execution_count": null,
   "metadata": {},
   "outputs": [],
   "source": [
    "t = TermOrder('lex',1)+TermOrder('degrevlex',3)\n",
    "#t = TermOrder('lex')\n",
    "R.<t,x,y,z> = PolynomialRing(QQ,order=t)\n",
    "R"
   ]
  },
  {
   "cell_type": "code",
   "execution_count": null,
   "metadata": {},
   "outputs": [],
   "source": [
    "I = R.ideal([t^2 + y^2 + z^2 + x^2, t^2 + 2*x^2 - x*y - z^2, t + y^3 - z^3])"
   ]
  },
  {
   "cell_type": "code",
   "execution_count": null,
   "metadata": {},
   "outputs": [],
   "source": [
    "#set_verbose(1)\n",
    "G = I.groebner_basis(algorithm='toy:buchberger')\n",
    "#G = I.groebner_basis()"
   ]
  },
  {
   "cell_type": "code",
   "execution_count": null,
   "metadata": {},
   "outputs": [],
   "source": [
    "for ele in G:\n",
    "    print(ele)\n",
    "    print('---')"
   ]
  },
  {
   "cell_type": "code",
   "execution_count": null,
   "metadata": {},
   "outputs": [],
   "source": [
    "S.<x,y,z> = PolynomialRing(QQ,order='degrevlex')"
   ]
  },
  {
   "cell_type": "code",
   "execution_count": null,
   "metadata": {},
   "outputs": [],
   "source": [
    "#I1 = S.ideal(x^2 + y^6 - 2*y^3*z^3 + y^2 + z^6 + z^2,\n",
    "#             x*y + y^6 - 2*y^3*z^3 + 2*y^2 + z^6 + 3*z^2,\n",
    "#             x*z^6 + 3*x*z^2 - y^11 + 4*y^8*z^3 - 5*y^7 - 5*y^5*z^6 - 3*y^5*z^2 + 10*y^4*z^3 - 5*y^3 + 2*y^2*z^9 + 6*y^2*z^5 - 3*y*z^6 - 7*y*z^2,\n",
    "#             y^13 - 4*y^10*z^3 + 5*y^9 + 6*y^7*z^6 + 6*y^7*z^2 - 10*y^6*z^3 + 5*y^5 - 4*y^4*z^9 - 12*y^4*z^5 + 5*y^3*z^6 + 13*y^3*z^2 + y*z^12 + 6*y*z^8 + 9*y*z^4,\n",
    "#             y^12 - 4*y^9*z^3 + 5*y^8 + 6*y^6*z^6 + 6*y^6*z^2 - 10*y^5*z^3 + 5*y^4 - 4*y^3*z^9 - 12*y^3*z^5 + 5*y^2*z^6 + 13*y^2*z^2 + z^12 + 6*z^8 + 9*z^4)\n",
    "I1 = S.ideal(y^6 - 2*y^3*z^3 + z^6 + x^2 + y^2 + z^2,\n",
    "             x^2 - x*y - y^2 - 2*z^2)"
   ]
  },
  {
   "cell_type": "code",
   "execution_count": null,
   "metadata": {},
   "outputs": [],
   "source": [
    "G1 = I1.groebner_basis(algorithm='toy:buchberger')"
   ]
  },
  {
   "cell_type": "code",
   "execution_count": null,
   "metadata": {},
   "outputs": [],
   "source": [
    "for ele in G1:\n",
    "    print(ele)\n",
    "    print('---')"
   ]
  },
  {
   "cell_type": "code",
   "execution_count": null,
   "metadata": {},
   "outputs": [],
   "source": [
    "G2 = [x^2 - x*y - y^2 - 2*z^2,y^6 - 2*y^3*z^3 + z^6 + x^2 + y^2 + z^2]"
   ]
  },
  {
   "cell_type": "code",
   "execution_count": null,
   "metadata": {},
   "outputs": [],
   "source": [
    "G2[1].reduce([G2[0]])"
   ]
  },
  {
   "cell_type": "code",
   "execution_count": null,
   "metadata": {},
   "outputs": [],
   "source": [
    "G3 = I1.groebner_basis()\n",
    "G3"
   ]
  },
  {
   "cell_type": "code",
   "execution_count": null,
   "metadata": {},
   "outputs": [],
   "source": [
    "m = matrix(4,[1,0,0,0,1,1,1,1,0,0,0,-1,0,0,-1,0]); m"
   ]
  },
  {
   "cell_type": "code",
   "execution_count": null,
   "metadata": {},
   "outputs": [],
   "source": [
    "t = TermOrder(m)\n",
    "R.<t,x,y,z> = PolynomialRing(QQ,order=t); R"
   ]
  },
  {
   "cell_type": "code",
   "execution_count": null,
   "metadata": {},
   "outputs": [],
   "source": [
    "I = R.ideal([t^2 + y^2 + z^2 + x^2, t^2 + 2*x^2 - x*y - z^2, t + y^3 - z^3])"
   ]
  },
  {
   "cell_type": "code",
   "execution_count": null,
   "metadata": {},
   "outputs": [],
   "source": [
    "G = I.groebner_basis(algorithm='toy:buchberger'); G"
   ]
  },
  {
   "cell_type": "code",
   "execution_count": null,
   "metadata": {},
   "outputs": [],
   "source": [
    "G = [R(ele) for ele in G1] + [t + y^3 - z^3]"
   ]
  },
  {
   "cell_type": "code",
   "execution_count": null,
   "metadata": {},
   "outputs": [],
   "source": [
    "I == R.ideal(G)"
   ]
  },
  {
   "cell_type": "code",
   "execution_count": null,
   "metadata": {},
   "outputs": [],
   "source": [
    "R.ideal(G).groebner_basis()"
   ]
  },
  {
   "cell_type": "markdown",
   "metadata": {},
   "source": [
    "#### Ejercicio 4.5"
   ]
  },
  {
   "cell_type": "code",
   "execution_count": null,
   "metadata": {},
   "outputs": [],
   "source": [
    "R.<t,x,y,z> = PolynomialRing(QQ,order='lex'); R"
   ]
  },
  {
   "cell_type": "code",
   "execution_count": null,
   "metadata": {},
   "outputs": [],
   "source": [
    "I = R.ideal(x-t,y-t^2,z-t^3); I"
   ]
  },
  {
   "cell_type": "code",
   "execution_count": null,
   "metadata": {},
   "outputs": [],
   "source": [
    "G = I.groebner_basis(algorithm='toy:buchberger'); G"
   ]
  },
  {
   "cell_type": "code",
   "execution_count": null,
   "metadata": {},
   "outputs": [],
   "source": [
    "G[3:]"
   ]
  },
  {
   "cell_type": "markdown",
   "metadata": {},
   "source": [
    "#### Ejercicio 4.6"
   ]
  },
  {
   "cell_type": "code",
   "execution_count": null,
   "metadata": {},
   "outputs": [],
   "source": [
    "R.<u,v,x,y,z> = PolynomialRing(QQ,order='lex')"
   ]
  },
  {
   "cell_type": "code",
   "execution_count": null,
   "metadata": {},
   "outputs": [],
   "source": [
    "I = R.ideal([x-u*v, y - u*v^2, z- u^2]);I"
   ]
  },
  {
   "cell_type": "code",
   "execution_count": null,
   "metadata": {},
   "outputs": [],
   "source": [
    "I.groebner_basis(algorithm='toy:buchberger')"
   ]
  },
  {
   "cell_type": "code",
   "execution_count": null,
   "metadata": {},
   "outputs": [],
   "source": [
    "_[-1]"
   ]
  },
  {
   "cell_type": "code",
   "execution_count": null,
   "metadata": {},
   "outputs": [],
   "source": [
    "var('u,v')\n",
    "parametric_plot3d([u*v,u*v^2, u^2],(u,0,5),(v,0,5))"
   ]
  },
  {
   "cell_type": "markdown",
   "metadata": {},
   "source": [
    "#### Ejercicio 4.7"
   ]
  },
  {
   "cell_type": "code",
   "execution_count": null,
   "metadata": {},
   "outputs": [],
   "source": [
    "var('u,v')\n",
    "parametric_plot3d([u*v,v, u^2],(u,-1,1),(v,-1,1))"
   ]
  },
  {
   "cell_type": "code",
   "execution_count": null,
   "metadata": {},
   "outputs": [],
   "source": [
    "R.<u,v,x,y,z> = PolynomialRing(QQ,order='lex')"
   ]
  },
  {
   "cell_type": "code",
   "execution_count": null,
   "metadata": {},
   "outputs": [],
   "source": [
    "I = R.ideal([x-u*v, y - v, z- u^2]);I"
   ]
  },
  {
   "cell_type": "code",
   "execution_count": null,
   "metadata": {},
   "outputs": [],
   "source": [
    "I.groebner_basis(algorithm='toy:buchberger')"
   ]
  },
  {
   "cell_type": "code",
   "execution_count": null,
   "metadata": {},
   "outputs": [],
   "source": [
    "_[-1]"
   ]
  },
  {
   "cell_type": "markdown",
   "metadata": {},
   "source": [
    "#### Ejercicio 4.9"
   ]
  },
  {
   "cell_type": "code",
   "execution_count": null,
   "metadata": {},
   "outputs": [],
   "source": [
    "R.<u,t,x,y> = PolynomialRing(QQ,order=TermOrder('lex',2)+TermOrder('deglex',2)); R\n",
    "R.<t,x,y> = PolynomialRing(QQ,order=TermOrder('lex',1)+TermOrder('deglex',2)); R"
   ]
  },
  {
   "cell_type": "code",
   "execution_count": null,
   "metadata": {},
   "outputs": [],
   "source": [
    "#I = R.ideal([(1+t^3)*x-3*t, (1+t^3)*y-3*t^2, (1+t^3)^2*u-1]); I\n",
    "#I = R.ideal([(1+t^3)*x-3*t, (1+t^3)*y-3*t^2, (1+t^3)*u-1]); I\n",
    "I = R.ideal([(1+t^3)*x-3*t, (1+t^3)*y-3*t^2]); I"
   ]
  },
  {
   "cell_type": "code",
   "execution_count": null,
   "metadata": {},
   "outputs": [],
   "source": [
    "I.groebner_basis(algorithm='toy:buchberger')"
   ]
  },
  {
   "cell_type": "code",
   "execution_count": null,
   "metadata": {},
   "outputs": [],
   "source": [
    "_[-1]"
   ]
  },
  {
   "cell_type": "code",
   "execution_count": null,
   "metadata": {},
   "outputs": [],
   "source": [
    "var('t')\n",
    "parametric_plot([3*t/(1+t^3),3*t^2/(1+t^3)],(t,-0.3,10))"
   ]
  },
  {
   "cell_type": "code",
   "execution_count": null,
   "metadata": {},
   "outputs": [],
   "source": [
    "R.<t,x,y> = PolynomialRing(QQ,order=TermOrder('lex',1)+TermOrder('deglex',2)); R"
   ]
  },
  {
   "cell_type": "code",
   "execution_count": null,
   "metadata": {},
   "outputs": [],
   "source": [
    "I = R.ideal([(1+t^3)*x-3*t, (1+t^3)*y-3*t^2]); I"
   ]
  },
  {
   "cell_type": "code",
   "execution_count": null,
   "metadata": {},
   "outputs": [],
   "source": [
    "I.groebner_basis()"
   ]
  },
  {
   "cell_type": "code",
   "execution_count": null,
   "metadata": {},
   "outputs": [],
   "source": [
    "R.<t,u,v,x,y,z> = PolynomialRing(QQ,order=TermOrder('lex',1)+TermOrder('deglex',2)+TermOrder('degrevlex',3))\n",
    "R"
   ]
  },
  {
   "cell_type": "code",
   "execution_count": null,
   "metadata": {},
   "outputs": [],
   "source": [
    "I = R.ideal([v*x-u, v^2*y-u, z-u^2*v,v*v^2*t-1])"
   ]
  },
  {
   "cell_type": "code",
   "execution_count": null,
   "metadata": {},
   "outputs": [],
   "source": [
    "I.groebner_basis()"
   ]
  },
  {
   "cell_type": "code",
   "execution_count": null,
   "metadata": {},
   "outputs": [],
   "source": [
    "R.<u,v,x,y,z> = PolynomialRing(QQ,order=TermOrder('deglex',2)+TermOrder('degrevlex',3))\n",
    "R"
   ]
  },
  {
   "cell_type": "code",
   "execution_count": null,
   "metadata": {},
   "outputs": [],
   "source": [
    "I = R.ideal([v*x-u, v^2*y-u, z-u^2*v])"
   ]
  },
  {
   "cell_type": "code",
   "execution_count": null,
   "metadata": {},
   "outputs": [],
   "source": [
    "I.groebner_basis()"
   ]
  },
  {
   "cell_type": "code",
   "execution_count": null,
   "metadata": {},
   "outputs": [],
   "source": []
  }
 ],
 "metadata": {
  "kernelspec": {
   "display_name": "SageMath 9.7",
   "language": "sage",
   "name": "sagemath-9.7"
  },
  "language_info": {
   "codemirror_mode": {
    "name": "ipython",
    "version": 3
   },
   "file_extension": ".py",
   "mimetype": "text/x-python",
   "name": "python",
   "nbconvert_exporter": "python",
   "pygments_lexer": "ipython3",
   "version": "3.10.5"
  }
 },
 "nbformat": 4,
 "nbformat_minor": 2
}
