{
 "cells": [
  {
   "cell_type": "code",
   "execution_count": 1,
   "metadata": {},
   "outputs": [],
   "source": [
    "from sage.rings.polynomial.toy_buchberger import *\n",
    "set_verbose(1)"
   ]
  },
  {
   "cell_type": "markdown",
   "metadata": {},
   "source": [
    "### Función de Hilbert de un ideal en un anillo de polinomios."
   ]
  },
  {
   "cell_type": "code",
   "execution_count": 12,
   "metadata": {},
   "outputs": [],
   "source": [
    "R.<x,y,z,t,u,w> = PolynomialRing(GF(2^10),order='deglex')"
   ]
  },
  {
   "cell_type": "code",
   "execution_count": 13,
   "metadata": {},
   "outputs": [],
   "source": [
    "F = [R.random_element(15), R.random_element(18), R.random_element(14)]\n",
    "I = R.ideal(F)\n",
    "G = I.groebner_basis()"
   ]
  },
  {
   "cell_type": "code",
   "execution_count": 14,
   "metadata": {},
   "outputs": [
    {
     "data": {
      "text/plain": [
       "Polynomial Sequence with 92 Polynomials in 3 Variables"
      ]
     },
     "execution_count": 14,
     "metadata": {},
     "output_type": "execute_result"
    }
   ],
   "source": [
    "G"
   ]
  },
  {
   "cell_type": "code",
   "execution_count": 15,
   "metadata": {},
   "outputs": [
    {
     "data": {
      "text/plain": [
       "[(z10^9 + z10^6 + z10^2 + z10 + 1)*x^4*y^4*z^7 + (z10^9 + z10^8 + z10^7 + z10^6 + z10^4 + z10^3)*x^7*z^6 + (z10^9 + z10^6 + z10^5 + z10^3)*x^7*y^3*z^2 + (z10^9 + z10^7 + z10^6 + z10^5 + z10^2 + z10)*x^5*z^5 + (z10^9 + z10^8 + z10^7 + z10^6 + z10^3 + z10 + 1)*y^4*z^5,\n",
       " (z10^7 + z10^4 + 1)*x^4*y^6*z^8 + (z10^9 + z10^8 + z10^6 + z10^5 + z10^3 + z10 + 1)*x^11*z^4 + (z10^9 + z10^6 + z10^5 + z10^4 + z10)*x^3*y^2*z^10 + (z10^8 + z10^5 + z10^4 + z10^3 + 1)*x^2*y^11*z^2 + (z10^9 + z10^6 + z10^2 + z10 + 1)*x^11*y,\n",
       " (z10^6 + z10^5 + z10^3 + z10^2 + 1)*x*y^4*z^9 + (z10^4 + z10^2 + z10)*y^6*z^8 + (z10^9 + z10^6 + z10^3 + z10^2)*x^9*y^3*z + (z10^9 + z10^8 + z10^6 + z10^4 + z10^3)*y^13 + (z10^8 + z10^7 + z10^6 + z10^4 + z10^2 + z10 + 1)*y^11*z^2]"
      ]
     },
     "execution_count": 15,
     "metadata": {},
     "output_type": "execute_result"
    }
   ],
   "source": [
    "F"
   ]
  },
  {
   "cell_type": "code",
   "execution_count": 16,
   "metadata": {},
   "outputs": [],
   "source": [
    "s = 3"
   ]
  },
  {
   "cell_type": "code",
   "execution_count": 17,
   "metadata": {},
   "outputs": [
    {
     "data": {
      "text/plain": [
       "[x^5*z^23,\n",
       " x^25*y^2,\n",
       " x^6*y^20*z,\n",
       " x^5*y^21*z,\n",
       " x^5*y*z^21,\n",
       " x^4*y^23,\n",
       " y^25*z^2,\n",
       " y^24*z^3,\n",
       " y^8*z^19,\n",
       " y^7*z^20,\n",
       " y^6*z^21,\n",
       " x^23*y^3,\n",
       " x^19*y^7,\n",
       " x^18*y^8,\n",
       " x^17*y^9,\n",
       " x^16*y^10,\n",
       " x^13*y^13,\n",
       " x^12*y^14,\n",
       " x^11*y^15,\n",
       " x^9*y^17,\n",
       " x^7*y^19,\n",
       " x^7*y^18*z,\n",
       " x^4*y^20*z^2,\n",
       " x^4*y^19*z^3,\n",
       " x^4*y^3*z^19,\n",
       " x^4*y^2*z^20,\n",
       " x^3*y^22*z,\n",
       " x^3*y^21*z^2,\n",
       " x^3*y^20*z^3,\n",
       " x^3*y^3*z^20,\n",
       " x^3*y^2*z^21,\n",
       " x^2*y^24,\n",
       " x^2*y^23*z,\n",
       " x^2*y^22*z^2,\n",
       " x^2*y^21*z^3,\n",
       " x*y^25,\n",
       " x*y^24*z,\n",
       " x*y^23*z^2,\n",
       " x*y^22*z^3,\n",
       " y^26,\n",
       " y^9*z^17,\n",
       " x^21*z^4,\n",
       " x^20*y^5,\n",
       " x^20*z^5,\n",
       " x^11*z^14,\n",
       " x^10*y^13*z^2,\n",
       " x^7*y^16*z^2,\n",
       " x^6*y^17*z^2,\n",
       " x^6*y^16*z^3,\n",
       " x^6*z^19,\n",
       " x^5*y^18*z^2,\n",
       " x^2*y^19*z^4,\n",
       " y^18*z^7,\n",
       " x^22*y*z,\n",
       " x^20*y^2*z^2,\n",
       " x^15*z^9,\n",
       " x^13*z^11,\n",
       " x^12*y^11*z,\n",
       " x^12*y^10*z^2,\n",
       " x^12*z^12,\n",
       " x^11*y^12*z,\n",
       " x^9*z^15,\n",
       " x^7*y^12*z^5,\n",
       " x^7*z^17,\n",
       " x^6*y^13*z^5,\n",
       " x^2*y^17*z^5,\n",
       " x^17*z^6,\n",
       " x^16*z^7,\n",
       " x^12*y*z^10,\n",
       " x^11*y*z^11,\n",
       " x^10*y*z^12,\n",
       " x^8*y^14*z,\n",
       " x^8*y^12*z^3,\n",
       " x^8*y^10*z^5,\n",
       " x^7*y^13*z^3,\n",
       " x^4*y^15*z^4,\n",
       " y^10*z^13,\n",
       " x^17*y*z^4,\n",
       " x^15*y*z^6,\n",
       " x^6*y*z^14,\n",
       " x^2*y^13*z^6,\n",
       " x^9*y^8*z^3,\n",
       " x^7*y^7*z^6,\n",
       " y^12*z^8,\n",
       " x*y^10*z^8,\n",
       " x^2*y^8*z^8,\n",
       " x^13*y^3*z,\n",
       " x^11*y^2*z^4,\n",
       " x^3*y^6*z^8,\n",
       " x^7*y^2*z^7,\n",
       " x^4*y^4*z^7,\n",
       " x*y^4*z^9]"
      ]
     },
     "execution_count": 17,
     "metadata": {},
     "output_type": "execute_result"
    }
   ],
   "source": [
    "[ele.lm() for ele in G]"
   ]
  },
  {
   "cell_type": "code",
   "execution_count": 18,
   "metadata": {},
   "outputs": [
    {
     "data": {
      "text/plain": [
       "1"
      ]
     },
     "execution_count": 18,
     "metadata": {},
     "output_type": "execute_result"
    }
   ],
   "source": [
    "I.dimension()"
   ]
  },
  {
   "cell_type": "code",
   "execution_count": null,
   "metadata": {},
   "outputs": [],
   "source": []
  },
  {
   "cell_type": "code",
   "execution_count": null,
   "metadata": {},
   "outputs": [],
   "source": []
  },
  {
   "cell_type": "code",
   "execution_count": 19,
   "metadata": {},
   "outputs": [
    {
     "data": {
      "text/plain": [
       "Multivariate Polynomial Ring in x, y, z over Rational Field"
      ]
     },
     "execution_count": 19,
     "metadata": {},
     "output_type": "execute_result"
    }
   ],
   "source": [
    "R.<x,y,z> = PolynomialRing(QQ,order='deglex')\n",
    "R"
   ]
  },
  {
   "cell_type": "code",
   "execution_count": 20,
   "metadata": {},
   "outputs": [
    {
     "data": {
      "text/plain": [
       "Ideal (x^3 - x*y*z, -x*y*z^2 + y^4, x*y - z^2) of Multivariate Polynomial Ring in x, y, z over Rational Field"
      ]
     },
     "execution_count": 20,
     "metadata": {},
     "output_type": "execute_result"
    }
   ],
   "source": [
    "I = R.ideal([x^3-x*y*z, y^4 - x*y*z^2, x*y - z^2])\n",
    "I"
   ]
  },
  {
   "cell_type": "code",
   "execution_count": 21,
   "metadata": {},
   "outputs": [
    {
     "data": {
      "text/plain": [
       "[y^2*z^4 - z^6, y*z^5 - z^6, x*z^4 - y^2*z^3, y^3*z^2 - y^2*z^3, x^2*z^2 - y*z^3, y^4 - z^4, x^3 - z^3, x*y - z^2]"
      ]
     },
     "execution_count": 21,
     "metadata": {},
     "output_type": "execute_result"
    }
   ],
   "source": [
    "I.groebner_basis()"
   ]
  },
  {
   "cell_type": "code",
   "execution_count": 22,
   "metadata": {},
   "outputs": [
    {
     "data": {
      "text/plain": [
       "[y^2*z^4, y*z^5, x*z^4, y^3*z^2, x^2*z^2, y^4, x^3, x*y]"
      ]
     },
     "execution_count": 22,
     "metadata": {},
     "output_type": "execute_result"
    }
   ],
   "source": [
    "[ele.lm() for ele in _]"
   ]
  },
  {
   "cell_type": "markdown",
   "metadata": {},
   "source": [
    "## Ejercicios"
   ]
  },
  {
   "cell_type": "code",
   "execution_count": null,
   "metadata": {},
   "outputs": [],
   "source": [
    "R.<x,y,z> = PolynomialRing(QQ,order='deglex')"
   ]
  },
  {
   "cell_type": "code",
   "execution_count": null,
   "metadata": {},
   "outputs": [],
   "source": [
    "I = R.ideal([x^3-x*y*z, y^4-x*y*z^2, x*y-z^2])"
   ]
  },
  {
   "cell_type": "code",
   "execution_count": null,
   "metadata": {},
   "outputs": [],
   "source": [
    "I.groebner_basis()"
   ]
  },
  {
   "cell_type": "code",
   "execution_count": null,
   "metadata": {},
   "outputs": [],
   "source": [
    "buchberger(I)"
   ]
  },
  {
   "cell_type": "code",
   "execution_count": 24,
   "metadata": {},
   "outputs": [],
   "source": [
    "R.<x,y> = PolynomialRing(QQ,order='deglex')"
   ]
  },
  {
   "cell_type": "code",
   "execution_count": 25,
   "metadata": {},
   "outputs": [],
   "source": [
    "I = R.ideal(x^3*y^2+3*x^2*y^2+y^3+1)"
   ]
  },
  {
   "cell_type": "code",
   "execution_count": 26,
   "metadata": {},
   "outputs": [
    {
     "data": {
      "text/plain": [
       "[x^3*y^2 + 3*x^2*y^2 + y^3 + 1]"
      ]
     },
     "execution_count": 26,
     "metadata": {},
     "output_type": "execute_result"
    }
   ],
   "source": [
    "I.groebner_basis()"
   ]
  },
  {
   "cell_type": "code",
   "execution_count": 27,
   "metadata": {},
   "outputs": [],
   "source": [
    "R.<x1,x2,x3,x4> = PolynomialRing(QQ,order='deglex')\n",
    "S.<u,v,x1,x2,x3,x4> = PolynomialRing(QQ,order=TermOrder('lex',2)+TermOrder('deglex',4))"
   ]
  },
  {
   "cell_type": "code",
   "execution_count": 28,
   "metadata": {},
   "outputs": [],
   "source": [
    "I = S.ideal(x1-u-v,x2-u*v,x3-u*v-u,x4-u*v^2-u*v)"
   ]
  },
  {
   "cell_type": "code",
   "execution_count": 29,
   "metadata": {},
   "outputs": [
    {
     "data": {
      "text/plain": [
       "[u + x2 - x3, v - x1 - x2 + x3, x1*x2 + x2^2 + x2*x4 - x3*x4 + x2 - x4, x1*x3 - x2*x4 - x3^2 + x3*x4 - x4, x2*x3 + x2*x4 - x3*x4]"
      ]
     },
     "execution_count": 29,
     "metadata": {},
     "output_type": "execute_result"
    }
   ],
   "source": [
    "I.groebner_basis()"
   ]
  },
  {
   "cell_type": "code",
   "execution_count": 30,
   "metadata": {},
   "outputs": [],
   "source": [
    "J = R.ideal(x1*x2 + x2^2 + x2*x4 - x3*x4 + x2 - x4, x1*x3 - x2*x4 - x3^2 + x3*x4 - x4, x2*x3 + x2*x4 - x3*x4)"
   ]
  },
  {
   "cell_type": "code",
   "execution_count": 31,
   "metadata": {},
   "outputs": [
    {
     "data": {
      "text/plain": [
       "[x1*x2 + x2^2 + x2*x4 - x3*x4 + x2 - x4, x1*x3 - x2*x4 - x3^2 + x3*x4 - x4, x2*x3 + x2*x4 - x3*x4]"
      ]
     },
     "execution_count": 31,
     "metadata": {},
     "output_type": "execute_result"
    }
   ],
   "source": [
    "J.groebner_basis()"
   ]
  },
  {
   "cell_type": "code",
   "execution_count": 32,
   "metadata": {},
   "outputs": [],
   "source": [
    "P0 = J"
   ]
  },
  {
   "cell_type": "code",
   "execution_count": 44,
   "metadata": {},
   "outputs": [
    {
     "data": {
      "text/plain": [
       "[x2, x3, x4]"
      ]
     },
     "execution_count": 44,
     "metadata": {},
     "output_type": "execute_result"
    }
   ],
   "source": [
    "P1 = J + R.ideal(x2,x3)\n",
    "P1.groebner_basis()"
   ]
  },
  {
   "cell_type": "code",
   "execution_count": 45,
   "metadata": {},
   "outputs": [
    {
     "data": {
      "text/plain": [
       "[x1, x2, x3, x4]"
      ]
     },
     "execution_count": 45,
     "metadata": {},
     "output_type": "execute_result"
    }
   ],
   "source": [
    "P2 = P1 + R.ideal(x1)\n",
    "P2.groebner_basis()"
   ]
  },
  {
   "cell_type": "code",
   "execution_count": null,
   "metadata": {},
   "outputs": [],
   "source": []
  }
 ],
 "metadata": {
  "kernelspec": {
   "display_name": "SageMath 9.4",
   "language": "sage",
   "name": "sagemath-9.4"
  },
  "language_info": {
   "codemirror_mode": {
    "name": "ipython",
    "version": 3
   },
   "file_extension": ".py",
   "mimetype": "text/x-python",
   "name": "python",
   "nbconvert_exporter": "python",
   "pygments_lexer": "ipython3",
   "version": "3.9.5"
  }
 },
 "nbformat": 4,
 "nbformat_minor": 2
}
