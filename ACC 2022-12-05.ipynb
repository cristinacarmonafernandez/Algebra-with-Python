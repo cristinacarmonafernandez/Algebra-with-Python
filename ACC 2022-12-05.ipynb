{
 "cells": [
  {
   "cell_type": "code",
   "execution_count": 27,
   "metadata": {},
   "outputs": [],
   "source": [
    "from sage.rings.polynomial.toy_buchberger import *\n",
    "set_verbose(0)"
   ]
  },
  {
   "cell_type": "code",
   "execution_count": 2,
   "metadata": {},
   "outputs": [
    {
     "data": {
      "text/plain": [
       "'\\nEsto es un comentario de varias líneas\\nSegunda línea\\n'"
      ]
     },
     "execution_count": 2,
     "metadata": {},
     "output_type": "execute_result"
    }
   ],
   "source": [
    "'''\n",
    "Esto es un comentario de varias líneas\n",
    "Segunda línea\n",
    "'''\n",
    "#F.<xi> = GF(17) #Creo el cuerpo de los coeficientes"
   ]
  },
  {
   "cell_type": "code",
   "execution_count": 3,
   "metadata": {},
   "outputs": [
    {
     "name": "stdout",
     "output_type": "stream",
     "text": [
      "Multivariate Polynomial Ring in x1, x2, x3 over Finite Field of size 17\n"
     ]
    }
   ],
   "source": [
    "R.<x1,x2,x3> = PolynomialRing(GF(17),order='deglex')\n",
    "print(R)"
   ]
  },
  {
   "cell_type": "code",
   "execution_count": 4,
   "metadata": {},
   "outputs": [],
   "source": [
    "F = [R(x1^4*x2^2 - x3), R(x1^3*x2^3-1), R(x1^2*x2^4 - 2*x3)]"
   ]
  },
  {
   "cell_type": "code",
   "execution_count": 73,
   "metadata": {},
   "outputs": [],
   "source": [
    "G = buchberger(R.ideal(F))"
   ]
  },
  {
   "cell_type": "code",
   "execution_count": 74,
   "metadata": {},
   "outputs": [
    {
     "data": {
      "text/plain": [
       "[-x3^2 - 8, x1^3*x2^3 - 1, -8*x1*x2^5 - 2*x3^2, -2*x1*x3 + x2, 8*x2*x3 - 8*x1, x1^2 + 8*x2^2, x1^4*x2^2 - x3, 8*x2^6 + 4*x3^3, x1^2*x2^4 - 2*x3]"
      ]
     },
     "execution_count": 74,
     "metadata": {},
     "output_type": "execute_result"
    }
   ],
   "source": [
    "G"
   ]
  },
  {
   "cell_type": "code",
   "execution_count": 75,
   "metadata": {},
   "outputs": [
    {
     "name": "stdout",
     "output_type": "stream",
     "text": [
      "x3^2\n",
      "x1^3*x2^3\n",
      "x1*x2^5\n",
      "x1*x3\n",
      "x2*x3\n",
      "x1^2\n",
      "x1^4*x2^2\n",
      "x2^6\n",
      "x1^2*x2^4\n"
     ]
    }
   ],
   "source": [
    "for ele in G:\n",
    "    print(ele.lm())"
   ]
  },
  {
   "cell_type": "code",
   "execution_count": 78,
   "metadata": {},
   "outputs": [
    {
     "name": "stdout",
     "output_type": "stream",
     "text": [
      "x3^2\n",
      "x1*x2^5\n",
      "x1*x3\n",
      "x2*x3\n",
      "x1^2\n",
      "x2^6\n"
     ]
    }
   ],
   "source": [
    "G.remove(G[6])\n",
    "for ele in G:\n",
    "    print(ele.lm())"
   ]
  },
  {
   "cell_type": "code",
   "execution_count": 79,
   "metadata": {},
   "outputs": [
    {
     "data": {
      "text/plain": [
       "[-x3^2 - 8, -8*x1*x2^5 - 2*x3^2, -2*x1*x3 + x2, 8*x2*x3 - 8*x1, x1^2 + 8*x2^2, 8*x2^6 + 4*x3^3]"
      ]
     },
     "execution_count": 79,
     "metadata": {},
     "output_type": "execute_result"
    }
   ],
   "source": [
    "G"
   ]
  },
  {
   "cell_type": "code",
   "execution_count": 80,
   "metadata": {},
   "outputs": [
    {
     "data": {
      "text/plain": [
       "[x3^2 + 8, -8*x1*x2^5 - 2*x3^2, -2*x1*x3 + x2, 8*x2*x3 - 8*x1, x1^2 + 8*x2^2, 8*x2^6 + 4*x3^3]"
      ]
     },
     "execution_count": 80,
     "metadata": {},
     "output_type": "execute_result"
    }
   ],
   "source": [
    "G[0] = G[0]*-1\n",
    "G"
   ]
  },
  {
   "cell_type": "code",
   "execution_count": 81,
   "metadata": {},
   "outputs": [
    {
     "data": {
      "text/plain": [
       "[x3^2 + 8, x1*x2^5 - 4*x3^2, -2*x1*x3 + x2, 8*x2*x3 - 8*x1, x1^2 + 8*x2^2, 8*x2^6 + 4*x3^3]"
      ]
     },
     "execution_count": 81,
     "metadata": {},
     "output_type": "execute_result"
    }
   ],
   "source": [
    "G[1] = G[1]*GF(17)(-8)^-1\n",
    "G"
   ]
  },
  {
   "cell_type": "code",
   "execution_count": 82,
   "metadata": {},
   "outputs": [
    {
     "data": {
      "text/plain": [
       "[x3^2 + 8, x1*x2^5 - 4*x3^2, x1*x3 + 8*x2, 8*x2*x3 - 8*x1, x1^2 + 8*x2^2, 8*x2^6 + 4*x3^3]"
      ]
     },
     "execution_count": 82,
     "metadata": {},
     "output_type": "execute_result"
    }
   ],
   "source": [
    "G[2] = G[2]*GF(17)(-2)^-1\n",
    "G"
   ]
  },
  {
   "cell_type": "code",
   "execution_count": 83,
   "metadata": {},
   "outputs": [
    {
     "data": {
      "text/plain": [
       "[x3^2 + 8, x1*x2^5 - 4*x3^2, x1*x3 + 8*x2, x2*x3 - x1, x1^2 + 8*x2^2, 8*x2^6 + 4*x3^3]"
      ]
     },
     "execution_count": 83,
     "metadata": {},
     "output_type": "execute_result"
    }
   ],
   "source": [
    "G[3] = G[3]*GF(17)(8)^-1\n",
    "G"
   ]
  },
  {
   "cell_type": "code",
   "execution_count": 84,
   "metadata": {},
   "outputs": [
    {
     "data": {
      "text/plain": [
       "[x3^2 + 8, x1*x2^5 - 4*x3^2, x1*x3 + 8*x2, x2*x3 - x1, x1^2 + 8*x2^2, 8*x2^6 + 4*x3^3]"
      ]
     },
     "execution_count": 84,
     "metadata": {},
     "output_type": "execute_result"
    }
   ],
   "source": [
    "G[4] = G[4]*GF(17)(1)^-1\n",
    "G"
   ]
  },
  {
   "cell_type": "code",
   "execution_count": 85,
   "metadata": {},
   "outputs": [
    {
     "data": {
      "text/plain": [
       "[x3^2 + 8, x1*x2^5 - 4*x3^2, x1*x3 + 8*x2, x2*x3 - x1, x1^2 + 8*x2^2, x2^6 - 8*x3^3]"
      ]
     },
     "execution_count": 85,
     "metadata": {},
     "output_type": "execute_result"
    }
   ],
   "source": [
    "G[5] = G[5]*GF(17)(8)^-1\n",
    "G"
   ]
  },
  {
   "cell_type": "code",
   "execution_count": 86,
   "metadata": {},
   "outputs": [
    {
     "name": "stdout",
     "output_type": "stream",
     "text": [
      "x3^2 + 8\n",
      "x1*x2^5 - 4*x3^2\n",
      "x1*x3 + 8*x2\n",
      "x2*x3 - x1\n",
      "x1^2 + 8*x2^2\n",
      "x2^6 - 8*x3^3\n"
     ]
    }
   ],
   "source": [
    "for ele in G:\n",
    "    print(ele)"
   ]
  },
  {
   "cell_type": "code",
   "execution_count": 87,
   "metadata": {},
   "outputs": [],
   "source": [
    "Gorig = [ele for ele in G]"
   ]
  },
  {
   "cell_type": "code",
   "execution_count": 119,
   "metadata": {},
   "outputs": [],
   "source": [
    "G = [ele for ele in Gorig]"
   ]
  },
  {
   "cell_type": "code",
   "execution_count": 120,
   "metadata": {},
   "outputs": [
    {
     "name": "stdout",
     "output_type": "stream",
     "text": [
      "[x3^2 + 8, x1*x2^5 - 4*x3^2, x1*x3 + 8*x2, x2*x3 - x1, x1^2 + 8*x2^2, x2^6 - 8*x3^3]\n",
      "[x3^2 + 8, x1*x2^5 - 4*x3^2, x1*x3 + 8*x2, x2*x3 - x1, x1^2 + 8*x2^2, x2^6 - 8*x3^3]\n"
     ]
    }
   ],
   "source": [
    "Gaux = [ele for ele in G]\n",
    "#Gaux.remove(G[0])\n",
    "#G[0].reduce(R.ideal(Gaux))\n",
    "print(G)\n",
    "print(Gaux)"
   ]
  },
  {
   "cell_type": "code",
   "execution_count": 121,
   "metadata": {},
   "outputs": [
    {
     "name": "stdout",
     "output_type": "stream",
     "text": [
      "x3^2 + 8\n",
      "[x3^2 + 8, x1*x2^5 - 4*x3^2, x1*x3 + 8*x2, x2*x3 - x1, x1^2 + 8*x2^2, x2^6 - 8*x3^3]\n"
     ]
    }
   ],
   "source": [
    "Gaux.remove(Gaux[0])\n",
    "auxele = G[0].reduce(Gaux)\n",
    "print(auxele)\n",
    "G[0] = auxele\n",
    "print(G)"
   ]
  },
  {
   "cell_type": "code",
   "execution_count": 122,
   "metadata": {},
   "outputs": [
    {
     "name": "stdout",
     "output_type": "stream",
     "text": [
      "x1*x2^5 - 2\n",
      "[x3^2 + 8, x1*x2^5 - 2, x1*x3 + 8*x2, x2*x3 - x1, x1^2 + 8*x2^2, x2^6 - 8*x3^3]\n"
     ]
    }
   ],
   "source": [
    "Gaux = [ele for ele in G]\n",
    "Gaux.remove(Gaux[1])\n",
    "auxele = G[1].reduce(Gaux)\n",
    "print(auxele)\n",
    "G[1] = auxele\n",
    "print(G)"
   ]
  },
  {
   "cell_type": "code",
   "execution_count": 123,
   "metadata": {},
   "outputs": [
    {
     "name": "stdout",
     "output_type": "stream",
     "text": [
      "x1*x3 + 8*x2\n",
      "[x3^2 + 8, x1*x2^5 - 2, x1*x3 + 8*x2, x2*x3 - x1, x1^2 + 8*x2^2, x2^6 - 8*x3^3]\n"
     ]
    }
   ],
   "source": [
    "Gaux = [ele for ele in G]\n",
    "Gaux.remove(Gaux[2])\n",
    "auxele = G[2].reduce(Gaux)\n",
    "print(auxele)\n",
    "G[2] = auxele\n",
    "print(G)"
   ]
  },
  {
   "cell_type": "code",
   "execution_count": 125,
   "metadata": {},
   "outputs": [
    {
     "name": "stdout",
     "output_type": "stream",
     "text": [
      "x2^6 - 4*x3\n",
      "[x3^2 + 8, x1*x2^5 - 2, x1*x3 + 8*x2, x2*x3 - x1, x1^2 + 8*x2^2, x2^6 - 4*x3]\n"
     ]
    }
   ],
   "source": [
    "Gaux = [ele for ele in G]\n",
    "Gaux.remove(Gaux[5])\n",
    "auxele = G[5].reduce(Gaux)\n",
    "print(auxele)\n",
    "G[5] = auxele\n",
    "print(G)"
   ]
  },
  {
   "cell_type": "code",
   "execution_count": 126,
   "metadata": {},
   "outputs": [
    {
     "data": {
      "text/plain": [
       "[x1*x2^5 - 2, x2^6 - 4*x3, x1^2 + 8*x2^2, x1*x3 + 8*x2, x2*x3 - x1, x3^2 + 8]"
      ]
     },
     "execution_count": 126,
     "metadata": {},
     "output_type": "execute_result"
    }
   ],
   "source": [
    "R.ideal(F).groebner_basis()"
   ]
  },
  {
   "cell_type": "code",
   "execution_count": 127,
   "metadata": {},
   "outputs": [],
   "source": [
    "I = R.ideal(F)"
   ]
  },
  {
   "cell_type": "code",
   "execution_count": 128,
   "metadata": {},
   "outputs": [
    {
     "data": {
      "text/plain": [
       "0"
      ]
     },
     "execution_count": 128,
     "metadata": {},
     "output_type": "execute_result"
    }
   ],
   "source": [
    "I.dimension() #Esto no se puede usar"
   ]
  },
  {
   "cell_type": "code",
   "execution_count": 139,
   "metadata": {},
   "outputs": [
    {
     "data": {
      "text/plain": [
       "Multivariate Polynomial Ring in u, v, w, t over Finite Field of size 2"
      ]
     },
     "execution_count": 139,
     "metadata": {},
     "output_type": "execute_result"
    }
   ],
   "source": [
    "mat = matrix(4,[1,2,3,4,0,0,1,2,1,0,1,0,0,0,0,-2])\n",
    "mat = matrix([[1,2,3,4],[0,0,1,2],[1,0,1,0],[0,0,0,-2]])\n",
    "TO = TermOrder(mat)\n",
    "TO = TermOrder('lex',2)+TermOrder('deglex',2)\n",
    "R.<u,v,w,t> = PolynomialRing(GF(2),order=TO)\n",
    "R"
   ]
  },
  {
   "cell_type": "code",
   "execution_count": 140,
   "metadata": {},
   "outputs": [
    {
     "data": {
      "text/plain": [
       "Block term order with blocks:\n",
       "(Lexicographic term order of length 2,\n",
       " Degree lexicographic term order of length 2)"
      ]
     },
     "execution_count": 140,
     "metadata": {},
     "output_type": "execute_result"
    }
   ],
   "source": [
    "R.term_order()"
   ]
  },
  {
   "cell_type": "code",
   "execution_count": 141,
   "metadata": {},
   "outputs": [
    {
     "data": {
      "text/plain": [
       "False"
      ]
     },
     "execution_count": 141,
     "metadata": {},
     "output_type": "execute_result"
    }
   ],
   "source": [
    "R(v*w) > R(u*t)"
   ]
  },
  {
   "cell_type": "code",
   "execution_count": null,
   "metadata": {},
   "outputs": [],
   "source": []
  }
 ],
 "metadata": {
  "kernelspec": {
   "display_name": "SageMath 9.7",
   "language": "sage",
   "name": "sagemath-9.7"
  },
  "language_info": {
   "codemirror_mode": {
    "name": "ipython",
    "version": 3
   },
   "file_extension": ".py",
   "mimetype": "text/x-python",
   "name": "python",
   "nbconvert_exporter": "python",
   "pygments_lexer": "ipython3",
   "version": "3.10.5"
  }
 },
 "nbformat": 4,
 "nbformat_minor": 4
}
