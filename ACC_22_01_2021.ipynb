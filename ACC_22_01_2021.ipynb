{
 "cells": [
  {
   "cell_type": "code",
   "execution_count": 1,
   "metadata": {
    "collapsed": false
   },
   "outputs": [
   ],
   "source": [
    "#EJERCICIO 3"
   ]
  },
  {
   "cell_type": "code",
   "execution_count": 1,
   "metadata": {
    "collapsed": false
   },
   "outputs": [
   ],
   "source": [
    "R.<t,x,y>=PolynomialRing(GF(3), order='lex')"
   ]
  },
  {
   "cell_type": "code",
   "execution_count": 2,
   "metadata": {
    "collapsed": false
   },
   "outputs": [
   ],
   "source": [
    "f1=R(y^4)\n",
    "f2=R(x^3+x^2*y-x^2-x*y+x+y)\n",
    "f3=R(x*y^2+y^2)\n",
    "f4=R(x+1)"
   ]
  },
  {
   "cell_type": "code",
   "execution_count": 3,
   "metadata": {
    "collapsed": false
   },
   "outputs": [
   ],
   "source": [
    "I=R.ideal([f1,f2,f3,1-t*f4])"
   ]
  },
  {
   "cell_type": "code",
   "execution_count": 4,
   "metadata": {
    "collapsed": false
   },
   "outputs": [
    {
     "data": {
      "text/plain": [
       "[t - y - 1, x + y, y^2]"
      ]
     },
     "execution_count": 4,
     "metadata": {
     },
     "output_type": "execute_result"
    }
   ],
   "source": [
    "G=I.groebner_basis()\n",
    "G"
   ]
  },
  {
   "cell_type": "code",
   "execution_count": 0,
   "metadata": {
    "collapsed": false
   },
   "outputs": [
   ],
   "source": [
    "#CALCULAMOS PARA N=1"
   ]
  },
  {
   "cell_type": "code",
   "execution_count": 8,
   "metadata": {
    "collapsed": false
   },
   "outputs": [
   ],
   "source": [
    "f1=R(y^4)\n",
    "f2=R(x^3+x^2*y-x^2-x*y+x+y)\n",
    "f3=R(x*y^2+y^2)\n",
    "f4=R(x+1)"
   ]
  },
  {
   "cell_type": "code",
   "execution_count": 9,
   "metadata": {
    "collapsed": false
   },
   "outputs": [
   ],
   "source": [
    "I=R.ideal([t*f1,t*f2,t*f3,(1-t)*f4])"
   ]
  },
  {
   "cell_type": "code",
   "execution_count": 10,
   "metadata": {
    "collapsed": false
   },
   "outputs": [
    {
     "data": {
      "text/plain": [
       "[t*x + t - x - 1, t*y^4, x^3 + x^2*y - x^2 - x*y + x + y, x*y^2 + y^2]"
      ]
     },
     "execution_count": 10,
     "metadata": {
     },
     "output_type": "execute_result"
    }
   ],
   "source": [
    "G=I.groebner_basis()\n",
    "G"
   ]
  },
  {
   "cell_type": "code",
   "execution_count": 11,
   "metadata": {
    "collapsed": false
   },
   "outputs": [
    {
     "name": "stdout",
     "output_type": "stream",
     "text": [
      "t - 1\n",
      "t*y^4/(x + 1)\n",
      "x^2 + x*y + x + y\n",
      "y^2\n"
     ]
    }
   ],
   "source": [
    "i=0\n",
    "for ele in G:\n",
    "    print(G[i]/f4)\n",
    "    i +=1"
   ]
  },
  {
   "cell_type": "code",
   "execution_count": 12,
   "metadata": {
    "collapsed": false
   },
   "outputs": [
   ],
   "source": [
    "f1=R(y^4)\n",
    "f2=R(x^3+x^2*y-x^2-x*y+x+y)\n",
    "f3=R(x*y^2+y^2)\n",
    "f4=R(y^2)"
   ]
  },
  {
   "cell_type": "code",
   "execution_count": 13,
   "metadata": {
    "collapsed": false
   },
   "outputs": [
   ],
   "source": [
    "I=R.ideal([t*f1,t*f2,t*f3,(1-t)*f4])"
   ]
  },
  {
   "cell_type": "code",
   "execution_count": 14,
   "metadata": {
    "collapsed": false
   },
   "outputs": [
    {
     "data": {
      "text/plain": [
       "[t*x^3 + t*x^2*y - t*x^2 - t*x*y + t*x + t*y, t*y^2 - y^2, x*y^2 + y^2, y^4]"
      ]
     },
     "execution_count": 14,
     "metadata": {
     },
     "output_type": "execute_result"
    }
   ],
   "source": [
    "G=I.groebner_basis()\n",
    "G"
   ]
  },
  {
   "cell_type": "code",
   "execution_count": 15,
   "metadata": {
    "collapsed": false
   },
   "outputs": [
    {
     "name": "stdout",
     "output_type": "stream",
     "text": [
      "(t*x^3 + t*x^2*y - t*x^2 - t*x*y + t*x + t*y)/y^2\n",
      "t - 1\n",
      "x + 1\n",
      "y^2\n"
     ]
    }
   ],
   "source": [
    "i=0\n",
    "for ele in G:\n",
    "    print(G[i]/f4)\n",
    "    i +=1"
   ]
  },
  {
   "cell_type": "code",
   "execution_count": 0,
   "metadata": {
    "collapsed": false
   },
   "outputs": [
   ],
   "source": [
    "#calculamos la intersección de los cocientes "
   ]
  },
  {
   "cell_type": "code",
   "execution_count": 19,
   "metadata": {
    "collapsed": false
   },
   "outputs": [
   ],
   "source": [
    "f2=R(y^2)\n",
    "f1=R(x^2+x*y+x+y)\n",
    "f3=R(x+1)\n",
    "f4=R(y^2)"
   ]
  },
  {
   "cell_type": "code",
   "execution_count": 20,
   "metadata": {
    "collapsed": false
   },
   "outputs": [
   ],
   "source": [
    "I=R.ideal([t*f1,t*f2,(1-t)*f3,(1-t)*f4])"
   ]
  },
  {
   "cell_type": "code",
   "execution_count": 21,
   "metadata": {
    "collapsed": false
   },
   "outputs": [
    {
     "data": {
      "text/plain": [
       "[t*x + t - x - 1, x^2 + x*y + x + y, y^2]"
      ]
     },
     "execution_count": 21,
     "metadata": {
     },
     "output_type": "execute_result"
    }
   ],
   "source": [
    "G=I.groebner_basis()\n",
    "G"
   ]
  },
  {
   "cell_type": "code",
   "execution_count": 0,
   "metadata": {
    "collapsed": false
   },
   "outputs": [
   ],
   "source": [
    "#Calculamos para n=2"
   ]
  },
  {
   "cell_type": "code",
   "execution_count": 22,
   "metadata": {
    "collapsed": false
   },
   "outputs": [
   ],
   "source": [
    "f1=R(y^4)\n",
    "f2=R(x^3+x^2*y-x^2-x*y+x+y)\n",
    "f3=R(x*y^2+y^2)\n",
    "f4=R((x+1)^2)"
   ]
  },
  {
   "cell_type": "code",
   "execution_count": 23,
   "metadata": {
    "collapsed": false
   },
   "outputs": [
   ],
   "source": [
    "I=R.ideal([t*f1,t*f2,t*f3,(1-t)*f4])"
   ]
  },
  {
   "cell_type": "code",
   "execution_count": 26,
   "metadata": {
    "collapsed": false
   },
   "outputs": [
    {
     "data": {
      "text/plain": [
       "[t*x^2 - t*x + t - x^2 + x - 1, t*x*y^2 + t*y^2, t*y^4, x^3 + x^2*y - x^2 - x*y + x + y, x^2*y^2 - x*y^2 + y^2]"
      ]
     },
     "execution_count": 26,
     "metadata": {
     },
     "output_type": "execute_result"
    }
   ],
   "source": [
    "G=I.groebner_basis()\n",
    "G"
   ]
  },
  {
   "cell_type": "code",
   "execution_count": 27,
   "metadata": {
    "collapsed": false
   },
   "outputs": [
    {
     "name": "stdout",
     "output_type": "stream",
     "text": [
      "t - 1\n",
      "t*y^2/(x + 1)\n",
      "t*y^4/(x^2 - x + 1)\n",
      "x + y\n",
      "y^2\n"
     ]
    }
   ],
   "source": [
    "i=0\n",
    "for ele in G:\n",
    "    print(G[i]/f4)\n",
    "    i +=1"
   ]
  },
  {
   "cell_type": "code",
   "execution_count": 28,
   "metadata": {
    "collapsed": false
   },
   "outputs": [
   ],
   "source": [
    "f1=R(y^4)\n",
    "f2=R(x^3+x^2*y-x^2-x*y+x+y)\n",
    "f3=R(x*y^2+y^2)\n",
    "f4=R(x*y^2+y^2)"
   ]
  },
  {
   "cell_type": "code",
   "execution_count": 29,
   "metadata": {
    "collapsed": false
   },
   "outputs": [
   ],
   "source": [
    "I=R.ideal([t*f1,t*f2,t*f3,(1-t)*f4])"
   ]
  },
  {
   "cell_type": "code",
   "execution_count": 30,
   "metadata": {
    "collapsed": false
   },
   "outputs": [
    {
     "data": {
      "text/plain": [
       "[t*x^3 + t*x^2*y - t*x^2 - t*x*y + t*x + t*y, t*y^4, x*y^2 + y^2]"
      ]
     },
     "execution_count": 30,
     "metadata": {
     },
     "output_type": "execute_result"
    }
   ],
   "source": [
    "G=I.groebner_basis()\n",
    "G"
   ]
  },
  {
   "cell_type": "code",
   "execution_count": 5,
   "metadata": {
    "collapsed": false
   },
   "outputs": [
   ],
   "source": [
    "#apartado B"
   ]
  },
  {
   "cell_type": "code",
   "execution_count": 31,
   "metadata": {
    "collapsed": false
   },
   "outputs": [
   ],
   "source": [
    "f1=R(x^4)\n",
    "f2=R(y^4-y^3+y^2)\n",
    "f3=R(x^2*y+x^2)\n",
    "f4=R(x*y^2-y^3-x*y+y^2+x-y)\n",
    "f5=R(y+1)"
   ]
  },
  {
   "cell_type": "code",
   "execution_count": 32,
   "metadata": {
    "collapsed": false
   },
   "outputs": [
   ],
   "source": [
    "I=R.ideal([f1,f2,f3,f4,1-t*f5])"
   ]
  },
  {
   "cell_type": "code",
   "execution_count": 33,
   "metadata": {
    "collapsed": false
   },
   "outputs": [
    {
     "data": {
      "text/plain": [
       "[t + y - 1, x - y, y^2]"
      ]
     },
     "execution_count": 33,
     "metadata": {
     },
     "output_type": "execute_result"
    }
   ],
   "source": [
    "G=I.groebner_basis()\n",
    "G"
   ]
  },
  {
   "cell_type": "code",
   "execution_count": 34,
   "metadata": {
    "collapsed": false
   },
   "outputs": [
   ],
   "source": [
    "f1=R(x^4)\n",
    "f2=R(y^4-y^3+y^2)\n",
    "f3=R(x^2*y+x^2)\n",
    "f4=R(x*y^2-y^3-x*y+y^2+x-y)\n",
    "f5=R(x^2)"
   ]
  },
  {
   "cell_type": "code",
   "execution_count": 35,
   "metadata": {
    "collapsed": false
   },
   "outputs": [
   ],
   "source": [
    "I=R.ideal([f1,f2,f3,f4,1-t*f5])"
   ]
  },
  {
   "cell_type": "code",
   "execution_count": 36,
   "metadata": {
    "collapsed": false
   },
   "outputs": [
    {
     "data": {
      "text/plain": [
       "[1]"
      ]
     },
     "execution_count": 36,
     "metadata": {
     },
     "output_type": "execute_result"
    }
   ],
   "source": [
    "G=I.groebner_basis()\n",
    "G"
   ]
  },
  {
   "cell_type": "code",
   "execution_count": 0,
   "metadata": {
    "collapsed": false
   },
   "outputs": [
   ],
   "source": [
    "#calculamos ahora para n=1"
   ]
  },
  {
   "cell_type": "code",
   "execution_count": 44,
   "metadata": {
    "collapsed": false
   },
   "outputs": [
   ],
   "source": [
    "f1=R(x^4)\n",
    "f2=R(y^4-y^3+y^2)\n",
    "f3=R(x^2*y+x^2)\n",
    "f4=R(x*y^2-y^3-x*y+y^2+x-y)\n",
    "f5=R(y+1)"
   ]
  },
  {
   "cell_type": "code",
   "execution_count": 45,
   "metadata": {
    "collapsed": false
   },
   "outputs": [
   ],
   "source": [
    "I=R.ideal([t*f1,t*f2,t*f3,t*f4,(1-t)*f5])"
   ]
  },
  {
   "cell_type": "code",
   "execution_count": 46,
   "metadata": {
    "collapsed": false
   },
   "outputs": [
    {
     "data": {
      "text/plain": [
       "[t*x^4, t*y + t - y - 1, x^2*y + x^2, x*y^2 - x*y + x - y^3 + y^2 - y, y^4 - y^3 + y^2]"
      ]
     },
     "execution_count": 46,
     "metadata": {
     },
     "output_type": "execute_result"
    }
   ],
   "source": [
    "G=I.groebner_basis()\n",
    "G"
   ]
  },
  {
   "cell_type": "code",
   "execution_count": 48,
   "metadata": {
    "collapsed": false
   },
   "outputs": [
    {
     "name": "stdout",
     "output_type": "stream",
     "text": [
      "t*x^4/(y + 1)\n",
      "t - 1\n",
      "x^2\n",
      "x*y + x - y^2 - y\n",
      "y^3 + y^2\n"
     ]
    }
   ],
   "source": [
    "i=0\n",
    "for ele in G:\n",
    "    print(G[i]/f5)\n",
    "    i +=1"
   ]
  },
  {
   "cell_type": "code",
   "execution_count": 49,
   "metadata": {
    "collapsed": false
   },
   "outputs": [
   ],
   "source": [
    "f1=R(x^4)\n",
    "f2=R(y^4-y^3+y^2)\n",
    "f3=R(x^2*y+x^2)\n",
    "f4=R(x*y^2-y^3-x*y+y^2+x-y)\n",
    "f5=R(x^2)"
   ]
  },
  {
   "cell_type": "code",
   "execution_count": 50,
   "metadata": {
    "collapsed": false
   },
   "outputs": [
   ],
   "source": [
    "I=R.ideal([t*f1,t*f2,t*f3,t*f4,(1-t)*f5])"
   ]
  },
  {
   "cell_type": "code",
   "execution_count": 51,
   "metadata": {
    "collapsed": false
   },
   "outputs": [
    {
     "data": {
      "text/plain": [
       "[t*x^2 - x^2, t*x*y^2 - t*x*y + t*x - t*y^3 + t*y^2 - t*y, t*y^4 - t*y^3 + t*y^2, x^4, x^2*y + x^2]"
      ]
     },
     "execution_count": 51,
     "metadata": {
     },
     "output_type": "execute_result"
    }
   ],
   "source": [
    "G=I.groebner_basis()\n",
    "G"
   ]
  },
  {
   "cell_type": "code",
   "execution_count": 52,
   "metadata": {
    "collapsed": false
   },
   "outputs": [
    {
     "name": "stdout",
     "output_type": "stream",
     "text": [
      "t - 1\n",
      "(t*x*y^2 - t*x*y + t*x - t*y^3 + t*y^2 - t*y)/x^2\n",
      "(t*y^4 - t*y^3 + t*y^2)/x^2\n",
      "x^2\n",
      "y + 1\n"
     ]
    }
   ],
   "source": [
    "i=0\n",
    "for ele in G:\n",
    "    print(G[i]/f5)\n",
    "    i +=1"
   ]
  },
  {
   "cell_type": "code",
   "execution_count": 54,
   "metadata": {
    "collapsed": false
   },
   "outputs": [
   ],
   "source": [
    "f1=R(x^2)\n",
    "f2=R(x*y+x-y^2-y)\n",
    "f3=R(y^3+y^2)\n",
    "f4=R(x^2)\n",
    "f5=R(y+1)"
   ]
  },
  {
   "cell_type": "code",
   "execution_count": 55,
   "metadata": {
    "collapsed": false
   },
   "outputs": [
   ],
   "source": [
    "J=R.ideal([t*f1,t*f2,t*f3, (1-t)*f4,(1-t)*f5])"
   ]
  },
  {
   "cell_type": "code",
   "execution_count": 56,
   "metadata": {
    "collapsed": false
   },
   "outputs": [
    {
     "data": {
      "text/plain": [
       "[t*y + t - y - 1, x^2, x*y + x - y^2 - y, y^3 + y^2]"
      ]
     },
     "execution_count": 56,
     "metadata": {
     },
     "output_type": "execute_result"
    }
   ],
   "source": [
    "G=J.groebner_basis()\n",
    "G"
   ]
  },
  {
   "cell_type": "code",
   "execution_count": 18,
   "metadata": {
    "collapsed": false
   },
   "outputs": [
   ],
   "source": [
    "f1=R(x^4)\n",
    "f2=R(y^4-y^3+y^2)\n",
    "f3=R(x^2*y+x^2)\n",
    "f4=R(x*y^2+y^3-x*y-y^2+x+y)\n",
    "f5=R(1-t*(y+1))"
   ]
  },
  {
   "cell_type": "code",
   "execution_count": 19,
   "metadata": {
    "collapsed": false
   },
   "outputs": [
   ],
   "source": [
    "I=R.ideal([f1,f2,f3,f4,f5])"
   ]
  },
  {
   "cell_type": "code",
   "execution_count": 20,
   "metadata": {
    "collapsed": false
   },
   "outputs": [
    {
     "data": {
      "text/plain": [
       "[t^2 + t + 1, x - t + 1, y + t - 1]"
      ]
     },
     "execution_count": 20,
     "metadata": {
     },
     "output_type": "execute_result"
    }
   ],
   "source": [
    "G=I.groebner_basis()\n",
    "G"
   ]
  },
  {
   "cell_type": "code",
   "execution_count": 0,
   "metadata": {
    "collapsed": false
   },
   "outputs": [
   ],
   "source": [
    "#calculamos para n=2"
   ]
  },
  {
   "cell_type": "code",
   "execution_count": 61,
   "metadata": {
    "collapsed": false
   },
   "outputs": [
   ],
   "source": [
    "f1=R(x^4)\n",
    "f2=R(y^4-y^3+y^2)\n",
    "f3=R(x^2*y+x^2)\n",
    "f4=R(x*y^2-y^3-x*y+y^2+x-y)\n",
    "f5=R((y+1)^2)"
   ]
  },
  {
   "cell_type": "code",
   "execution_count": 62,
   "metadata": {
    "collapsed": false
   },
   "outputs": [
   ],
   "source": [
    "I=R.ideal([t*f1,t*f2,t*f3,t*f4,(1-t)*f5])"
   ]
  },
  {
   "cell_type": "code",
   "execution_count": 63,
   "metadata": {
    "collapsed": false
   },
   "outputs": [
    {
     "data": {
      "text/plain": [
       "[t*x^4, t*x^2*y + t*x^2, t*y^2 - t*y + t - y^2 + y - 1, x*y^2 - x*y + x - y^3 + y^2 - y, y^4 - y^3 + y^2]"
      ]
     },
     "execution_count": 63,
     "metadata": {
     },
     "output_type": "execute_result"
    }
   ],
   "source": [
    "G=I.groebner_basis()\n",
    "G"
   ]
  },
  {
   "cell_type": "code",
   "execution_count": 64,
   "metadata": {
    "collapsed": false
   },
   "outputs": [
    {
     "name": "stdout",
     "output_type": "stream",
     "text": [
      "t*x^4/(y^2 - y + 1)\n",
      "t*x^2/(y + 1)\n",
      "t - 1\n",
      "x - y\n",
      "y^2\n"
     ]
    }
   ],
   "source": [
    "i=0\n",
    "for ele in G:\n",
    "    print(G[i]/f5)\n",
    "    i +=1"
   ]
  },
  {
   "cell_type": "code",
   "execution_count": 69,
   "metadata": {
    "collapsed": false
   },
   "outputs": [
   ],
   "source": [
    "f1=R(x^4)\n",
    "f2=R(y^4-y^3+y^2)\n",
    "f3=R(x^2*y+x^2)\n",
    "f4=R(x*y^2-y^3-x*y+y^2+x-y)\n",
    "f5=R((y+1)*x^2)"
   ]
  },
  {
   "cell_type": "code",
   "execution_count": 70,
   "metadata": {
    "collapsed": false
   },
   "outputs": [
   ],
   "source": [
    "I=R.ideal([t*f1,t*f2,t*f3,t*f4,(1-t)*f5])"
   ]
  },
  {
   "cell_type": "code",
   "execution_count": 71,
   "metadata": {
    "collapsed": false
   },
   "outputs": [
    {
     "data": {
      "text/plain": [
       "[t*x^4, t*x*y^2 - t*x*y + t*x - t*y^3 + t*y^2 - t*y, t*y^4 - t*y^3 + t*y^2, x^2*y + x^2]"
      ]
     },
     "execution_count": 71,
     "metadata": {
     },
     "output_type": "execute_result"
    }
   ],
   "source": [
    "G=I.groebner_basis()\n",
    "G"
   ]
  },
  {
   "cell_type": "code",
   "execution_count": 72,
   "metadata": {
    "collapsed": false
   },
   "outputs": [
    {
     "name": "stdout",
     "output_type": "stream",
     "text": [
      "t*x^2/(y + 1)\n",
      "(t*x*y + t*x - t*y^2 - t*y)/x^2\n",
      "(t*y^3 + t*y^2)/x^2\n",
      "1\n"
     ]
    }
   ],
   "source": [
    "i=0\n",
    "for ele in G:\n",
    "    print(G[i]/f5)\n",
    "    i +=1"
   ]
  },
  {
   "cell_type": "code",
   "execution_count": 73,
   "metadata": {
    "collapsed": false
   },
   "outputs": [
   ],
   "source": [
    "f1=R(x^4)\n",
    "f2=R(y^4-y^3+y^2)\n",
    "f3=R(x^2*y+x^2)\n",
    "f4=R(x*y^2-y^3-x*y+y^2+x-y)\n",
    "f5=R(x^4)"
   ]
  },
  {
   "cell_type": "code",
   "execution_count": 74,
   "metadata": {
    "collapsed": false
   },
   "outputs": [
   ],
   "source": [
    "I=R.ideal([t*f1,t*f2,t*f3,t*f4,(1-t)*f5])"
   ]
  },
  {
   "cell_type": "code",
   "execution_count": 75,
   "metadata": {
    "collapsed": false
   },
   "outputs": [
    {
     "data": {
      "text/plain": [
       "[t*x^2*y + t*x^2, t*x*y^2 - t*x*y + t*x - t*y^3 + t*y^2 - t*y, t*y^4 - t*y^3 + t*y^2, x^4]"
      ]
     },
     "execution_count": 75,
     "metadata": {
     },
     "output_type": "execute_result"
    }
   ],
   "source": [
    "G=I.groebner_basis()\n",
    "G"
   ]
  },
  {
   "cell_type": "code",
   "execution_count": 76,
   "metadata": {
    "collapsed": false
   },
   "outputs": [
    {
     "name": "stdout",
     "output_type": "stream",
     "text": [
      "(t*y + t)/x^2\n",
      "(t*x*y^2 - t*x*y + t*x - t*y^3 + t*y^2 - t*y)/x^4\n",
      "(t*y^4 - t*y^3 + t*y^2)/x^4\n",
      "1\n"
     ]
    }
   ],
   "source": [
    "i=0\n",
    "for ele in G:\n",
    "    print(G[i]/f5)\n",
    "    i +=1"
   ]
  },
  {
   "cell_type": "code",
   "execution_count": 31,
   "metadata": {
    "collapsed": false
   },
   "outputs": [
   ],
   "source": [
    "#EJERCICIO 4"
   ]
  },
  {
   "cell_type": "code",
   "execution_count": 36,
   "metadata": {
    "collapsed": false
   },
   "outputs": [
   ],
   "source": [
    "P.<x,y>=PolynomialRing(GF(3), order='lex')"
   ]
  },
  {
   "cell_type": "code",
   "execution_count": 37,
   "metadata": {
    "collapsed": false
   },
   "outputs": [
   ],
   "source": [
    "f1=P(x^2-x)\n",
    "f2=P(x^3-y^3)"
   ]
  },
  {
   "cell_type": "code",
   "execution_count": 38,
   "metadata": {
    "collapsed": false
   },
   "outputs": [
   ],
   "source": [
    "I=P.ideal([f1,f2])"
   ]
  },
  {
   "cell_type": "code",
   "execution_count": 39,
   "metadata": {
    "collapsed": false
   },
   "outputs": [
    {
     "data": {
      "text/plain": [
       "[y^3 - x, x^2 - x]"
      ]
     },
     "execution_count": 39,
     "metadata": {
     },
     "output_type": "execute_result"
    }
   ],
   "source": [
    "G=I.groebner_basis()\n",
    "G"
   ]
  },
  {
   "cell_type": "code",
   "execution_count": 34,
   "metadata": {
    "collapsed": false
   },
   "outputs": [
   ],
   "source": [
    "R.<t,x,y>=PolynomialRing(GF(3), order='deglex')"
   ]
  },
  {
   "cell_type": "code",
   "execution_count": 40,
   "metadata": {
    "collapsed": false
   },
   "outputs": [
   ],
   "source": [
    "f1=R(x^2 - x)\n",
    "f2=R(y^3 - x)\n",
    "f3=R(1-t*x^2+t*y)"
   ]
  },
  {
   "cell_type": "code",
   "execution_count": 41,
   "metadata": {
    "collapsed": false
   },
   "outputs": [
   ],
   "source": [
    "J=R.ideal([f2,f1,f3])"
   ]
  },
  {
   "cell_type": "code",
   "execution_count": 42,
   "metadata": {
    "collapsed": false
   },
   "outputs": [
    {
     "data": {
      "text/plain": [
       "[1]"
      ]
     },
     "execution_count": 42,
     "metadata": {
     },
     "output_type": "execute_result"
    }
   ],
   "source": [
    "G=J.groebner_basis()\n",
    "G"
   ]
  },
  {
   "cell_type": "code",
   "execution_count": 0,
   "metadata": {
    "collapsed": false
   },
   "outputs": [
   ],
   "source": [
   ]
  },
  {
   "cell_type": "code",
   "execution_count": 77,
   "metadata": {
    "collapsed": false
   },
   "outputs": [
   ],
   "source": [
    "#EJERCICIO 2"
   ]
  },
  {
   "cell_type": "code",
   "execution_count": 78,
   "metadata": {
    "collapsed": false
   },
   "outputs": [
   ],
   "source": [
    "R.<u,v,x1,x2,x3,x4>=PolynomialRing(QQ, order='lex')"
   ]
  },
  {
   "cell_type": "code",
   "execution_count": 5,
   "metadata": {
    "collapsed": false
   },
   "outputs": [
   ],
   "source": [
    "f1=R(x1-u-v)\n",
    "f2=R(x2-u*v)\n",
    "f3=R(x3-u*v-u)\n",
    "f4=R(x4-u*v^2-u*v)"
   ]
  },
  {
   "cell_type": "code",
   "execution_count": 6,
   "metadata": {
    "collapsed": false
   },
   "outputs": [
   ],
   "source": [
    "I=R.ideal([f1,f2,f3,f4])"
   ]
  },
  {
   "cell_type": "code",
   "execution_count": 7,
   "metadata": {
    "collapsed": false
   },
   "outputs": [
    {
     "data": {
      "text/plain": [
       "[u + x2 - x3, v - x1 - x2 + x3, x1*x2 + x2^2 + x2*x4 + x2 - x3*x4 - x4, x1*x3 - x2*x4 - x3^2 + x3*x4 - x4, x2*x3 + x2*x4 - x3*x4]"
      ]
     },
     "execution_count": 7,
     "metadata": {
     },
     "output_type": "execute_result"
    }
   ],
   "source": [
    "G=I.groebner_basis()\n",
    "G"
   ]
  },
  {
   "cell_type": "code",
   "execution_count": 83,
   "metadata": {
    "collapsed": false
   },
   "outputs": [
   ],
   "source": [
    "S.<x1,x2,x3,x4>=PolynomialRing(QQ, order='deglex')"
   ]
  },
  {
   "cell_type": "code",
   "execution_count": 84,
   "metadata": {
    "collapsed": false
   },
   "outputs": [
   ],
   "source": [
    "f1=S(x1*x2 + x2^2 + x2*x4 + x2 - x3*x4 - x4)\n",
    "f2=S(x1*x3 - x2*x4 - x3^2 + x3*x4 - x4)\n",
    "f3=S(x2*x3 + x2*x4 - x3*x4)"
   ]
  },
  {
   "cell_type": "code",
   "execution_count": 85,
   "metadata": {
    "collapsed": false
   },
   "outputs": [
   ],
   "source": [
    "J=S.ideal([f1,f2,f3])"
   ]
  },
  {
   "cell_type": "code",
   "execution_count": 86,
   "metadata": {
    "collapsed": false
   },
   "outputs": [
    {
     "data": {
      "text/plain": [
       "[x1*x2 + x2^2 + x2*x4 - x3*x4 + x2 - x4, x1*x3 - x2*x4 - x3^2 + x3*x4 - x4, x2*x3 + x2*x4 - x3*x4]"
      ]
     },
     "execution_count": 86,
     "metadata": {
     },
     "output_type": "execute_result"
    }
   ],
   "source": [
    "G=J.groebner_basis()\n",
    "G"
   ]
  },
  {
   "cell_type": "code",
   "execution_count": 1,
   "metadata": {
    "collapsed": false
   },
   "outputs": [
   ],
   "source": [
    "#APARTADO B"
   ]
  },
  {
   "cell_type": "code",
   "execution_count": 17,
   "metadata": {
    "collapsed": false
   },
   "outputs": [
   ],
   "source": [
    "R.<u,v,x1,x2,x3,x4>=PolynomialRing(QQ, order='lex')"
   ]
  },
  {
   "cell_type": "code",
   "execution_count": 18,
   "metadata": {
    "collapsed": false
   },
   "outputs": [
   ],
   "source": [
    "f1=R(x1-u*v)\n",
    "f2=R(x2-u-v)\n",
    "f3=R(x3-u*v-v)\n",
    "f4=R(x4-u^2-v^2)"
   ]
  },
  {
   "cell_type": "code",
   "execution_count": 19,
   "metadata": {
    "collapsed": false
   },
   "outputs": [
   ],
   "source": [
    "I=R.ideal([f1,f2,f3,f4])"
   ]
  },
  {
   "cell_type": "code",
   "execution_count": 20,
   "metadata": {
    "collapsed": false
   },
   "outputs": [
    {
     "data": {
      "text/plain": [
       "[u - 1/2*x2^2 - x2 + x3 + 1/2*x4, v + 1/2*x2^2 - x3 - 1/2*x4, x1 - 1/2*x2^2 + 1/2*x4, x2^4 + 2*x2^3 - 4*x2^2*x3 - 2*x2^2*x4 + 2*x2^2 - 4*x2*x3 - 2*x2*x4 + 4*x3^2 + 4*x3*x4 + x4^2 - 2*x4]"
      ]
     },
     "execution_count": 20,
     "metadata": {
     },
     "output_type": "execute_result"
    }
   ],
   "source": [
    "G=I.groebner_basis()\n",
    "G"
   ]
  },
  {
   "cell_type": "code",
   "execution_count": 21,
   "metadata": {
    "collapsed": false
   },
   "outputs": [
   ],
   "source": [
    "S.<x1,x2,x3,x4>=PolynomialRing(QQ, order='deglex')"
   ]
  },
  {
   "cell_type": "code",
   "execution_count": 22,
   "metadata": {
    "collapsed": false
   },
   "outputs": [
   ],
   "source": [
    "f1=S(x1 - 1/2*x2^2 + 1/2*x4)\n",
    "f2=S(x2^4 + 2*x2^3 - 4*x2^2*x3 - 2*x2^2*x4 + 2*x2^2 - 4*x2*x3 - 2*x2*x4 + 4*x3^2 + 4*x3*x4 + x4^2 - 2*x4)"
   ]
  },
  {
   "cell_type": "code",
   "execution_count": 23,
   "metadata": {
    "collapsed": false
   },
   "outputs": [
   ],
   "source": [
    "J=S.ideal([f1,f2])"
   ]
  },
  {
   "cell_type": "code",
   "execution_count": 24,
   "metadata": {
    "collapsed": false
   },
   "outputs": [
    {
     "data": {
      "text/plain": [
       "[x1^2 + x1*x2 - 2*x1*x3 - x2*x3 + x3^2 + x1, x2^2 - 2*x1 - x4]"
      ]
     },
     "execution_count": 24,
     "metadata": {
     },
     "output_type": "execute_result"
    }
   ],
   "source": [
    "G=J.groebner_basis()\n",
    "G"
   ]
  },
  {
   "cell_type": "code",
   "execution_count": 25,
   "metadata": {
    "collapsed": false
   },
   "outputs": [
   ],
   "source": [
    "P.<v,x1,x2,x3,x4>=PolynomialRing(QQ, order='lex')"
   ]
  },
  {
   "cell_type": "code",
   "execution_count": 26,
   "metadata": {
    "collapsed": false
   },
   "outputs": [
   ],
   "source": [
    "I=P.ideal([x1,x2-v,x3-v,x4-v^2])"
   ]
  },
  {
   "cell_type": "code",
   "execution_count": 27,
   "metadata": {
    "collapsed": false
   },
   "outputs": [
    {
     "data": {
      "text/plain": [
       "[v - x3, x1, x2 - x3, x3^2 - x4]"
      ]
     },
     "execution_count": 27,
     "metadata": {
     },
     "output_type": "execute_result"
    }
   ],
   "source": [
    "G=I.groebner_basis()\n",
    "G"
   ]
  },
  {
   "cell_type": "code",
   "execution_count": 0,
   "metadata": {
    "collapsed": false
   },
   "outputs": [
   ],
   "source": [
   ]
  }
 ],
 "metadata": {
  "kernelspec": {
   "display_name": "SageMath 9.7",
   "language": "sagemath",
   "metadata": {
    "cocalc": {
     "description": "Open-source mathematical software system",
     "priority": 10,
     "url": "https://www.sagemath.org/"
    }
   },
   "name": "sage-9.7",
   "resource_dir": "/ext/jupyter/kernels/sage-9.7"
  },
  "language_info": {
   "codemirror_mode": {
    "name": "ipython",
    "version": 3
   },
   "file_extension": ".py",
   "mimetype": "text/x-python",
   "name": "python",
   "nbconvert_exporter": "python",
   "pygments_lexer": "ipython3",
   "version": "3.10.5"
  }
 },
 "nbformat": 4,
 "nbformat_minor": 4
}