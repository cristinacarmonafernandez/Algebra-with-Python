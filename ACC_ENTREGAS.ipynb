{
 "cells": [
  {
   "cell_type": "code",
   "execution_count": 3,
   "metadata": {
    "collapsed": false
   },
   "outputs": [
   ],
   "source": [
    "R.<t,x,y,z>=PolynomialRing(GF(5),order='lex')"
   ]
  },
  {
   "cell_type": "code",
   "execution_count": 4,
   "metadata": {
    "collapsed": false
   },
   "outputs": [
   ],
   "source": [
    "f1=R(x^2*y*z+y*z^2)\n",
    "f2=R(y^2*z+y*z^2)\n",
    "f3=R(x-y*z)"
   ]
  },
  {
   "cell_type": "code",
   "execution_count": 5,
   "metadata": {
    "collapsed": false
   },
   "outputs": [
   ],
   "source": [
    "I=R.ideal([f1,f2,1-t*f3])"
   ]
  },
  {
   "cell_type": "code",
   "execution_count": 6,
   "metadata": {
    "collapsed": false
   },
   "outputs": [
    {
     "data": {
      "text/plain": [
       "[t*x - t*y*z - 1, t*y*z^5 + t*y*z^2 + x*y*z - y*z^3, x^2*y*z + y*z^2, y^2*z + y*z^2]"
      ]
     },
     "execution_count": 6,
     "metadata": {
     },
     "output_type": "execute_result"
    }
   ],
   "source": [
    "G=I.groebner_basis()\n",
    "G"
   ]
  },
  {
   "cell_type": "code",
   "execution_count": 7,
   "metadata": {
    "collapsed": false
   },
   "outputs": [
   ],
   "source": [
    "H=R.ideal([t*f1,t*f2,(1-t)*f3])"
   ]
  },
  {
   "cell_type": "code",
   "execution_count": 9,
   "metadata": {
    "collapsed": false
   },
   "outputs": [
    {
     "data": {
      "text/plain": [
       "[t*x - t*y*z - x + y*z, t*y^2*z + t*y*z^2, t*y*z^5 + t*y*z^2 + x^2*y*z - y^3*z^3, x^3*y*z + x^2*y*z^3 + x*y*z^2 - y^4*z^4 - y^3*z^5 - y^2*z^3, x*y^2*z + x*y*z^2 - y^3*z^2 - y^2*z^3]"
      ]
     },
     "execution_count": 9,
     "metadata": {
     },
     "output_type": "execute_result"
    }
   ],
   "source": [
    "G=H.groebner_basis()\n",
    "G"
   ]
  },
  {
   "cell_type": "code",
   "execution_count": 10,
   "metadata": {
    "collapsed": false
   },
   "outputs": [
    {
     "name": "stdout",
     "output_type": "stream",
     "text": [
      "t - 1\n",
      "(t*y^2*z + t*y*z^2)/(x - y*z)\n",
      "(t*y*z^5 + t*y*z^2 + x^2*y*z - y^3*z^3)/(x - y*z)\n",
      "x^2*y*z + x*y^2*z^2 + x*y*z^3 + y^3*z^3 + y^2*z^4 + y*z^2\n",
      "y^2*z + y*z^2\n"
     ]
    }
   ],
   "source": [
    "i=0\n",
    "for ele in G:\n",
    "    print(G[i]/f3)\n",
    "    i +=1"
   ]
  },
  {
   "cell_type": "code",
   "execution_count": 1,
   "metadata": {
    "collapsed": false
   },
   "outputs": [
   ],
   "source": [
    "#EJERCICIO 4"
   ]
  },
  {
   "cell_type": "code",
   "execution_count": 7,
   "metadata": {
    "collapsed": false
   },
   "outputs": [
   ],
   "source": [
    "R.<t1,t2,x1,x2,x3>=PolynomialRing(QQ, order='lex')"
   ]
  },
  {
   "cell_type": "code",
   "execution_count": 8,
   "metadata": {
    "collapsed": false
   },
   "outputs": [
   ],
   "source": [
    "f1=R(x1-t1-t2)\n",
    "f2=R(x2-t1*t2)\n",
    "f3=R(x3-t1+t2^2)"
   ]
  },
  {
   "cell_type": "code",
   "execution_count": 9,
   "metadata": {
    "collapsed": false
   },
   "outputs": [
   ],
   "source": [
    "I=R.ideal([f1,f2,f3])"
   ]
  },
  {
   "cell_type": "code",
   "execution_count": 10,
   "metadata": {
    "collapsed": false
   },
   "outputs": [
    {
     "data": {
      "text/plain": [
       "[t1 + t2 - x1, t2^2 + t2 - x1 + x3, t2*x1 + t2 - x1 - x2 + x3, t2*x2 - t2*x3 - t2 - x1^2 + x1*x3 + x1 + 2*x2 - x3, x1^3 - x1^2*x3 - 3*x1*x2 + x1*x3 - x2^2 + 2*x2*x3 - x2 - x3^2]"
      ]
     },
     "execution_count": 10,
     "metadata": {
     },
     "output_type": "execute_result"
    }
   ],
   "source": [
    "G=I.groebner_basis()\n",
    "G"
   ]
  },
  {
   "cell_type": "code",
   "execution_count": 11,
   "metadata": {
    "collapsed": false
   },
   "outputs": [
   ],
   "source": [
    "S.<x1,x2,x3>=PolynomialRing(QQ, order='deglex')"
   ]
  },
  {
   "cell_type": "code",
   "execution_count": 12,
   "metadata": {
    "collapsed": false
   },
   "outputs": [
   ],
   "source": [
    "J=S.ideal([ x1^3 - x1^2*x3 - 3*x1*x2 + x1*x3 - x2^2 + 2*x2*x3 - x2 - x3^2])"
   ]
  },
  {
   "cell_type": "code",
   "execution_count": 13,
   "metadata": {
    "collapsed": false
   },
   "outputs": [
    {
     "data": {
      "text/plain": [
       "[x1^3 - x1^2*x3 - 3*x1*x2 + x1*x3 - x2^2 + 2*x2*x3 - x3^2 - x2]"
      ]
     },
     "execution_count": 13,
     "metadata": {
     },
     "output_type": "execute_result"
    }
   ],
   "source": [
    "G=J.groebner_basis()\n",
    "G"
   ]
  },
  {
   "cell_type": "code",
   "execution_count": 0,
   "metadata": {
    "collapsed": false
   },
   "outputs": [
   ],
   "source": [
   ]
  }
 ],
 "metadata": {
  "kernelspec": {
   "display_name": "SageMath 9.7",
   "language": "sagemath",
   "metadata": {
    "cocalc": {
     "description": "Open-source mathematical software system",
     "priority": 10,
     "url": "https://www.sagemath.org/"
    }
   },
   "name": "sage-9.7",
   "resource_dir": "/ext/jupyter/kernels/sage-9.7"
  },
  "language_info": {
   "codemirror_mode": {
    "name": "ipython",
    "version": 3
   },
   "file_extension": ".py",
   "mimetype": "text/x-python",
   "name": "python",
   "nbconvert_exporter": "python",
   "pygments_lexer": "ipython3",
   "version": "3.10.5"
  }
 },
 "nbformat": 4,
 "nbformat_minor": 4
}